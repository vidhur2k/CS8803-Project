{
 "cells": [
  {
   "cell_type": "markdown",
   "metadata": {},
   "source": [
    "# Vanilla OFA Experiments\n",
    "\n",
    "These are the experiments to test the performance of the vanilla OFA implementation. If you are running an experiment to test the validity of a particular design space, please make sure to load the approrpiate OFA network before doing so. The cells corresponding to each design space have been marked with \"DESIGN SPACE: <NAME>\" at the top of the cell.\n",
    "     \n",
    "We do not recommend running any of the experiments as they may take a while (we average over 10 runs). Please run the cell under the DEMO section to see bottom-up in action. Before running it, make sure you run all cells in the PREP section"
   ]
  },
  {
   "cell_type": "markdown",
   "metadata": {},
   "source": [
    "# PREP"
   ]
  },
  {
   "cell_type": "code",
   "execution_count": 6,
   "metadata": {},
   "outputs": [
    {
     "name": "stdout",
     "output_type": "stream",
     "text": [
      "Installing PyTorch...\n",
      "Installing torchvision...\n",
      "Installing numpy...\n",
      "Installing thop (FLOPs counter) ...\n",
      "Installing OFA...\n",
      "Installing tqdm (progress bar) ...\n",
      "Installing matplotlib...\n",
      "All required packages have been successfully installed!\n"
     ]
    }
   ],
   "source": [
    "print('Installing PyTorch...')\n",
    "! pip install torch 1>/dev/null\n",
    "print('Installing torchvision...')\n",
    "! pip install torchvision 1>/dev/null\n",
    "print('Installing numpy...')\n",
    "! pip install numpy 1>/dev/null\n",
    "# thop is a package for FLOPs computing.\n",
    "print('Installing thop (FLOPs counter) ...')\n",
    "! pip install thop 1>/dev/null\n",
    "# ofa is a package containing training code, pretrained specialized models and inference code for the once-for-all networks.\n",
    "print('Installing OFA...')\n",
    "! pip install ofa 1>/dev/null\n",
    "# tqdm is a package for displaying a progress bar.\n",
    "print('Installing tqdm (progress bar) ...')\n",
    "! pip install tqdm 1>/dev/null\n",
    "print('Installing matplotlib...')\n",
    "! pip install matplotlib 1>/dev/null\n",
    "print('All required packages have been successfully installed!')"
   ]
  },
  {
   "cell_type": "markdown",
   "metadata": {},
   "source": [
    "Then, we can import the packages used in this tutorial:"
   ]
  },
  {
   "cell_type": "code",
   "execution_count": 12,
   "metadata": {},
   "outputs": [
    {
     "name": "stdout",
     "output_type": "stream",
     "text": [
      "Successfully imported all packages and configured random seed to 1!\n"
     ]
    }
   ],
   "source": [
    "import os\n",
    "import torch\n",
    "import torch.nn as nn\n",
    "from torchvision import transforms, datasets\n",
    "import numpy as np\n",
    "import time\n",
    "import random\n",
    "import math\n",
    "import copy\n",
    "from matplotlib import pyplot as plt\n",
    "\n",
    "from ofa.model_zoo import ofa_net\n",
    "from ofa.utils import download_url\n",
    "\n",
    "# from ofa.tutorial.accuracy_predictor import AccuracyPredictor\n",
    "# from ofa.tutorial.flops_table import FLOPsTable\n",
    "# from ofa.tutorial.latency_table import LatencyTable\n",
    "# from ofa.tutorial.evolution_finder import EvolutionFinder\n",
    "# from ofa.tutorial.imagenet_eval_helper import evaluate_ofa_subnet, evaluate_ofa_specialized\n",
    "import ofa\n",
    "from ofa.tutorial import AccuracyPredictor, FLOPsTable, LatencyTable, EvolutionFinder\n",
    "from ofa.tutorial import evaluate_ofa_subnet, evaluate_ofa_specialized\n",
    "\n",
    "# set random seed\n",
    "random_seed = 1\n",
    "random.seed(random_seed)\n",
    "np.random.seed(random_seed)\n",
    "torch.manual_seed(random_seed)\n",
    "print('Successfully imported all packages and configured random seed to %d!'%random_seed)"
   ]
  },
  {
   "cell_type": "markdown",
   "metadata": {},
   "source": [
    "Now it's time to determine which device to use for neural network inference in the rest of this tutorial. If your machine is equipped with GPU(s), we will use the GPU by default. Otherwise, we will use the CPU."
   ]
  },
  {
   "cell_type": "code",
   "execution_count": 2,
   "metadata": {
    "pycharm": {
     "name": "#%%\n"
    }
   },
   "outputs": [
    {
     "name": "stdout",
     "output_type": "stream",
     "text": [
      "Using CPU.\n"
     ]
    }
   ],
   "source": [
    "#os.environ['CUDA_VISIBLE_DEVICES'] = '0'\n",
    "cuda_available = torch.cuda.is_available()\n",
    "if cuda_available:\n",
    "    torch.backends.cudnn.enabled = True\n",
    "    torch.backends.cudnn.benchmark = True\n",
    "    torch.cuda.manual_seed(random_seed)\n",
    "    print('Using GPU.')\n",
    "else:\n",
    "    print('Using CPU.')"
   ]
  },
  {
   "cell_type": "markdown",
   "metadata": {},
   "source": [
    "Good! Now you have successfully configured the environment! It's time to import the **OFA network** for the following experiments.\n",
    "The OFA network used in this tutorial is built upon MobileNetV3 with width multiplier 1.2, supporting elastic depth (2, 3, 4) per stage, elastic expand ratio (3, 4, 6), and elastic kernel size (3, 5 7) per block."
   ]
  },
  {
   "cell_type": "code",
   "execution_count": 3,
   "metadata": {
    "pycharm": {
     "name": "#%%\n"
    }
   },
   "outputs": [
    {
     "name": "stdout",
     "output_type": "stream",
     "text": [
      "The OFA Network is ready.\n"
     ]
    }
   ],
   "source": [
    "ofa_network = ofa_net('ofa_mbv3_d234_e346_k357_w1.2', pretrained=True)\n",
    "print('The OFA Network is ready.')"
   ]
  },
  {
   "cell_type": "markdown",
   "metadata": {
    "pycharm": {
     "name": "#%% md\n"
    }
   },
   "source": [
    "Now, let's build the ImageNet dataset and the corresponding dataloader. Notice that **if you're using the CPU,\n",
    "we will skip ImageNet evaluation by default** since it will be very slow.\n",
    "If you are using the GPU, in case you don't have the full dataset,\n",
    "we will download a subset of ImageNet which contains 2,000 images (~250M) for testing.\n",
    "If you do have the full ImageNet dataset on your machine, just specify it in `imagenet_data_path` and the downloading script will be skipped."
   ]
  },
  {
   "cell_type": "code",
   "execution_count": 4,
   "metadata": {
    "pycharm": {
     "name": "#%%\n"
    }
   },
   "outputs": [
    {
     "name": "stdout",
     "output_type": "stream",
     "text": [
      "Since GPU is not found in the environment, we skip all scripts related to ImageNet evaluation.\n"
     ]
    }
   ],
   "source": [
    "if cuda_available:\n",
    "    # path to the ImageNet dataset\n",
    "    print(\"Please input the path to the ImageNet dataset.\\n\")\n",
    "    imagenet_data_path = input()\n",
    "\n",
    "    # if 'imagenet_data_path' is empty, download a subset of ImageNet containing 2000 images (~250M) for test\n",
    "    if not os.path.isdir(imagenet_data_path):\n",
    "        os.makedirs(imagenet_data_path, exist_ok=True)\n",
    "        download_url('https://hanlab.mit.edu/files/OnceForAll/ofa_cvpr_tutorial/imagenet_1k.zip', model_dir='data')\n",
    "        ! cd data && unzip imagenet_1k 1>/dev/null && cd ..\n",
    "        ! cp -r data/imagenet_1k/* $imagenet_data_path\n",
    "        ! rm -rf data\n",
    "        print('%s is empty. Download a subset of ImageNet for test.' % imagenet_data_path)\n",
    "\n",
    "    print('The ImageNet dataset files are ready.')\n",
    "else:\n",
    "    print('Since GPU is not found in the environment, we skip all scripts related to ImageNet evaluation.')"
   ]
  },
  {
   "cell_type": "markdown",
   "metadata": {},
   "source": [
    "Now you have configured the dataset. Let's build the dataloader for evaluation.\n",
    "Again, this will be skipped if you are in a CPU environment."
   ]
  },
  {
   "cell_type": "code",
   "execution_count": 5,
   "metadata": {},
   "outputs": [
    {
     "name": "stdout",
     "output_type": "stream",
     "text": [
      "Since GPU is not found in the environment, we skip all scripts related to ImageNet evaluation.\n"
     ]
    }
   ],
   "source": [
    "if cuda_available:\n",
    "    # The following function build the data transforms for test\n",
    "    def build_val_transform(size):\n",
    "        return transforms.Compose([\n",
    "            transforms.Resize(int(math.ceil(size / 0.875))),\n",
    "            transforms.CenterCrop(size),\n",
    "            transforms.ToTensor(),\n",
    "            transforms.Normalize(\n",
    "                mean=[0.485, 0.456, 0.406],\n",
    "                std=[0.229, 0.224, 0.225]\n",
    "            ),\n",
    "        ])\n",
    "\n",
    "    data_loader = torch.utils.data.DataLoader(\n",
    "        datasets.ImageFolder(\n",
    "            root=os.path.join(imagenet_data_path, 'val'),\n",
    "            transform=build_val_transform(224)\n",
    "        ),\n",
    "        batch_size=250,  # test batch size\n",
    "        shuffle=True,\n",
    "        num_workers=16,  # number of workers for the data loader\n",
    "        pin_memory=True,\n",
    "        drop_last=False,\n",
    "    )\n",
    "    print('The ImageNet dataloader is ready.')\n",
    "else:\n",
    "    data_loader = None\n",
    "    print('Since GPU is not found in the environment, we skip all scripts related to ImageNet evaluation.')"
   ]
  },
  {
   "cell_type": "markdown",
   "metadata": {},
   "source": [
    "## 2. Using Pretrained Specialized OFA Sub-Networks\n",
    "![](https://hanlab.mit.edu/files/OnceForAll/figures/select_subnets.png)\n",
    "The specialized OFA sub-networks are \"small\" networks sampled from the \"big\" OFA network as is indicated in the figure above.\n",
    "The OFA network supports over $10^{19}$ sub-networks simultaneously, so that the deployment cost for multiple scenarios can be saved by 16$\\times$ to 1300$\\times$ under 40 deployment scenarios.\n",
    "Now, let's play with some of the sub-networks through the following interactive command line prompt (**Notice that for CPU users, this will be skipped**).\n",
    "We recommend you to try a smaller sub-network (e.g., the sub-network for pixel1 with 20ms inference latency constraint) so that it takes less time to evaluate the model on ImageNet."
   ]
  },
  {
   "cell_type": "code",
   "execution_count": 6,
   "metadata": {},
   "outputs": [
    {
     "name": "stdout",
     "output_type": "stream",
     "text": [
      "Since GPU is not found in the environment, we skip all scripts related to ImageNet evaluation.\n"
     ]
    }
   ],
   "source": [
    "if cuda_available:\n",
    "    net_id = evaluate_ofa_specialized(imagenet_data_path, data_loader)\n",
    "    print('Finished evaluating the pretrained sub-network: %s!' % net_id)\n",
    "else:\n",
    "    print('Since GPU is not found in the environment, we skip all scripts related to ImageNet evaluation.')"
   ]
  },
  {
   "cell_type": "markdown",
   "metadata": {},
   "source": [
    "## 3 Efficient Deployment with OFA Networks\n",
    "\n",
    "You have now successfully prepared the whole environment for the experiment!\n",
    "In the next step, we will introduce **how to get efficient, specialized neural networks within minutes**\n",
    "powered by the OFA network.\n",
    "\n",
    "### 3.1 Latency-Constrained Efficient Deployment on Samsung Note10\n",
    "\n",
    "The key components of very fast neural network deployment are **accuracy predictors** and **efficiency predictors**.\n",
    "For the accuracy predictor, it predicts the Top-1 accuracy of a given sub-network on a **holdout validation set**\n",
    "(different from the official 50K validation set) so that we do **NOT** need to run very costly inference on ImageNet\n",
    "while searching for specialized models. Such an accuracy predictor is trained using an accuracy dataset built with the OFA network.\n",
    "\n",
    "![](https://hanlab.mit.edu/files/OnceForAll/figures/predictor_based_search.png)"
   ]
  },
  {
   "cell_type": "code",
   "execution_count": 7,
   "metadata": {
    "pycharm": {
     "name": "#%%\n"
    }
   },
   "outputs": [
    {
     "name": "stdout",
     "output_type": "stream",
     "text": [
      "The accuracy predictor is ready!\n",
      "Sequential(\n",
      "  (0): Linear(in_features=128, out_features=400, bias=True)\n",
      "  (1): ReLU()\n",
      "  (2): Linear(in_features=400, out_features=400, bias=True)\n",
      "  (3): ReLU()\n",
      "  (4): Linear(in_features=400, out_features=400, bias=True)\n",
      "  (5): ReLU()\n",
      "  (6): Linear(in_features=400, out_features=1, bias=True)\n",
      ")\n"
     ]
    }
   ],
   "source": [
    "# accuracy predictor\n",
    "accuracy_predictor = AccuracyPredictor(\n",
    "    pretrained=True,\n",
    "    device='cuda:0' if cuda_available else 'cpu'\n",
    ")\n",
    "\n",
    "print('The accuracy predictor is ready!')\n",
    "print(accuracy_predictor.model)"
   ]
  },
  {
   "cell_type": "markdown",
   "metadata": {},
   "source": [
    "Now, we have the powerful **accuracy predictor**. We then introduce two types of **efficiency predictors**: the latency predictor and the FLOPs predictor. \n",
    "\n",
    "The intuition of having efficiency predictors, especially the latency predictor, is that measuring the latency of a sub-network on-the-fly is also costly, especially for mobile devices.\n",
    "The latency predictor is designed to eliminate this cost.\n",
    "Let's load a latency predictor we built beforehand for the Samsung Note10."
   ]
  },
  {
   "cell_type": "code",
   "execution_count": 8,
   "metadata": {
    "pycharm": {
     "name": "#%%\n"
    }
   },
   "outputs": [
    {
     "name": "stderr",
     "output_type": "stream",
     "text": [
      "Downloading: \"https://hanlab.mit.edu/files/OnceForAll/tutorial/latency_table@note10/160_lookup_table.yaml\" to /Users/vidhur2k/.hancai/latency_tools/160_lookup_table.yaml\n",
      "/Users/vidhur2k/anaconda3/lib/python3.7/site-packages/ofa/tutorial/latency_table.py:15: YAMLLoadWarning: calling yaml.load() without Loader=... is deprecated, as the default Loader is unsafe. Please read https://msg.pyyaml.org/load for full details.\n",
      "  self.lut = yaml.load(fp)\n",
      "Downloading: \"https://hanlab.mit.edu/files/OnceForAll/tutorial/latency_table@note10/176_lookup_table.yaml\" to /Users/vidhur2k/.hancai/latency_tools/176_lookup_table.yaml\n"
     ]
    },
    {
     "name": "stdout",
     "output_type": "stream",
     "text": [
      "Built latency table for image size: 160.\n",
      "Built latency table for image size: 176.\n"
     ]
    },
    {
     "name": "stderr",
     "output_type": "stream",
     "text": [
      "Downloading: \"https://hanlab.mit.edu/files/OnceForAll/tutorial/latency_table@note10/192_lookup_table.yaml\" to /Users/vidhur2k/.hancai/latency_tools/192_lookup_table.yaml\n"
     ]
    },
    {
     "name": "stdout",
     "output_type": "stream",
     "text": [
      "Built latency table for image size: 192.\n"
     ]
    },
    {
     "name": "stderr",
     "output_type": "stream",
     "text": [
      "Downloading: \"https://hanlab.mit.edu/files/OnceForAll/tutorial/latency_table@note10/208_lookup_table.yaml\" to /Users/vidhur2k/.hancai/latency_tools/208_lookup_table.yaml\n"
     ]
    },
    {
     "name": "stdout",
     "output_type": "stream",
     "text": [
      "Built latency table for image size: 208.\n"
     ]
    },
    {
     "name": "stderr",
     "output_type": "stream",
     "text": [
      "Downloading: \"https://hanlab.mit.edu/files/OnceForAll/tutorial/latency_table@note10/224_lookup_table.yaml\" to /Users/vidhur2k/.hancai/latency_tools/224_lookup_table.yaml\n"
     ]
    },
    {
     "name": "stdout",
     "output_type": "stream",
     "text": [
      "Built latency table for image size: 224.\n",
      "The Latency lookup table on note10 is ready!\n"
     ]
    }
   ],
   "source": [
    "target_hardware = 'note10'\n",
    "latency_table = LatencyTable(device=target_hardware)\n",
    "print('The Latency lookup table on %s is ready!' % target_hardware)"
   ]
  },
  {
   "cell_type": "markdown",
   "metadata": {},
   "source": [
    "So far, we have defined both the accuracy predictor and the latency predictor. Now, let's experience **very fast model specialization** on Samsung Note10 with these two powerful predictors! \n",
    "\n",
    "**Notice**: The predicted accuracy is on a holdout validation set of 10K images, not the official 50K validation set.\n",
    "But they are highly positive-correlated."
   ]
  },
  {
   "cell_type": "markdown",
   "metadata": {},
   "source": [
    "Great! You get your specialized neural network with **just a few seconds**!\n",
    "You can go back to the last cell and modify the hyper-parameters to see how they affect the search time and the accuracy.\n",
    "\n",
    "We also provided an interface below to draw a figure comparing your searched specialized network and other efficient neural networks such as MobileNetV3 and ProxylessNAS.\n",
    "\n",
    "**Notice**: For ease of comparison, we recommend you to choose a latency constraint between 15ms and 33ms."
   ]
  },
  {
   "cell_type": "code",
   "execution_count": 9,
   "metadata": {},
   "outputs": [
    {
     "name": "stdout",
     "output_type": "stream",
     "text": [
      "Since GPU is not found in the environment, we skip all scripts related to ImageNet evaluation.\n"
     ]
    }
   ],
   "source": [
    "# evaluate the searched model on ImageNet\n",
    "if cuda_available:\n",
    "    top1s = []\n",
    "    latency_list = []\n",
    "    for result in result_lis:\n",
    "        _, net_config, latency = result\n",
    "        print('Evaluating the sub-network with latency = %.1f ms on %s' % (latency, target_hardware))\n",
    "        top1 = evaluate_ofa_subnet(\n",
    "            ofa_network,\n",
    "            imagenet_data_path,\n",
    "            net_config,\n",
    "            data_loader,\n",
    "            batch_size=250,\n",
    "            device='cuda:0' if cuda_available else 'cpu')\n",
    "        top1s.append(top1)\n",
    "        latency_list.append(latency)\n",
    "\n",
    "    plt.figure(figsize=(4,4))\n",
    "    plt.plot(latency_list, top1s, 'x-', marker='*', color='darkred',  linewidth=2, markersize=8, label='OFA')\n",
    "    plt.plot([26, 45], [74.6, 76.7], '--', marker='+', linewidth=2, markersize=8, label='ProxylessNAS')\n",
    "    plt.plot([15.3, 22, 31], [73.3, 75.2, 76.6], '--', marker='>', linewidth=2, markersize=8, label='MobileNetV3')\n",
    "    plt.xlabel('%s Latency (ms)' % target_hardware, size=12)\n",
    "    plt.ylabel('ImageNet Top-1 Accuracy (%)', size=12)\n",
    "    plt.legend(['OFA', 'ProxylessNAS', 'MobileNetV3'], loc='lower right')\n",
    "    plt.grid(True)\n",
    "    plt.show()\n",
    "    print('Successfully draw the tradeoff curve!')\n",
    "else:\n",
    "    print('Since GPU is not found in the environment, we skip all scripts related to ImageNet evaluation.')"
   ]
  },
  {
   "cell_type": "markdown",
   "metadata": {},
   "source": [
    "# Experiments"
   ]
  },
  {
   "cell_type": "code",
   "execution_count": 10,
   "metadata": {},
   "outputs": [],
   "source": [
    "def run_vanilla_evolutionary_search(latency_constraints):\n",
    "    st = time.time()\n",
    "    for latency_constraint in latency_constraints:\n",
    "        \"\"\" \n",
    "        Hyper-parameters for the evolutionary search process\n",
    "        You can modify these hyper-parameters to see how they influence the final ImageNet accuracy of the search sub-net.\n",
    "        \"\"\"\n",
    "#         latency_constraint = 25  # ms, suggested range [15, 33] ms\n",
    "        P = 100  # The size of population in each generation\n",
    "        N = 500  # How many generations of population to be searched\n",
    "        r = 0.25  # The ratio of networks that are used as parents for next generation\n",
    "        params = {\n",
    "            'constraint_type': target_hardware, # Let's do FLOPs-constrained search\n",
    "            'efficiency_constraint': latency_constraint,\n",
    "            'mutate_prob': 0.1, # The probability of mutation in evolutionary search\n",
    "            'mutation_ratio': 0.5, # The ratio of networks that are generated through mutation in generation n >= 2.\n",
    "            'efficiency_predictor': latency_table, # To use a predefined efficiency predictor.\n",
    "            'accuracy_predictor': accuracy_predictor, # To use a predefined accuracy_predictor predictor.\n",
    "            'population_size': P,\n",
    "            'max_time_budget': N,\n",
    "            'parent_ratio': r,\n",
    "        }\n",
    "\n",
    "        # build the evolution finder\n",
    "        finder = EvolutionFinder(**params)\n",
    "\n",
    "        # start searching\n",
    "        result_lis = []\n",
    "        best_valids, best_info = finder.run_evolution_search()\n",
    "        result_lis.append(best_info)\n",
    "        print('Found best architecture on %s with latency <= %.2f ms '\n",
    "              'It achieves %.2f%s predicted accuracy with %.2f ms latency on %s.' %\n",
    "              (target_hardware, latency_constraint, best_info[0] * 100, '%', best_info[-1], target_hardware))\n",
    "\n",
    "        # visualize the architecture of the searched sub-net\n",
    "        _, net_config, latency = best_info\n",
    "        ofa_network.set_active_subnet(ks=net_config['ks'], d=net_config['d'], e=net_config['e'])\n",
    "        print('Architecture of the searched sub-net:')\n",
    "        print(ofa_network.module_str)\n",
    "    ed = time.time()\n",
    "    return ed-st"
   ]
  },
  {
   "cell_type": "code",
   "execution_count": null,
   "metadata": {},
   "outputs": [],
   "source": [
    "ofa_network = ofa_net('ofa_mbv3_d234_e346_k357_w1.2', pretrained=True)\n",
    "#ofa_network = ofa.model_zoo.ofa_net('ofa_resnet50', pretrained=True)\n",
    "print('The OFA Network is ready.')"
   ]
  },
  {
   "cell_type": "code",
   "execution_count": 13,
   "metadata": {},
   "outputs": [
    {
     "name": "stderr",
     "output_type": "stream",
     "text": [
      "Downloading: \"https://hanlab.mit.edu/files/OnceForAll/ofa_nets/ofa_resnet50_d=0+1+2_e=0.2+0.25+0.35_w=0.65+0.8+1.0\" to .torch/ofa_nets/ofa_resnet50_d=0+1+2_e=0.2+0.25+0.35_w=0.65+0.8+1.0\n"
     ]
    },
    {
     "name": "stdout",
     "output_type": "stream",
     "text": [
      "The OFA Network is ready.\n"
     ]
    }
   ],
   "source": [
    "ofa_network = ofa_net('ofa_resnet50', pretrained=True)\n",
    "#ofa_network = ofa.model_zoo.ofa_net('ofa_resnet50', pretrained=True)\n",
    "print('The OFA Network is ready.')"
   ]
  },
  {
   "cell_type": "code",
   "execution_count": 15,
   "metadata": {},
   "outputs": [
    {
     "name": "stderr",
     "output_type": "stream",
     "text": [
      "Downloading: \"https://hanlab.mit.edu/files/OnceForAll/ofa_nets/ofa_proxyless_d234_e346_k357_w1.3\" to .torch/ofa_nets/ofa_proxyless_d234_e346_k357_w1.3\n"
     ]
    },
    {
     "name": "stdout",
     "output_type": "stream",
     "text": [
      "The OFA Network is ready.\n"
     ]
    }
   ],
   "source": [
    "ofa_network = ofa_net('ofa_proxyless_d234_e346_k357_w1.3', pretrained=True)\n",
    "#ofa_network = ofa.model_zoo.ofa_net('ofa_resnet50', pretrained=True)\n",
    "print('The OFA Network is ready.')"
   ]
  },
  {
   "cell_type": "markdown",
   "metadata": {},
   "source": [
    "## Running Time"
   ]
  },
  {
   "cell_type": "markdown",
   "metadata": {},
   "source": [
    "### MobileNetV3"
   ]
  },
  {
   "cell_type": "code",
   "execution_count": 15,
   "metadata": {},
   "outputs": [
    {
     "name": "stderr",
     "output_type": "stream",
     "text": [
      "Searching with note10 constraint (15): 100%|██████████| 500/500 [00:19<00:00, 25.70it/s]\n"
     ]
    },
    {
     "name": "stdout",
     "output_type": "stream",
     "text": [
      "Found best architecture on note10 with latency <= 15.00 ms It achieves 78.62% predicted accuracy with 14.81 ms latency on note10.\n",
      "Architecture of the searched sub-net:\n",
      "3x3_Conv_O24_H_SWISH_BN\n",
      "(3x3_MBConv1_RELU_O24_BN, Identity)\n",
      "((O32, E3.0, K3), None)\n",
      "((O32, E3.0, K3), Identity)\n",
      "(SE(O48, E4.0, K3), None)\n",
      "(SE(O48, E3.0, K3), Identity)\n",
      "(SE(O48, E3.0, K5), Identity)\n",
      "((O96, E4.0, K5), None)\n",
      "((O96, E4.0, K5), Identity)\n",
      "((O96, E3.0, K5), Identity)\n",
      "(SE(O136, E4.0, K3), None)\n",
      "(SE(O136, E4.0, K5), Identity)\n",
      "(SE(O136, E4.0, K5), Identity)\n",
      "(SE(O192, E4.0, K3), None)\n",
      "(SE(O192, E3.0, K3), Identity)\n",
      "(SE(O192, E4.0, K3), Identity)\n",
      "1x1_Conv_O1152_H_SWISH_BN\n",
      "1x1_Conv_O1536_H_SWISH\n",
      "1536x1000_Linear\n",
      "\n"
     ]
    },
    {
     "name": "stderr",
     "output_type": "stream",
     "text": [
      "Searching with note10 constraint (15): 100%|██████████| 500/500 [00:20<00:00, 24.35it/s]\n"
     ]
    },
    {
     "name": "stdout",
     "output_type": "stream",
     "text": [
      "Found best architecture on note10 with latency <= 15.00 ms It achieves 78.48% predicted accuracy with 14.99 ms latency on note10.\n",
      "Architecture of the searched sub-net:\n",
      "3x3_Conv_O24_H_SWISH_BN\n",
      "(3x3_MBConv1_RELU_O24_BN, Identity)\n",
      "((O32, E3.0, K3), None)\n",
      "((O32, E3.0, K3), Identity)\n",
      "(SE(O48, E3.0, K5), None)\n",
      "(SE(O48, E4.0, K3), Identity)\n",
      "((O96, E3.0, K5), None)\n",
      "((O96, E4.0, K3), Identity)\n",
      "(SE(O136, E3.0, K7), None)\n",
      "(SE(O136, E4.0, K5), Identity)\n",
      "(SE(O136, E4.0, K5), Identity)\n",
      "(SE(O192, E4.0, K3), None)\n",
      "(SE(O192, E3.0, K3), Identity)\n",
      "1x1_Conv_O1152_H_SWISH_BN\n",
      "1x1_Conv_O1536_H_SWISH\n",
      "1536x1000_Linear\n",
      "\n"
     ]
    },
    {
     "name": "stderr",
     "output_type": "stream",
     "text": [
      "Searching with note10 constraint (20): 100%|██████████| 500/500 [00:22<00:00, 22.66it/s]\n"
     ]
    },
    {
     "name": "stdout",
     "output_type": "stream",
     "text": [
      "Found best architecture on note10 with latency <= 20.00 ms It achieves 80.69% predicted accuracy with 19.98 ms latency on note10.\n",
      "Architecture of the searched sub-net:\n",
      "3x3_Conv_O24_H_SWISH_BN\n",
      "(3x3_MBConv1_RELU_O24_BN, Identity)\n",
      "((O32, E3.0, K3), None)\n",
      "((O32, E4.0, K3), Identity)\n",
      "(SE(O48, E4.0, K3), None)\n",
      "(SE(O48, E4.0, K3), Identity)\n",
      "((O96, E4.0, K5), None)\n",
      "((O96, E3.0, K7), Identity)\n",
      "((O96, E3.0, K5), Identity)\n",
      "((O96, E3.0, K3), Identity)\n",
      "(SE(O136, E4.0, K3), None)\n",
      "(SE(O136, E4.0, K3), Identity)\n",
      "(SE(O136, E3.0, K3), Identity)\n",
      "(SE(O192, E6.0, K3), None)\n",
      "(SE(O192, E4.0, K3), Identity)\n",
      "(SE(O192, E3.0, K3), Identity)\n",
      "1x1_Conv_O1152_H_SWISH_BN\n",
      "1x1_Conv_O1536_H_SWISH\n",
      "1536x1000_Linear\n",
      "\n"
     ]
    },
    {
     "name": "stderr",
     "output_type": "stream",
     "text": [
      "Searching with note10 constraint (15): 100%|██████████| 500/500 [00:20<00:00, 24.44it/s]\n"
     ]
    },
    {
     "name": "stdout",
     "output_type": "stream",
     "text": [
      "Found best architecture on note10 with latency <= 15.00 ms It achieves 78.37% predicted accuracy with 14.94 ms latency on note10.\n",
      "Architecture of the searched sub-net:\n",
      "3x3_Conv_O24_H_SWISH_BN\n",
      "(3x3_MBConv1_RELU_O24_BN, Identity)\n",
      "((O32, E3.0, K3), None)\n",
      "((O32, E4.0, K3), Identity)\n",
      "(SE(O48, E4.0, K5), None)\n",
      "(SE(O48, E3.0, K3), Identity)\n",
      "(SE(O48, E3.0, K3), Identity)\n",
      "((O96, E6.0, K5), None)\n",
      "((O96, E4.0, K7), Identity)\n",
      "((O96, E4.0, K3), Identity)\n",
      "(SE(O136, E4.0, K5), None)\n",
      "(SE(O136, E4.0, K3), Identity)\n",
      "(SE(O136, E3.0, K3), Identity)\n",
      "(SE(O192, E6.0, K3), None)\n",
      "(SE(O192, E4.0, K3), Identity)\n",
      "1x1_Conv_O1152_H_SWISH_BN\n",
      "1x1_Conv_O1536_H_SWISH\n",
      "1536x1000_Linear\n",
      "\n"
     ]
    },
    {
     "name": "stderr",
     "output_type": "stream",
     "text": [
      "Searching with note10 constraint (20): 100%|██████████| 500/500 [00:19<00:00, 25.18it/s]\n",
      "Searching with note10 constraint (25):   1%|          | 3/500 [00:00<00:18, 26.52it/s]"
     ]
    },
    {
     "name": "stdout",
     "output_type": "stream",
     "text": [
      "Found best architecture on note10 with latency <= 20.00 ms It achieves 80.53% predicted accuracy with 19.96 ms latency on note10.\n",
      "Architecture of the searched sub-net:\n",
      "3x3_Conv_O24_H_SWISH_BN\n",
      "(3x3_MBConv1_RELU_O24_BN, Identity)\n",
      "((O32, E3.0, K3), None)\n",
      "((O32, E3.0, K3), Identity)\n",
      "(SE(O48, E4.0, K3), None)\n",
      "(SE(O48, E6.0, K3), Identity)\n",
      "(SE(O48, E3.0, K3), Identity)\n",
      "(SE(O48, E3.0, K3), Identity)\n",
      "((O96, E4.0, K7), None)\n",
      "((O96, E4.0, K3), Identity)\n",
      "(SE(O136, E4.0, K3), None)\n",
      "(SE(O136, E4.0, K7), Identity)\n",
      "(SE(O136, E4.0, K5), Identity)\n",
      "(SE(O192, E4.0, K3), None)\n",
      "(SE(O192, E6.0, K3), Identity)\n",
      "(SE(O192, E4.0, K3), Identity)\n",
      "(SE(O192, E3.0, K3), Identity)\n",
      "1x1_Conv_O1152_H_SWISH_BN\n",
      "1x1_Conv_O1536_H_SWISH\n",
      "1536x1000_Linear\n",
      "\n"
     ]
    },
    {
     "name": "stderr",
     "output_type": "stream",
     "text": [
      "Searching with note10 constraint (25): 100%|██████████| 500/500 [00:18<00:00, 26.63it/s]\n"
     ]
    },
    {
     "name": "stdout",
     "output_type": "stream",
     "text": [
      "Found best architecture on note10 with latency <= 25.00 ms It achieves 81.59% predicted accuracy with 24.91 ms latency on note10.\n",
      "Architecture of the searched sub-net:\n",
      "3x3_Conv_O24_H_SWISH_BN\n",
      "(3x3_MBConv1_RELU_O24_BN, Identity)\n",
      "((O32, E3.0, K3), None)\n",
      "((O32, E3.0, K3), Identity)\n",
      "(SE(O48, E4.0, K5), None)\n",
      "(SE(O48, E4.0, K5), Identity)\n",
      "(SE(O48, E6.0, K3), Identity)\n",
      "((O96, E6.0, K7), None)\n",
      "((O96, E4.0, K5), Identity)\n",
      "((O96, E3.0, K7), Identity)\n",
      "(SE(O136, E6.0, K3), None)\n",
      "(SE(O136, E6.0, K5), Identity)\n",
      "(SE(O136, E4.0, K3), Identity)\n",
      "(SE(O136, E4.0, K7), Identity)\n",
      "(SE(O192, E4.0, K7), None)\n",
      "(SE(O192, E6.0, K3), Identity)\n",
      "(SE(O192, E6.0, K3), Identity)\n",
      "(SE(O192, E3.0, K7), Identity)\n",
      "1x1_Conv_O1152_H_SWISH_BN\n",
      "1x1_Conv_O1536_H_SWISH\n",
      "1536x1000_Linear\n",
      "\n"
     ]
    },
    {
     "name": "stderr",
     "output_type": "stream",
     "text": [
      "Searching with note10 constraint (15): 100%|██████████| 500/500 [00:21<00:00, 22.83it/s]\n"
     ]
    },
    {
     "name": "stdout",
     "output_type": "stream",
     "text": [
      "Found best architecture on note10 with latency <= 15.00 ms It achieves 78.66% predicted accuracy with 14.92 ms latency on note10.\n",
      "Architecture of the searched sub-net:\n",
      "3x3_Conv_O24_H_SWISH_BN\n",
      "(3x3_MBConv1_RELU_O24_BN, Identity)\n",
      "((O32, E3.0, K3), None)\n",
      "((O32, E3.0, K3), Identity)\n",
      "(SE(O48, E4.0, K3), None)\n",
      "(SE(O48, E4.0, K3), Identity)\n",
      "((O96, E6.0, K5), None)\n",
      "((O96, E4.0, K5), Identity)\n",
      "((O96, E3.0, K5), Identity)\n",
      "(SE(O136, E4.0, K3), None)\n",
      "(SE(O136, E4.0, K3), Identity)\n",
      "(SE(O136, E3.0, K5), Identity)\n",
      "(SE(O192, E4.0, K3), None)\n",
      "(SE(O192, E6.0, K3), Identity)\n",
      "(SE(O192, E4.0, K7), Identity)\n",
      "1x1_Conv_O1152_H_SWISH_BN\n",
      "1x1_Conv_O1536_H_SWISH\n",
      "1536x1000_Linear\n",
      "\n"
     ]
    },
    {
     "name": "stderr",
     "output_type": "stream",
     "text": [
      "Searching with note10 constraint (20): 100%|██████████| 500/500 [00:21<00:00, 23.72it/s]\n",
      "Searching with note10 constraint (25):   1%|          | 3/500 [00:00<00:24, 20.29it/s]"
     ]
    },
    {
     "name": "stdout",
     "output_type": "stream",
     "text": [
      "Found best architecture on note10 with latency <= 20.00 ms It achieves 80.29% predicted accuracy with 19.99 ms latency on note10.\n",
      "Architecture of the searched sub-net:\n",
      "3x3_Conv_O24_H_SWISH_BN\n",
      "(3x3_MBConv1_RELU_O24_BN, Identity)\n",
      "((O32, E3.0, K3), None)\n",
      "((O32, E3.0, K3), Identity)\n",
      "(SE(O48, E4.0, K5), None)\n",
      "(SE(O48, E4.0, K3), Identity)\n",
      "((O96, E4.0, K7), None)\n",
      "((O96, E4.0, K5), Identity)\n",
      "((O96, E4.0, K3), Identity)\n",
      "(SE(O136, E4.0, K7), None)\n",
      "(SE(O136, E4.0, K5), Identity)\n",
      "(SE(O136, E4.0, K3), Identity)\n",
      "(SE(O136, E4.0, K3), Identity)\n",
      "(SE(O192, E6.0, K7), None)\n",
      "(SE(O192, E4.0, K3), Identity)\n",
      "(SE(O192, E4.0, K3), Identity)\n",
      "1x1_Conv_O1152_H_SWISH_BN\n",
      "1x1_Conv_O1536_H_SWISH\n",
      "1536x1000_Linear\n",
      "\n"
     ]
    },
    {
     "name": "stderr",
     "output_type": "stream",
     "text": [
      "Searching with note10 constraint (25): 100%|██████████| 500/500 [00:21<00:00, 22.87it/s]\n",
      "Searching with note10 constraint (30):   1%|          | 3/500 [00:00<00:19, 24.89it/s]"
     ]
    },
    {
     "name": "stdout",
     "output_type": "stream",
     "text": [
      "Found best architecture on note10 with latency <= 25.00 ms It achieves 81.94% predicted accuracy with 24.94 ms latency on note10.\n",
      "Architecture of the searched sub-net:\n",
      "3x3_Conv_O24_H_SWISH_BN\n",
      "(3x3_MBConv1_RELU_O24_BN, Identity)\n",
      "((O32, E4.0, K3), None)\n",
      "((O32, E3.0, K3), Identity)\n",
      "(SE(O48, E4.0, K5), None)\n",
      "(SE(O48, E4.0, K3), Identity)\n",
      "(SE(O48, E3.0, K3), Identity)\n",
      "((O96, E4.0, K5), None)\n",
      "((O96, E3.0, K5), Identity)\n",
      "((O96, E4.0, K3), Identity)\n",
      "((O96, E3.0, K3), Identity)\n",
      "(SE(O136, E4.0, K3), None)\n",
      "(SE(O136, E4.0, K5), Identity)\n",
      "(SE(O136, E6.0, K3), Identity)\n",
      "(SE(O192, E6.0, K3), None)\n",
      "(SE(O192, E6.0, K3), Identity)\n",
      "(SE(O192, E6.0, K5), Identity)\n",
      "(SE(O192, E3.0, K7), Identity)\n",
      "1x1_Conv_O1152_H_SWISH_BN\n",
      "1x1_Conv_O1536_H_SWISH\n",
      "1536x1000_Linear\n",
      "\n"
     ]
    },
    {
     "name": "stderr",
     "output_type": "stream",
     "text": [
      "Searching with note10 constraint (30): 100%|██████████| 500/500 [00:22<00:00, 22.39it/s]\n"
     ]
    },
    {
     "name": "stdout",
     "output_type": "stream",
     "text": [
      "Found best architecture on note10 with latency <= 30.00 ms It achieves 82.69% predicted accuracy with 29.92 ms latency on note10.\n",
      "Architecture of the searched sub-net:\n",
      "3x3_Conv_O24_H_SWISH_BN\n",
      "(3x3_MBConv1_RELU_O24_BN, Identity)\n",
      "((O32, E4.0, K3), None)\n",
      "((O32, E3.0, K3), Identity)\n",
      "(SE(O48, E4.0, K5), None)\n",
      "(SE(O48, E4.0, K3), Identity)\n",
      "(SE(O48, E4.0, K3), Identity)\n",
      "((O96, E4.0, K3), None)\n",
      "((O96, E4.0, K5), Identity)\n",
      "((O96, E3.0, K7), Identity)\n",
      "((O96, E3.0, K3), Identity)\n",
      "(SE(O136, E6.0, K7), None)\n",
      "(SE(O136, E6.0, K5), Identity)\n",
      "(SE(O136, E6.0, K3), Identity)\n",
      "(SE(O136, E4.0, K7), Identity)\n",
      "(SE(O192, E6.0, K7), None)\n",
      "(SE(O192, E6.0, K7), Identity)\n",
      "(SE(O192, E6.0, K3), Identity)\n",
      "(SE(O192, E3.0, K7), Identity)\n",
      "1x1_Conv_O1152_H_SWISH_BN\n",
      "1x1_Conv_O1536_H_SWISH\n",
      "1536x1000_Linear\n",
      "\n"
     ]
    },
    {
     "name": "stderr",
     "output_type": "stream",
     "text": [
      "Searching with note10 constraint (15): 100%|██████████| 500/500 [00:22<00:00, 22.61it/s]\n"
     ]
    },
    {
     "name": "stdout",
     "output_type": "stream",
     "text": [
      "Found best architecture on note10 with latency <= 15.00 ms It achieves 78.50% predicted accuracy with 14.98 ms latency on note10.\n",
      "Architecture of the searched sub-net:\n",
      "3x3_Conv_O24_H_SWISH_BN\n",
      "(3x3_MBConv1_RELU_O24_BN, Identity)\n",
      "((O32, E4.0, K3), None)\n",
      "((O32, E3.0, K3), Identity)\n",
      "(SE(O48, E4.0, K5), None)\n",
      "(SE(O48, E4.0, K3), Identity)\n",
      "((O96, E4.0, K5), None)\n",
      "((O96, E4.0, K3), Identity)\n",
      "((O96, E4.0, K7), Identity)\n",
      "(SE(O136, E4.0, K3), None)\n",
      "(SE(O136, E4.0, K5), Identity)\n",
      "(SE(O136, E4.0, K5), Identity)\n",
      "(SE(O192, E4.0, K3), None)\n",
      "(SE(O192, E4.0, K3), Identity)\n",
      "(SE(O192, E3.0, K3), Identity)\n",
      "1x1_Conv_O1152_H_SWISH_BN\n",
      "1x1_Conv_O1536_H_SWISH\n",
      "1536x1000_Linear\n",
      "\n"
     ]
    },
    {
     "name": "stderr",
     "output_type": "stream",
     "text": [
      "Searching with note10 constraint (20): 100%|██████████| 500/500 [00:21<00:00, 23.13it/s]\n",
      "Searching with note10 constraint (25):   1%|          | 3/500 [00:00<00:21, 23.31it/s]"
     ]
    },
    {
     "name": "stdout",
     "output_type": "stream",
     "text": [
      "Found best architecture on note10 with latency <= 20.00 ms It achieves 80.46% predicted accuracy with 19.98 ms latency on note10.\n",
      "Architecture of the searched sub-net:\n",
      "3x3_Conv_O24_H_SWISH_BN\n",
      "(3x3_MBConv1_RELU_O24_BN, Identity)\n",
      "((O32, E3.0, K3), None)\n",
      "((O32, E4.0, K3), Identity)\n",
      "(SE(O48, E4.0, K7), None)\n",
      "(SE(O48, E3.0, K3), Identity)\n",
      "((O96, E6.0, K5), None)\n",
      "((O96, E3.0, K7), Identity)\n",
      "((O96, E3.0, K5), Identity)\n",
      "(SE(O136, E4.0, K5), None)\n",
      "(SE(O136, E4.0, K3), Identity)\n",
      "(SE(O136, E3.0, K7), Identity)\n",
      "(SE(O192, E6.0, K3), None)\n",
      "(SE(O192, E4.0, K3), Identity)\n",
      "1x1_Conv_O1152_H_SWISH_BN\n",
      "1x1_Conv_O1536_H_SWISH\n",
      "1536x1000_Linear\n",
      "\n"
     ]
    },
    {
     "name": "stderr",
     "output_type": "stream",
     "text": [
      "Searching with note10 constraint (25): 100%|██████████| 500/500 [00:21<00:00, 22.85it/s]\n",
      "Searching with note10 constraint (30):   1%|          | 3/500 [00:00<00:21, 23.39it/s]"
     ]
    },
    {
     "name": "stdout",
     "output_type": "stream",
     "text": [
      "Found best architecture on note10 with latency <= 25.00 ms It achieves 81.62% predicted accuracy with 24.99 ms latency on note10.\n",
      "Architecture of the searched sub-net:\n",
      "3x3_Conv_O24_H_SWISH_BN\n",
      "(3x3_MBConv1_RELU_O24_BN, Identity)\n",
      "((O32, E3.0, K3), None)\n",
      "((O32, E3.0, K3), Identity)\n",
      "(SE(O48, E4.0, K3), None)\n",
      "(SE(O48, E4.0, K5), Identity)\n",
      "(SE(O48, E3.0, K3), Identity)\n",
      "(SE(O48, E3.0, K3), Identity)\n",
      "((O96, E6.0, K5), None)\n",
      "((O96, E4.0, K7), Identity)\n",
      "((O96, E3.0, K5), Identity)\n",
      "(SE(O136, E6.0, K7), None)\n",
      "(SE(O136, E4.0, K3), Identity)\n",
      "(SE(O136, E4.0, K3), Identity)\n",
      "(SE(O192, E6.0, K7), None)\n",
      "(SE(O192, E6.0, K3), Identity)\n",
      "(SE(O192, E6.0, K7), Identity)\n",
      "1x1_Conv_O1152_H_SWISH_BN\n",
      "1x1_Conv_O1536_H_SWISH\n",
      "1536x1000_Linear\n",
      "\n"
     ]
    },
    {
     "name": "stderr",
     "output_type": "stream",
     "text": [
      "Searching with note10 constraint (30): 100%|██████████| 500/500 [00:23<00:00, 21.68it/s]\n",
      "Searching with note10 constraint (35):   1%|          | 3/500 [00:00<00:20, 24.31it/s]"
     ]
    },
    {
     "name": "stdout",
     "output_type": "stream",
     "text": [
      "Found best architecture on note10 with latency <= 30.00 ms It achieves 82.70% predicted accuracy with 29.91 ms latency on note10.\n",
      "Architecture of the searched sub-net:\n",
      "3x3_Conv_O24_H_SWISH_BN\n",
      "(3x3_MBConv1_RELU_O24_BN, Identity)\n",
      "((O32, E4.0, K3), None)\n",
      "((O32, E6.0, K3), Identity)\n",
      "(SE(O48, E4.0, K5), None)\n",
      "(SE(O48, E4.0, K5), Identity)\n",
      "(SE(O48, E3.0, K3), Identity)\n",
      "((O96, E6.0, K5), None)\n",
      "((O96, E4.0, K7), Identity)\n",
      "((O96, E3.0, K3), Identity)\n",
      "((O96, E3.0, K7), Identity)\n",
      "(SE(O136, E4.0, K3), None)\n",
      "(SE(O136, E4.0, K7), Identity)\n",
      "(SE(O136, E6.0, K3), Identity)\n",
      "(SE(O136, E4.0, K7), Identity)\n",
      "(SE(O192, E6.0, K3), None)\n",
      "(SE(O192, E6.0, K3), Identity)\n",
      "(SE(O192, E6.0, K5), Identity)\n",
      "(SE(O192, E3.0, K3), Identity)\n",
      "1x1_Conv_O1152_H_SWISH_BN\n",
      "1x1_Conv_O1536_H_SWISH\n",
      "1536x1000_Linear\n",
      "\n"
     ]
    },
    {
     "name": "stderr",
     "output_type": "stream",
     "text": [
      "Searching with note10 constraint (35): 100%|██████████| 500/500 [00:22<00:00, 22.56it/s]"
     ]
    },
    {
     "name": "stdout",
     "output_type": "stream",
     "text": [
      "Found best architecture on note10 with latency <= 35.00 ms It achieves 83.20% predicted accuracy with 34.92 ms latency on note10.\n",
      "Architecture of the searched sub-net:\n",
      "3x3_Conv_O24_H_SWISH_BN\n",
      "(3x3_MBConv1_RELU_O24_BN, Identity)\n",
      "((O32, E3.0, K3), None)\n",
      "((O32, E3.0, K3), Identity)\n",
      "(SE(O48, E4.0, K5), None)\n",
      "(SE(O48, E6.0, K3), Identity)\n",
      "(SE(O48, E4.0, K3), Identity)\n",
      "(SE(O48, E3.0, K3), Identity)\n",
      "((O96, E4.0, K7), None)\n",
      "((O96, E4.0, K3), Identity)\n",
      "((O96, E4.0, K5), Identity)\n",
      "((O96, E4.0, K3), Identity)\n",
      "(SE(O136, E6.0, K5), None)\n",
      "(SE(O136, E6.0, K5), Identity)\n",
      "(SE(O136, E4.0, K7), Identity)\n",
      "(SE(O136, E4.0, K3), Identity)\n",
      "(SE(O192, E4.0, K7), None)\n",
      "(SE(O192, E6.0, K3), Identity)\n",
      "(SE(O192, E6.0, K3), Identity)\n",
      "(SE(O192, E3.0, K7), Identity)\n",
      "1x1_Conv_O1152_H_SWISH_BN\n",
      "1x1_Conv_O1536_H_SWISH\n",
      "1536x1000_Linear\n",
      "\n"
     ]
    },
    {
     "name": "stderr",
     "output_type": "stream",
     "text": [
      "\n"
     ]
    }
   ],
   "source": [
    "times = {}\n",
    "latency_constraints = (15, 20, 25, 30, 35)\n",
    "for i in range(len(latency_constraints)):\n",
    "    latency_constraint = latency_constraints[:i+1]\n",
    "    times[latency_constraint] = run_vanilla_evolutionary_search(latency_constraint)"
   ]
  },
  {
   "cell_type": "code",
   "execution_count": 16,
   "metadata": {},
   "outputs": [
    {
     "name": "stderr",
     "output_type": "stream",
     "text": [
      "Searching with note10 constraint (15): 100%|██████████| 500/500 [00:27<00:00, 18.16it/s]\n"
     ]
    },
    {
     "name": "stdout",
     "output_type": "stream",
     "text": [
      "Found best architecture on note10 with latency <= 15.00 ms It achieves 78.44% predicted accuracy with 14.93 ms latency on note10.\n",
      "Architecture of the searched sub-net:\n",
      "3x3_Conv_O24_H_SWISH_BN\n",
      "(3x3_MBConv1_RELU_O24_BN, Identity)\n",
      "((O32, E3.0, K3), None)\n",
      "((O32, E3.0, K3), Identity)\n",
      "(SE(O48, E4.0, K3), None)\n",
      "(SE(O48, E4.0, K3), Identity)\n",
      "((O96, E4.0, K5), None)\n",
      "((O96, E4.0, K5), Identity)\n",
      "((O96, E6.0, K3), Identity)\n",
      "(SE(O136, E4.0, K7), None)\n",
      "(SE(O136, E4.0, K5), Identity)\n",
      "(SE(O136, E3.0, K3), Identity)\n",
      "(SE(O192, E6.0, K3), None)\n",
      "(SE(O192, E3.0, K3), Identity)\n",
      "(SE(O192, E4.0, K5), Identity)\n",
      "1x1_Conv_O1152_H_SWISH_BN\n",
      "1x1_Conv_O1536_H_SWISH\n",
      "1536x1000_Linear\n",
      "\n"
     ]
    },
    {
     "name": "stderr",
     "output_type": "stream",
     "text": [
      "Searching with note10 constraint (20): 100%|██████████| 500/500 [00:30<00:00, 16.22it/s]\n",
      "Searching with note10 constraint (25):   0%|          | 0/500 [00:00<?, ?it/s]"
     ]
    },
    {
     "name": "stdout",
     "output_type": "stream",
     "text": [
      "Found best architecture on note10 with latency <= 20.00 ms It achieves 80.46% predicted accuracy with 19.97 ms latency on note10.\n",
      "Architecture of the searched sub-net:\n",
      "3x3_Conv_O24_H_SWISH_BN\n",
      "(3x3_MBConv1_RELU_O24_BN, Identity)\n",
      "((O32, E3.0, K3), None)\n",
      "((O32, E3.0, K3), Identity)\n",
      "(SE(O48, E4.0, K5), None)\n",
      "(SE(O48, E4.0, K5), Identity)\n",
      "(SE(O48, E6.0, K3), Identity)\n",
      "((O96, E4.0, K7), None)\n",
      "((O96, E4.0, K5), Identity)\n",
      "((O96, E3.0, K3), Identity)\n",
      "((O96, E3.0, K7), Identity)\n",
      "(SE(O136, E4.0, K3), None)\n",
      "(SE(O136, E4.0, K5), Identity)\n",
      "(SE(O136, E4.0, K3), Identity)\n",
      "(SE(O136, E4.0, K3), Identity)\n",
      "(SE(O192, E6.0, K3), None)\n",
      "(SE(O192, E6.0, K5), Identity)\n",
      "(SE(O192, E6.0, K3), Identity)\n",
      "(SE(O192, E3.0, K7), Identity)\n",
      "1x1_Conv_O1152_H_SWISH_BN\n",
      "1x1_Conv_O1536_H_SWISH\n",
      "1536x1000_Linear\n",
      "\n"
     ]
    },
    {
     "name": "stderr",
     "output_type": "stream",
     "text": [
      "Searching with note10 constraint (25): 100%|██████████| 500/500 [00:30<00:00, 16.50it/s]\n",
      "Searching with note10 constraint (30):   0%|          | 0/500 [00:00<?, ?it/s]"
     ]
    },
    {
     "name": "stdout",
     "output_type": "stream",
     "text": [
      "Found best architecture on note10 with latency <= 25.00 ms It achieves 82.00% predicted accuracy with 24.95 ms latency on note10.\n",
      "Architecture of the searched sub-net:\n",
      "3x3_Conv_O24_H_SWISH_BN\n",
      "(3x3_MBConv1_RELU_O24_BN, Identity)\n",
      "((O32, E3.0, K3), None)\n",
      "((O32, E3.0, K3), Identity)\n",
      "(SE(O48, E4.0, K5), None)\n",
      "(SE(O48, E4.0, K3), Identity)\n",
      "(SE(O48, E3.0, K5), Identity)\n",
      "(SE(O48, E3.0, K3), Identity)\n",
      "((O96, E4.0, K5), None)\n",
      "((O96, E4.0, K5), Identity)\n",
      "((O96, E3.0, K3), Identity)\n",
      "(SE(O136, E3.0, K7), None)\n",
      "(SE(O136, E4.0, K5), Identity)\n",
      "(SE(O136, E3.0, K5), Identity)\n",
      "(SE(O136, E4.0, K3), Identity)\n",
      "(SE(O192, E6.0, K7), None)\n",
      "(SE(O192, E6.0, K7), Identity)\n",
      "(SE(O192, E6.0, K3), Identity)\n",
      "1x1_Conv_O1152_H_SWISH_BN\n",
      "1x1_Conv_O1536_H_SWISH\n",
      "1536x1000_Linear\n",
      "\n"
     ]
    },
    {
     "name": "stderr",
     "output_type": "stream",
     "text": [
      "Searching with note10 constraint (30): 100%|██████████| 500/500 [00:27<00:00, 18.38it/s]\n",
      "Searching with note10 constraint (35):   1%|          | 3/500 [00:00<00:22, 21.79it/s]"
     ]
    },
    {
     "name": "stdout",
     "output_type": "stream",
     "text": [
      "Found best architecture on note10 with latency <= 30.00 ms It achieves 82.72% predicted accuracy with 29.99 ms latency on note10.\n",
      "Architecture of the searched sub-net:\n",
      "3x3_Conv_O24_H_SWISH_BN\n",
      "(3x3_MBConv1_RELU_O24_BN, Identity)\n",
      "((O32, E3.0, K3), None)\n",
      "((O32, E3.0, K3), Identity)\n",
      "(SE(O48, E4.0, K5), None)\n",
      "(SE(O48, E6.0, K3), Identity)\n",
      "((O96, E4.0, K5), None)\n",
      "((O96, E4.0, K7), Identity)\n",
      "((O96, E3.0, K3), Identity)\n",
      "((O96, E3.0, K7), Identity)\n",
      "(SE(O136, E4.0, K5), None)\n",
      "(SE(O136, E4.0, K5), Identity)\n",
      "(SE(O136, E4.0, K3), Identity)\n",
      "(SE(O136, E4.0, K3), Identity)\n",
      "(SE(O192, E6.0, K3), None)\n",
      "(SE(O192, E6.0, K3), Identity)\n",
      "(SE(O192, E4.0, K5), Identity)\n",
      "(SE(O192, E3.0, K5), Identity)\n",
      "1x1_Conv_O1152_H_SWISH_BN\n",
      "1x1_Conv_O1536_H_SWISH\n",
      "1536x1000_Linear\n",
      "\n"
     ]
    },
    {
     "name": "stderr",
     "output_type": "stream",
     "text": [
      "Searching with note10 constraint (35): 100%|██████████| 500/500 [00:20<00:00, 24.88it/s]\n",
      "Searching with note10 constraint (40):   1%|          | 3/500 [00:00<00:19, 25.89it/s]"
     ]
    },
    {
     "name": "stdout",
     "output_type": "stream",
     "text": [
      "Found best architecture on note10 with latency <= 35.00 ms It achieves 83.28% predicted accuracy with 34.08 ms latency on note10.\n",
      "Architecture of the searched sub-net:\n",
      "3x3_Conv_O24_H_SWISH_BN\n",
      "(3x3_MBConv1_RELU_O24_BN, Identity)\n",
      "((O32, E3.0, K3), None)\n",
      "((O32, E4.0, K5), Identity)\n",
      "(SE(O48, E6.0, K5), None)\n",
      "(SE(O48, E6.0, K3), Identity)\n",
      "(SE(O48, E4.0, K7), Identity)\n",
      "(SE(O48, E3.0, K7), Identity)\n",
      "((O96, E4.0, K5), None)\n",
      "((O96, E6.0, K5), Identity)\n",
      "((O96, E4.0, K3), Identity)\n",
      "((O96, E6.0, K3), Identity)\n",
      "(SE(O136, E4.0, K7), None)\n",
      "(SE(O136, E6.0, K5), Identity)\n",
      "(SE(O136, E6.0, K3), Identity)\n",
      "(SE(O136, E3.0, K3), Identity)\n",
      "(SE(O192, E6.0, K5), None)\n",
      "(SE(O192, E6.0, K3), Identity)\n",
      "(SE(O192, E6.0, K5), Identity)\n",
      "(SE(O192, E4.0, K7), Identity)\n",
      "1x1_Conv_O1152_H_SWISH_BN\n",
      "1x1_Conv_O1536_H_SWISH\n",
      "1536x1000_Linear\n",
      "\n"
     ]
    },
    {
     "name": "stderr",
     "output_type": "stream",
     "text": [
      "Searching with note10 constraint (40): 100%|██████████| 500/500 [00:21<00:00, 22.99it/s]\n",
      "Searching with note10 constraint (45):   1%|          | 3/500 [00:00<00:20, 23.85it/s]"
     ]
    },
    {
     "name": "stdout",
     "output_type": "stream",
     "text": [
      "Found best architecture on note10 with latency <= 40.00 ms It achieves 83.91% predicted accuracy with 39.51 ms latency on note10.\n",
      "Architecture of the searched sub-net:\n",
      "3x3_Conv_O24_H_SWISH_BN\n",
      "(3x3_MBConv1_RELU_O24_BN, Identity)\n",
      "((O32, E4.0, K3), None)\n",
      "((O32, E3.0, K5), Identity)\n",
      "((O32, E3.0, K3), Identity)\n",
      "(SE(O48, E4.0, K5), None)\n",
      "(SE(O48, E6.0, K3), Identity)\n",
      "(SE(O48, E4.0, K3), Identity)\n",
      "(SE(O48, E3.0, K5), Identity)\n",
      "((O96, E4.0, K5), None)\n",
      "((O96, E3.0, K7), Identity)\n",
      "((O96, E4.0, K3), Identity)\n",
      "((O96, E6.0, K5), Identity)\n",
      "(SE(O136, E6.0, K3), None)\n",
      "(SE(O136, E6.0, K5), Identity)\n",
      "(SE(O136, E4.0, K7), Identity)\n",
      "(SE(O136, E4.0, K3), Identity)\n",
      "(SE(O192, E6.0, K5), None)\n",
      "(SE(O192, E6.0, K5), Identity)\n",
      "(SE(O192, E6.0, K5), Identity)\n",
      "(SE(O192, E3.0, K5), Identity)\n",
      "1x1_Conv_O1152_H_SWISH_BN\n",
      "1x1_Conv_O1536_H_SWISH\n",
      "1536x1000_Linear\n",
      "\n"
     ]
    },
    {
     "name": "stderr",
     "output_type": "stream",
     "text": [
      "Searching with note10 constraint (45): 100%|██████████| 500/500 [00:19<00:00, 26.06it/s]\n",
      "Searching with note10 constraint (50):   1%|          | 4/500 [00:00<00:16, 29.85it/s]"
     ]
    },
    {
     "name": "stdout",
     "output_type": "stream",
     "text": [
      "Found best architecture on note10 with latency <= 45.00 ms It achieves 84.11% predicted accuracy with 44.76 ms latency on note10.\n",
      "Architecture of the searched sub-net:\n",
      "3x3_Conv_O24_H_SWISH_BN\n",
      "(3x3_MBConv1_RELU_O24_BN, Identity)\n",
      "((O32, E4.0, K3), None)\n",
      "((O32, E6.0, K5), Identity)\n",
      "(SE(O48, E4.0, K5), None)\n",
      "(SE(O48, E6.0, K7), Identity)\n",
      "(SE(O48, E4.0, K5), Identity)\n",
      "(SE(O48, E6.0, K3), Identity)\n",
      "((O96, E4.0, K7), None)\n",
      "((O96, E4.0, K7), Identity)\n",
      "((O96, E6.0, K3), Identity)\n",
      "((O96, E3.0, K7), Identity)\n",
      "(SE(O136, E6.0, K7), None)\n",
      "(SE(O136, E6.0, K5), Identity)\n",
      "(SE(O136, E6.0, K3), Identity)\n",
      "(SE(O136, E4.0, K3), Identity)\n",
      "(SE(O192, E6.0, K5), None)\n",
      "(SE(O192, E6.0, K7), Identity)\n",
      "(SE(O192, E6.0, K3), Identity)\n",
      "(SE(O192, E4.0, K5), Identity)\n",
      "1x1_Conv_O1152_H_SWISH_BN\n",
      "1x1_Conv_O1536_H_SWISH\n",
      "1536x1000_Linear\n",
      "\n"
     ]
    },
    {
     "name": "stderr",
     "output_type": "stream",
     "text": [
      "Searching with note10 constraint (50): 100%|██████████| 500/500 [00:19<00:00, 26.07it/s]\n",
      "Searching with note10 constraint (55):   1%|          | 4/500 [00:00<00:16, 30.89it/s]"
     ]
    },
    {
     "name": "stdout",
     "output_type": "stream",
     "text": [
      "Found best architecture on note10 with latency <= 50.00 ms It achieves 84.13% predicted accuracy with 49.58 ms latency on note10.\n",
      "Architecture of the searched sub-net:\n",
      "3x3_Conv_O24_H_SWISH_BN\n",
      "(3x3_MBConv1_RELU_O24_BN, Identity)\n",
      "((O32, E6.0, K3), None)\n",
      "((O32, E3.0, K7), Identity)\n",
      "((O32, E4.0, K5), Identity)\n",
      "((O32, E6.0, K3), Identity)\n",
      "(SE(O48, E3.0, K7), None)\n",
      "(SE(O48, E4.0, K3), Identity)\n",
      "(SE(O48, E6.0, K5), Identity)\n",
      "(SE(O48, E3.0, K7), Identity)\n",
      "((O96, E6.0, K5), None)\n",
      "((O96, E4.0, K3), Identity)\n",
      "((O96, E3.0, K7), Identity)\n",
      "((O96, E6.0, K5), Identity)\n",
      "(SE(O136, E4.0, K3), None)\n",
      "(SE(O136, E6.0, K5), Identity)\n",
      "(SE(O136, E6.0, K5), Identity)\n",
      "(SE(O136, E4.0, K3), Identity)\n",
      "(SE(O192, E6.0, K5), None)\n",
      "(SE(O192, E6.0, K3), Identity)\n",
      "(SE(O192, E6.0, K7), Identity)\n",
      "(SE(O192, E4.0, K7), Identity)\n",
      "1x1_Conv_O1152_H_SWISH_BN\n",
      "1x1_Conv_O1536_H_SWISH\n",
      "1536x1000_Linear\n",
      "\n"
     ]
    },
    {
     "name": "stderr",
     "output_type": "stream",
     "text": [
      "Searching with note10 constraint (55): 100%|██████████| 500/500 [00:17<00:00, 28.22it/s]\n",
      "Searching with note10 constraint (60):   1%|          | 4/500 [00:00<00:16, 30.37it/s]"
     ]
    },
    {
     "name": "stdout",
     "output_type": "stream",
     "text": [
      "Found best architecture on note10 with latency <= 55.00 ms It achieves 84.83% predicted accuracy with 54.20 ms latency on note10.\n",
      "Architecture of the searched sub-net:\n",
      "3x3_Conv_O24_H_SWISH_BN\n",
      "(3x3_MBConv1_RELU_O24_BN, Identity)\n",
      "((O32, E4.0, K3), None)\n",
      "((O32, E3.0, K7), Identity)\n",
      "((O32, E6.0, K3), Identity)\n",
      "(SE(O48, E6.0, K5), None)\n",
      "(SE(O48, E6.0, K5), Identity)\n",
      "(SE(O48, E3.0, K7), Identity)\n",
      "(SE(O48, E6.0, K3), Identity)\n",
      "((O96, E4.0, K5), None)\n",
      "((O96, E3.0, K7), Identity)\n",
      "((O96, E6.0, K3), Identity)\n",
      "((O96, E6.0, K7), Identity)\n",
      "(SE(O136, E4.0, K5), None)\n",
      "(SE(O136, E4.0, K7), Identity)\n",
      "(SE(O136, E6.0, K7), Identity)\n",
      "(SE(O136, E6.0, K5), Identity)\n",
      "(SE(O192, E6.0, K7), None)\n",
      "(SE(O192, E6.0, K5), Identity)\n",
      "(SE(O192, E6.0, K5), Identity)\n",
      "(SE(O192, E4.0, K5), Identity)\n",
      "1x1_Conv_O1152_H_SWISH_BN\n",
      "1x1_Conv_O1536_H_SWISH\n",
      "1536x1000_Linear\n",
      "\n"
     ]
    },
    {
     "name": "stderr",
     "output_type": "stream",
     "text": [
      "Searching with note10 constraint (60): 100%|██████████| 500/500 [00:20<00:00, 23.94it/s]"
     ]
    },
    {
     "name": "stdout",
     "output_type": "stream",
     "text": [
      "Found best architecture on note10 with latency <= 60.00 ms It achieves 84.92% predicted accuracy with 59.83 ms latency on note10.\n",
      "Architecture of the searched sub-net:\n",
      "3x3_Conv_O24_H_SWISH_BN\n",
      "(3x3_MBConv1_RELU_O24_BN, Identity)\n",
      "((O32, E4.0, K3), None)\n",
      "((O32, E6.0, K5), Identity)\n",
      "((O32, E4.0, K3), Identity)\n",
      "((O32, E3.0, K5), Identity)\n",
      "(SE(O48, E6.0, K7), None)\n",
      "(SE(O48, E6.0, K3), Identity)\n",
      "(SE(O48, E4.0, K3), Identity)\n",
      "(SE(O48, E4.0, K7), Identity)\n",
      "((O96, E4.0, K7), None)\n",
      "((O96, E3.0, K5), Identity)\n",
      "((O96, E4.0, K5), Identity)\n",
      "((O96, E6.0, K5), Identity)\n",
      "(SE(O136, E6.0, K5), None)\n",
      "(SE(O136, E6.0, K7), Identity)\n",
      "(SE(O136, E6.0, K5), Identity)\n",
      "(SE(O136, E6.0, K7), Identity)\n",
      "(SE(O192, E6.0, K5), None)\n",
      "(SE(O192, E6.0, K7), Identity)\n",
      "(SE(O192, E6.0, K5), Identity)\n",
      "(SE(O192, E6.0, K7), Identity)\n",
      "1x1_Conv_O1152_H_SWISH_BN\n",
      "1x1_Conv_O1536_H_SWISH\n",
      "1536x1000_Linear\n",
      "\n"
     ]
    },
    {
     "name": "stderr",
     "output_type": "stream",
     "text": [
      "\n"
     ]
    },
    {
     "data": {
      "text/plain": [
       "{(15,): 27.0648090839386,\n",
       " (15, 20): 50.516709089279175,\n",
       " (15, 20, 25): 68.79455637931824,\n",
       " (15, 20, 25, 30): 96.6699378490448,\n",
       " (15, 20, 25, 30, 35): 123.10927200317383,\n",
       " (15, 20, 25, 30, 35, 40, 45, 50, 55, 60): 247.85819578170776}"
      ]
     },
     "execution_count": 16,
     "metadata": {},
     "output_type": "execute_result"
    }
   ],
   "source": [
    "latency_constraints = (15, 20, 25, 30, 35, 40, 45, 50, 55, 60)\n",
    "times[latency_constraints] = run_vanilla_evolutionary_search(latency_constraints)\n",
    "times"
   ]
  },
  {
   "cell_type": "markdown",
   "metadata": {},
   "source": [
    "### ResNet50D"
   ]
  },
  {
   "cell_type": "code",
   "execution_count": 14,
   "metadata": {},
   "outputs": [
    {
     "name": "stderr",
     "output_type": "stream",
     "text": [
      "Searching with note10 constraint (15): 100%|██████████| 500/500 [00:17<00:00, 27.84it/s]\n"
     ]
    },
    {
     "name": "stdout",
     "output_type": "stream",
     "text": [
      "Found best architecture on note10 with latency <= 15.00 ms It achieves 78.37% predicted accuracy with 14.97 ms latency on note10.\n",
      "Architecture of the searched sub-net:\n",
      "DyConv(O32, K3, S2)\n",
      "(DyConv(O32, K3, S1), Identity)\n",
      "DyConv(O64, K3, S1)\n",
      "max_pooling(ks=3, stride=2)\n",
      "(3x3_BottleneckConv_in->768->256_S1, avgpool_conv)\n",
      "(3x3_BottleneckConv_in->768->256_S1, Identity)\n",
      "(3x3_BottleneckConv_in->1536->256_S1, Identity)\n",
      "(3x3_BottleneckConv_in->768->256_S1, Identity)\n",
      "(3x3_BottleneckConv_in->1536->512_S2, avgpool_conv)\n",
      "(3x3_BottleneckConv_in->2048->512_S1, Identity)\n",
      "(3x3_BottleneckConv_in->3072->512_S1, Identity)\n",
      "(3x3_BottleneckConv_in->2048->512_S1, Identity)\n",
      "(3x3_BottleneckConv_in->4096->1024_S2, avgpool_conv)\n",
      "(3x3_BottleneckConv_in->4096->1024_S1, Identity)\n",
      "(3x3_BottleneckConv_in->4096->1024_S1, Identity)\n",
      "(3x3_BottleneckConv_in->4096->1024_S1, Identity)\n",
      "(3x3_BottleneckConv_in->3072->1024_S1, Identity)\n",
      "(3x3_BottleneckConv_in->3072->1024_S1, Identity)\n",
      "(3x3_BottleneckConv_in->8192->2048_S2, avgpool_conv)\n",
      "(3x3_BottleneckConv_in->8192->2048_S1, Identity)\n",
      "(3x3_BottleneckConv_in->12288->2048_S1, Identity)\n",
      "(3x3_BottleneckConv_in->6144->2048_S1, Identity)\n",
      "MyGlobalAvgPool2d(keep_dim=False)\n",
      "DyLinear(2048, 1000)\n"
     ]
    },
    {
     "name": "stderr",
     "output_type": "stream",
     "text": [
      "Searching with note10 constraint (15): 100%|██████████| 500/500 [00:21<00:00, 23.38it/s]\n"
     ]
    },
    {
     "name": "stdout",
     "output_type": "stream",
     "text": [
      "Found best architecture on note10 with latency <= 15.00 ms It achieves 78.61% predicted accuracy with 14.89 ms latency on note10.\n",
      "Architecture of the searched sub-net:\n",
      "DyConv(O32, K3, S2)\n",
      "(DyConv(O32, K3, S1), Identity)\n",
      "DyConv(O64, K3, S1)\n",
      "max_pooling(ks=3, stride=2)\n",
      "(3x3_BottleneckConv_in->768->256_S1, avgpool_conv)\n",
      "(3x3_BottleneckConv_in->768->256_S1, Identity)\n",
      "(3x3_BottleneckConv_in->1024->256_S1, Identity)\n",
      "(3x3_BottleneckConv_in->1536->256_S1, Identity)\n",
      "(3x3_BottleneckConv_in->1536->512_S2, avgpool_conv)\n",
      "(3x3_BottleneckConv_in->2048->512_S1, Identity)\n",
      "(3x3_BottleneckConv_in->3072->512_S1, Identity)\n",
      "(3x3_BottleneckConv_in->3072->512_S1, Identity)\n",
      "(3x3_BottleneckConv_in->6144->1024_S2, avgpool_conv)\n",
      "(3x3_BottleneckConv_in->4096->1024_S1, Identity)\n",
      "(3x3_BottleneckConv_in->3072->1024_S1, Identity)\n",
      "(3x3_BottleneckConv_in->3072->1024_S1, Identity)\n",
      "(3x3_BottleneckConv_in->3072->1024_S1, Identity)\n",
      "(3x3_BottleneckConv_in->4096->1024_S1, Identity)\n",
      "(3x3_BottleneckConv_in->8192->2048_S2, avgpool_conv)\n",
      "(3x3_BottleneckConv_in->6144->2048_S1, Identity)\n",
      "(3x3_BottleneckConv_in->12288->2048_S1, Identity)\n",
      "(3x3_BottleneckConv_in->6144->2048_S1, Identity)\n",
      "MyGlobalAvgPool2d(keep_dim=False)\n",
      "DyLinear(2048, 1000)\n"
     ]
    },
    {
     "name": "stderr",
     "output_type": "stream",
     "text": [
      "Searching with note10 constraint (20): 100%|██████████| 500/500 [00:20<00:00, 24.88it/s]\n"
     ]
    },
    {
     "name": "stdout",
     "output_type": "stream",
     "text": [
      "Found best architecture on note10 with latency <= 20.00 ms It achieves 80.52% predicted accuracy with 19.88 ms latency on note10.\n",
      "Architecture of the searched sub-net:\n",
      "DyConv(O32, K3, S2)\n",
      "(DyConv(O32, K3, S1), Identity)\n",
      "DyConv(O64, K3, S1)\n",
      "max_pooling(ks=3, stride=2)\n",
      "(3x3_BottleneckConv_in->1024->256_S1, avgpool_conv)\n",
      "(3x3_BottleneckConv_in->768->256_S1, Identity)\n",
      "(3x3_BottleneckConv_in->768->256_S1, Identity)\n",
      "(3x3_BottleneckConv_in->768->256_S1, Identity)\n",
      "(3x3_BottleneckConv_in->2048->512_S2, avgpool_conv)\n",
      "(3x3_BottleneckConv_in->2048->512_S1, Identity)\n",
      "(3x3_BottleneckConv_in->2048->512_S1, Identity)\n",
      "(3x3_BottleneckConv_in->2048->512_S1, Identity)\n",
      "(3x3_BottleneckConv_in->4096->1024_S2, avgpool_conv)\n",
      "(3x3_BottleneckConv_in->4096->1024_S1, Identity)\n",
      "(3x3_BottleneckConv_in->3072->1024_S1, Identity)\n",
      "(3x3_BottleneckConv_in->6144->1024_S1, Identity)\n",
      "(3x3_BottleneckConv_in->6144->1024_S1, Identity)\n",
      "(3x3_BottleneckConv_in->4096->1024_S1, Identity)\n",
      "(3x3_BottleneckConv_in->8192->2048_S2, avgpool_conv)\n",
      "(3x3_BottleneckConv_in->8192->2048_S1, Identity)\n",
      "(3x3_BottleneckConv_in->12288->2048_S1, Identity)\n",
      "(3x3_BottleneckConv_in->12288->2048_S1, Identity)\n",
      "MyGlobalAvgPool2d(keep_dim=False)\n",
      "DyLinear(2048, 1000)\n"
     ]
    },
    {
     "name": "stderr",
     "output_type": "stream",
     "text": [
      "Searching with note10 constraint (15): 100%|██████████| 500/500 [00:20<00:00, 23.88it/s]\n"
     ]
    },
    {
     "name": "stdout",
     "output_type": "stream",
     "text": [
      "Found best architecture on note10 with latency <= 15.00 ms It achieves 78.46% predicted accuracy with 14.98 ms latency on note10.\n",
      "Architecture of the searched sub-net:\n",
      "DyConv(O32, K3, S2)\n",
      "(DyConv(O32, K3, S1), Identity)\n",
      "DyConv(O64, K3, S1)\n",
      "max_pooling(ks=3, stride=2)\n",
      "(3x3_BottleneckConv_in->768->256_S1, avgpool_conv)\n",
      "(3x3_BottleneckConv_in->768->256_S1, Identity)\n",
      "(3x3_BottleneckConv_in->768->256_S1, Identity)\n",
      "(3x3_BottleneckConv_in->1536->256_S1, Identity)\n",
      "(3x3_BottleneckConv_in->1536->512_S2, avgpool_conv)\n",
      "(3x3_BottleneckConv_in->3072->512_S1, Identity)\n",
      "(3x3_BottleneckConv_in->1536->512_S1, Identity)\n",
      "(3x3_BottleneckConv_in->2048->512_S1, Identity)\n",
      "(3x3_BottleneckConv_in->6144->1024_S2, avgpool_conv)\n",
      "(3x3_BottleneckConv_in->4096->1024_S1, Identity)\n",
      "(3x3_BottleneckConv_in->4096->1024_S1, Identity)\n",
      "(3x3_BottleneckConv_in->4096->1024_S1, Identity)\n",
      "(3x3_BottleneckConv_in->4096->1024_S1, Identity)\n",
      "(3x3_BottleneckConv_in->4096->1024_S1, Identity)\n",
      "(3x3_BottleneckConv_in->8192->2048_S2, avgpool_conv)\n",
      "(3x3_BottleneckConv_in->8192->2048_S1, Identity)\n",
      "(3x3_BottleneckConv_in->8192->2048_S1, Identity)\n",
      "(3x3_BottleneckConv_in->8192->2048_S1, Identity)\n",
      "MyGlobalAvgPool2d(keep_dim=False)\n",
      "DyLinear(2048, 1000)\n"
     ]
    },
    {
     "name": "stderr",
     "output_type": "stream",
     "text": [
      "Searching with note10 constraint (20): 100%|██████████| 500/500 [00:20<00:00, 24.47it/s]\n",
      "Searching with note10 constraint (25):   1%|          | 3/500 [00:00<00:18, 27.57it/s]"
     ]
    },
    {
     "name": "stdout",
     "output_type": "stream",
     "text": [
      "Found best architecture on note10 with latency <= 20.00 ms It achieves 80.69% predicted accuracy with 19.84 ms latency on note10.\n",
      "Architecture of the searched sub-net:\n",
      "DyConv(O32, K3, S2)\n",
      "(DyConv(O32, K3, S1), Identity)\n",
      "DyConv(O64, K3, S1)\n",
      "max_pooling(ks=3, stride=2)\n",
      "(3x3_BottleneckConv_in->768->256_S1, avgpool_conv)\n",
      "(3x3_BottleneckConv_in->768->256_S1, Identity)\n",
      "(3x3_BottleneckConv_in->1536->256_S1, Identity)\n",
      "(3x3_BottleneckConv_in->1536->256_S1, Identity)\n",
      "(3x3_BottleneckConv_in->2048->512_S2, avgpool_conv)\n",
      "(3x3_BottleneckConv_in->3072->512_S1, Identity)\n",
      "(3x3_BottleneckConv_in->2048->512_S1, Identity)\n",
      "(3x3_BottleneckConv_in->1536->512_S1, Identity)\n",
      "(3x3_BottleneckConv_in->4096->1024_S2, avgpool_conv)\n",
      "(3x3_BottleneckConv_in->4096->1024_S1, Identity)\n",
      "(3x3_BottleneckConv_in->3072->1024_S1, Identity)\n",
      "(3x3_BottleneckConv_in->3072->1024_S1, Identity)\n",
      "(3x3_BottleneckConv_in->4096->1024_S1, Identity)\n",
      "(3x3_BottleneckConv_in->4096->1024_S1, Identity)\n",
      "(3x3_BottleneckConv_in->8192->2048_S2, avgpool_conv)\n",
      "(3x3_BottleneckConv_in->12288->2048_S1, Identity)\n",
      "(3x3_BottleneckConv_in->8192->2048_S1, Identity)\n",
      "(3x3_BottleneckConv_in->12288->2048_S1, Identity)\n",
      "MyGlobalAvgPool2d(keep_dim=False)\n",
      "DyLinear(2048, 1000)\n"
     ]
    },
    {
     "name": "stderr",
     "output_type": "stream",
     "text": [
      "Searching with note10 constraint (25): 100%|██████████| 500/500 [00:19<00:00, 26.00it/s]\n"
     ]
    },
    {
     "name": "stdout",
     "output_type": "stream",
     "text": [
      "Found best architecture on note10 with latency <= 25.00 ms It achieves 81.63% predicted accuracy with 24.99 ms latency on note10.\n",
      "Architecture of the searched sub-net:\n",
      "DyConv(O32, K3, S2)\n",
      "(DyConv(O32, K3, S1), Identity)\n",
      "DyConv(O64, K3, S1)\n",
      "max_pooling(ks=3, stride=2)\n",
      "(3x3_BottleneckConv_in->768->256_S1, avgpool_conv)\n",
      "(3x3_BottleneckConv_in->1024->256_S1, Identity)\n",
      "(3x3_BottleneckConv_in->1024->256_S1, Identity)\n",
      "(3x3_BottleneckConv_in->1536->256_S1, Identity)\n",
      "(3x3_BottleneckConv_in->1536->512_S2, avgpool_conv)\n",
      "(3x3_BottleneckConv_in->3072->512_S1, Identity)\n",
      "(3x3_BottleneckConv_in->2048->512_S1, Identity)\n",
      "(3x3_BottleneckConv_in->2048->512_S1, Identity)\n",
      "(3x3_BottleneckConv_in->6144->1024_S2, avgpool_conv)\n",
      "(3x3_BottleneckConv_in->3072->1024_S1, Identity)\n",
      "(3x3_BottleneckConv_in->6144->1024_S1, Identity)\n",
      "(3x3_BottleneckConv_in->4096->1024_S1, Identity)\n",
      "(3x3_BottleneckConv_in->4096->1024_S1, Identity)\n",
      "(3x3_BottleneckConv_in->6144->1024_S1, Identity)\n",
      "(3x3_BottleneckConv_in->6144->2048_S2, avgpool_conv)\n",
      "(3x3_BottleneckConv_in->6144->2048_S1, Identity)\n",
      "(3x3_BottleneckConv_in->12288->2048_S1, Identity)\n",
      "(3x3_BottleneckConv_in->12288->2048_S1, Identity)\n",
      "MyGlobalAvgPool2d(keep_dim=False)\n",
      "DyLinear(2048, 1000)\n"
     ]
    },
    {
     "name": "stderr",
     "output_type": "stream",
     "text": [
      "Searching with note10 constraint (15): 100%|██████████| 500/500 [00:20<00:00, 24.30it/s]\n"
     ]
    },
    {
     "name": "stdout",
     "output_type": "stream",
     "text": [
      "Found best architecture on note10 with latency <= 15.00 ms It achieves 78.35% predicted accuracy with 14.99 ms latency on note10.\n",
      "Architecture of the searched sub-net:\n",
      "DyConv(O32, K3, S2)\n",
      "(DyConv(O32, K3, S1), Identity)\n",
      "DyConv(O64, K3, S1)\n",
      "max_pooling(ks=3, stride=2)\n",
      "(3x3_BottleneckConv_in->768->256_S1, avgpool_conv)\n",
      "(3x3_BottleneckConv_in->1024->256_S1, Identity)\n",
      "(3x3_BottleneckConv_in->1024->256_S1, Identity)\n",
      "(3x3_BottleneckConv_in->768->256_S1, Identity)\n",
      "(3x3_BottleneckConv_in->3072->512_S2, avgpool_conv)\n",
      "(3x3_BottleneckConv_in->3072->512_S1, Identity)\n",
      "(3x3_BottleneckConv_in->3072->512_S1, Identity)\n",
      "(3x3_BottleneckConv_in->2048->512_S1, Identity)\n",
      "(3x3_BottleneckConv_in->4096->1024_S2, avgpool_conv)\n",
      "(3x3_BottleneckConv_in->3072->1024_S1, Identity)\n",
      "(3x3_BottleneckConv_in->3072->1024_S1, Identity)\n",
      "(3x3_BottleneckConv_in->3072->1024_S1, Identity)\n",
      "(3x3_BottleneckConv_in->4096->1024_S1, Identity)\n",
      "(3x3_BottleneckConv_in->4096->1024_S1, Identity)\n",
      "(3x3_BottleneckConv_in->8192->2048_S2, avgpool_conv)\n",
      "(3x3_BottleneckConv_in->12288->2048_S1, Identity)\n",
      "(3x3_BottleneckConv_in->8192->2048_S1, Identity)\n",
      "(3x3_BottleneckConv_in->12288->2048_S1, Identity)\n",
      "MyGlobalAvgPool2d(keep_dim=False)\n",
      "DyLinear(2048, 1000)\n"
     ]
    },
    {
     "name": "stderr",
     "output_type": "stream",
     "text": [
      "Searching with note10 constraint (20): 100%|██████████| 500/500 [00:21<00:00, 23.71it/s]\n",
      "Searching with note10 constraint (25):   1%|          | 3/500 [00:00<00:18, 26.46it/s]"
     ]
    },
    {
     "name": "stdout",
     "output_type": "stream",
     "text": [
      "Found best architecture on note10 with latency <= 20.00 ms It achieves 80.68% predicted accuracy with 19.99 ms latency on note10.\n",
      "Architecture of the searched sub-net:\n",
      "DyConv(O32, K3, S2)\n",
      "(DyConv(O32, K3, S1), Identity)\n",
      "DyConv(O64, K3, S1)\n",
      "max_pooling(ks=3, stride=2)\n",
      "(3x3_BottleneckConv_in->768->256_S1, avgpool_conv)\n",
      "(3x3_BottleneckConv_in->1024->256_S1, Identity)\n",
      "(3x3_BottleneckConv_in->1536->256_S1, Identity)\n",
      "(3x3_BottleneckConv_in->1024->256_S1, Identity)\n",
      "(3x3_BottleneckConv_in->2048->512_S2, avgpool_conv)\n",
      "(3x3_BottleneckConv_in->2048->512_S1, Identity)\n",
      "(3x3_BottleneckConv_in->1536->512_S1, Identity)\n",
      "(3x3_BottleneckConv_in->3072->512_S1, Identity)\n",
      "(3x3_BottleneckConv_in->4096->1024_S2, avgpool_conv)\n",
      "(3x3_BottleneckConv_in->3072->1024_S1, Identity)\n",
      "(3x3_BottleneckConv_in->3072->1024_S1, Identity)\n",
      "(3x3_BottleneckConv_in->4096->1024_S1, Identity)\n",
      "(3x3_BottleneckConv_in->4096->1024_S1, Identity)\n",
      "(3x3_BottleneckConv_in->4096->1024_S1, Identity)\n",
      "(3x3_BottleneckConv_in->6144->2048_S2, avgpool_conv)\n",
      "(3x3_BottleneckConv_in->12288->2048_S1, Identity)\n",
      "(3x3_BottleneckConv_in->12288->2048_S1, Identity)\n",
      "(3x3_BottleneckConv_in->8192->2048_S1, Identity)\n",
      "MyGlobalAvgPool2d(keep_dim=False)\n",
      "DyLinear(2048, 1000)\n"
     ]
    },
    {
     "name": "stderr",
     "output_type": "stream",
     "text": [
      "Searching with note10 constraint (25): 100%|██████████| 500/500 [00:20<00:00, 24.59it/s]\n",
      "Searching with note10 constraint (30):   1%|          | 3/500 [00:00<00:16, 29.91it/s]"
     ]
    },
    {
     "name": "stdout",
     "output_type": "stream",
     "text": [
      "Found best architecture on note10 with latency <= 25.00 ms It achieves 81.93% predicted accuracy with 24.95 ms latency on note10.\n",
      "Architecture of the searched sub-net:\n",
      "DyConv(O32, K3, S2)\n",
      "(DyConv(O32, K3, S1), Identity)\n",
      "DyConv(O64, K3, S1)\n",
      "max_pooling(ks=3, stride=2)\n",
      "(3x3_BottleneckConv_in->1024->256_S1, avgpool_conv)\n",
      "(3x3_BottleneckConv_in->768->256_S1, Identity)\n",
      "(3x3_BottleneckConv_in->1024->256_S1, Identity)\n",
      "(3x3_BottleneckConv_in->1536->256_S1, Identity)\n",
      "(3x3_BottleneckConv_in->2048->512_S2, avgpool_conv)\n",
      "(3x3_BottleneckConv_in->2048->512_S1, Identity)\n",
      "(3x3_BottleneckConv_in->2048->512_S1, Identity)\n",
      "(3x3_BottleneckConv_in->3072->512_S1, Identity)\n",
      "(3x3_BottleneckConv_in->4096->1024_S2, avgpool_conv)\n",
      "(3x3_BottleneckConv_in->4096->1024_S1, Identity)\n",
      "(3x3_BottleneckConv_in->4096->1024_S1, Identity)\n",
      "(3x3_BottleneckConv_in->3072->1024_S1, Identity)\n",
      "(3x3_BottleneckConv_in->6144->1024_S1, Identity)\n",
      "(3x3_BottleneckConv_in->4096->1024_S1, Identity)\n",
      "(3x3_BottleneckConv_in->8192->2048_S2, avgpool_conv)\n",
      "(3x3_BottleneckConv_in->8192->2048_S1, Identity)\n",
      "(3x3_BottleneckConv_in->12288->2048_S1, Identity)\n",
      "(3x3_BottleneckConv_in->12288->2048_S1, Identity)\n",
      "MyGlobalAvgPool2d(keep_dim=False)\n",
      "DyLinear(2048, 1000)\n"
     ]
    },
    {
     "name": "stderr",
     "output_type": "stream",
     "text": [
      "Searching with note10 constraint (30): 100%|██████████| 500/500 [00:19<00:00, 25.79it/s]\n"
     ]
    },
    {
     "name": "stdout",
     "output_type": "stream",
     "text": [
      "Found best architecture on note10 with latency <= 30.00 ms It achieves 82.49% predicted accuracy with 29.94 ms latency on note10.\n",
      "Architecture of the searched sub-net:\n",
      "DyConv(O32, K3, S2)\n",
      "DyConv(O64, K3, S1)\n",
      "max_pooling(ks=3, stride=2)\n",
      "(3x3_BottleneckConv_in->1024->256_S1, avgpool_conv)\n",
      "(3x3_BottleneckConv_in->768->256_S1, Identity)\n",
      "(3x3_BottleneckConv_in->768->256_S1, Identity)\n",
      "(3x3_BottleneckConv_in->1536->256_S1, Identity)\n",
      "(3x3_BottleneckConv_in->2048->512_S2, avgpool_conv)\n",
      "(3x3_BottleneckConv_in->3072->512_S1, Identity)\n",
      "(3x3_BottleneckConv_in->1536->512_S1, Identity)\n",
      "(3x3_BottleneckConv_in->2048->512_S1, Identity)\n",
      "(3x3_BottleneckConv_in->4096->1024_S2, avgpool_conv)\n",
      "(3x3_BottleneckConv_in->3072->1024_S1, Identity)\n",
      "(3x3_BottleneckConv_in->3072->1024_S1, Identity)\n",
      "(3x3_BottleneckConv_in->4096->1024_S1, Identity)\n",
      "(3x3_BottleneckConv_in->4096->1024_S1, Identity)\n",
      "(3x3_BottleneckConv_in->6144->1024_S1, Identity)\n",
      "(3x3_BottleneckConv_in->12288->2048_S2, avgpool_conv)\n",
      "(3x3_BottleneckConv_in->8192->2048_S1, Identity)\n",
      "(3x3_BottleneckConv_in->12288->2048_S1, Identity)\n",
      "(3x3_BottleneckConv_in->12288->2048_S1, Identity)\n",
      "MyGlobalAvgPool2d(keep_dim=False)\n",
      "DyLinear(2048, 1000)\n"
     ]
    },
    {
     "name": "stderr",
     "output_type": "stream",
     "text": [
      "Searching with note10 constraint (15): 100%|██████████| 500/500 [00:22<00:00, 22.21it/s]\n"
     ]
    },
    {
     "name": "stdout",
     "output_type": "stream",
     "text": [
      "Found best architecture on note10 with latency <= 15.00 ms It achieves 78.58% predicted accuracy with 14.97 ms latency on note10.\n",
      "Architecture of the searched sub-net:\n",
      "DyConv(O32, K3, S2)\n",
      "(DyConv(O32, K3, S1), Identity)\n",
      "DyConv(O64, K3, S1)\n",
      "max_pooling(ks=3, stride=2)\n",
      "(3x3_BottleneckConv_in->768->256_S1, avgpool_conv)\n",
      "(3x3_BottleneckConv_in->768->256_S1, Identity)\n",
      "(3x3_BottleneckConv_in->768->256_S1, Identity)\n",
      "(3x3_BottleneckConv_in->1536->256_S1, Identity)\n",
      "(3x3_BottleneckConv_in->2048->512_S2, avgpool_conv)\n",
      "(3x3_BottleneckConv_in->2048->512_S1, Identity)\n",
      "(3x3_BottleneckConv_in->1536->512_S1, Identity)\n",
      "(3x3_BottleneckConv_in->1536->512_S1, Identity)\n",
      "(3x3_BottleneckConv_in->4096->1024_S2, avgpool_conv)\n",
      "(3x3_BottleneckConv_in->4096->1024_S1, Identity)\n",
      "(3x3_BottleneckConv_in->4096->1024_S1, Identity)\n",
      "(3x3_BottleneckConv_in->3072->1024_S1, Identity)\n",
      "(3x3_BottleneckConv_in->4096->1024_S1, Identity)\n",
      "(3x3_BottleneckConv_in->4096->1024_S1, Identity)\n",
      "(3x3_BottleneckConv_in->8192->2048_S2, avgpool_conv)\n",
      "(3x3_BottleneckConv_in->12288->2048_S1, Identity)\n",
      "(3x3_BottleneckConv_in->8192->2048_S1, Identity)\n",
      "(3x3_BottleneckConv_in->8192->2048_S1, Identity)\n",
      "MyGlobalAvgPool2d(keep_dim=False)\n",
      "DyLinear(2048, 1000)\n"
     ]
    },
    {
     "name": "stderr",
     "output_type": "stream",
     "text": [
      "Searching with note10 constraint (20): 100%|██████████| 500/500 [00:22<00:00, 22.21it/s]\n",
      "Searching with note10 constraint (25):   0%|          | 0/500 [00:00<?, ?it/s]"
     ]
    },
    {
     "name": "stdout",
     "output_type": "stream",
     "text": [
      "Found best architecture on note10 with latency <= 20.00 ms It achieves 80.44% predicted accuracy with 19.97 ms latency on note10.\n",
      "Architecture of the searched sub-net:\n",
      "DyConv(O32, K3, S2)\n",
      "(DyConv(O32, K3, S1), Identity)\n",
      "DyConv(O64, K3, S1)\n",
      "max_pooling(ks=3, stride=2)\n",
      "(3x3_BottleneckConv_in->1024->256_S1, avgpool_conv)\n",
      "(3x3_BottleneckConv_in->768->256_S1, Identity)\n",
      "(3x3_BottleneckConv_in->1536->256_S1, Identity)\n",
      "(3x3_BottleneckConv_in->1536->256_S1, Identity)\n",
      "(3x3_BottleneckConv_in->2048->512_S2, avgpool_conv)\n",
      "(3x3_BottleneckConv_in->2048->512_S1, Identity)\n",
      "(3x3_BottleneckConv_in->1536->512_S1, Identity)\n",
      "(3x3_BottleneckConv_in->3072->512_S1, Identity)\n",
      "(3x3_BottleneckConv_in->4096->1024_S2, avgpool_conv)\n",
      "(3x3_BottleneckConv_in->4096->1024_S1, Identity)\n",
      "(3x3_BottleneckConv_in->4096->1024_S1, Identity)\n",
      "(3x3_BottleneckConv_in->3072->1024_S1, Identity)\n",
      "(3x3_BottleneckConv_in->4096->1024_S1, Identity)\n",
      "(3x3_BottleneckConv_in->3072->1024_S1, Identity)\n",
      "(3x3_BottleneckConv_in->8192->2048_S2, avgpool_conv)\n",
      "(3x3_BottleneckConv_in->12288->2048_S1, Identity)\n",
      "(3x3_BottleneckConv_in->12288->2048_S1, Identity)\n",
      "(3x3_BottleneckConv_in->8192->2048_S1, Identity)\n",
      "MyGlobalAvgPool2d(keep_dim=False)\n",
      "DyLinear(2048, 1000)\n"
     ]
    },
    {
     "name": "stderr",
     "output_type": "stream",
     "text": [
      "Searching with note10 constraint (25): 100%|██████████| 500/500 [00:21<00:00, 23.06it/s]\n",
      "Searching with note10 constraint (30):   1%|          | 3/500 [00:00<00:20, 24.62it/s]"
     ]
    },
    {
     "name": "stdout",
     "output_type": "stream",
     "text": [
      "Found best architecture on note10 with latency <= 25.00 ms It achieves 82.09% predicted accuracy with 24.98 ms latency on note10.\n",
      "Architecture of the searched sub-net:\n",
      "DyConv(O32, K3, S2)\n",
      "(DyConv(O32, K3, S1), Identity)\n",
      "DyConv(O64, K3, S1)\n",
      "max_pooling(ks=3, stride=2)\n",
      "(3x3_BottleneckConv_in->768->256_S1, avgpool_conv)\n",
      "(3x3_BottleneckConv_in->768->256_S1, Identity)\n",
      "(3x3_BottleneckConv_in->1024->256_S1, Identity)\n",
      "(3x3_BottleneckConv_in->1536->256_S1, Identity)\n",
      "(3x3_BottleneckConv_in->2048->512_S2, avgpool_conv)\n",
      "(3x3_BottleneckConv_in->2048->512_S1, Identity)\n",
      "(3x3_BottleneckConv_in->2048->512_S1, Identity)\n",
      "(3x3_BottleneckConv_in->2048->512_S1, Identity)\n",
      "(3x3_BottleneckConv_in->4096->1024_S2, avgpool_conv)\n",
      "(3x3_BottleneckConv_in->4096->1024_S1, Identity)\n",
      "(3x3_BottleneckConv_in->3072->1024_S1, Identity)\n",
      "(3x3_BottleneckConv_in->3072->1024_S1, Identity)\n",
      "(3x3_BottleneckConv_in->3072->1024_S1, Identity)\n",
      "(3x3_BottleneckConv_in->4096->1024_S1, Identity)\n",
      "(3x3_BottleneckConv_in->8192->2048_S2, avgpool_conv)\n",
      "(3x3_BottleneckConv_in->8192->2048_S1, Identity)\n",
      "(3x3_BottleneckConv_in->12288->2048_S1, Identity)\n",
      "(3x3_BottleneckConv_in->12288->2048_S1, Identity)\n",
      "MyGlobalAvgPool2d(keep_dim=False)\n",
      "DyLinear(2048, 1000)\n"
     ]
    },
    {
     "name": "stderr",
     "output_type": "stream",
     "text": [
      "Searching with note10 constraint (30): 100%|██████████| 500/500 [00:20<00:00, 23.94it/s]\n",
      "Searching with note10 constraint (35):   1%|          | 3/500 [00:00<00:22, 22.53it/s]"
     ]
    },
    {
     "name": "stdout",
     "output_type": "stream",
     "text": [
      "Found best architecture on note10 with latency <= 30.00 ms It achieves 82.47% predicted accuracy with 29.86 ms latency on note10.\n",
      "Architecture of the searched sub-net:\n",
      "DyConv(O32, K3, S2)\n",
      "DyConv(O64, K3, S1)\n",
      "max_pooling(ks=3, stride=2)\n",
      "(3x3_BottleneckConv_in->1024->256_S1, avgpool_conv)\n",
      "(3x3_BottleneckConv_in->1536->256_S1, Identity)\n",
      "(3x3_BottleneckConv_in->1536->256_S1, Identity)\n",
      "(3x3_BottleneckConv_in->1024->256_S1, Identity)\n",
      "(3x3_BottleneckConv_in->3072->512_S2, avgpool_conv)\n",
      "(3x3_BottleneckConv_in->3072->512_S1, Identity)\n",
      "(3x3_BottleneckConv_in->2048->512_S1, Identity)\n",
      "(3x3_BottleneckConv_in->3072->512_S1, Identity)\n",
      "(3x3_BottleneckConv_in->4096->1024_S2, avgpool_conv)\n",
      "(3x3_BottleneckConv_in->4096->1024_S1, Identity)\n",
      "(3x3_BottleneckConv_in->4096->1024_S1, Identity)\n",
      "(3x3_BottleneckConv_in->6144->1024_S1, Identity)\n",
      "(3x3_BottleneckConv_in->6144->1024_S1, Identity)\n",
      "(3x3_BottleneckConv_in->4096->1024_S1, Identity)\n",
      "(3x3_BottleneckConv_in->8192->2048_S2, avgpool_conv)\n",
      "(3x3_BottleneckConv_in->8192->2048_S1, Identity)\n",
      "(3x3_BottleneckConv_in->12288->2048_S1, Identity)\n",
      "(3x3_BottleneckConv_in->12288->2048_S1, Identity)\n",
      "MyGlobalAvgPool2d(keep_dim=False)\n",
      "DyLinear(2048, 1000)\n"
     ]
    },
    {
     "name": "stderr",
     "output_type": "stream",
     "text": [
      "Searching with note10 constraint (35): 100%|██████████| 500/500 [00:20<00:00, 24.12it/s]\n"
     ]
    },
    {
     "name": "stdout",
     "output_type": "stream",
     "text": [
      "Found best architecture on note10 with latency <= 35.00 ms It achieves 83.13% predicted accuracy with 34.33 ms latency on note10.\n",
      "Architecture of the searched sub-net:\n",
      "DyConv(O32, K3, S2)\n",
      "DyConv(O64, K3, S1)\n",
      "max_pooling(ks=3, stride=2)\n",
      "(3x3_BottleneckConv_in->1024->256_S1, avgpool_conv)\n",
      "(3x3_BottleneckConv_in->1024->256_S1, Identity)\n",
      "(3x3_BottleneckConv_in->768->256_S1, Identity)\n",
      "(3x3_BottleneckConv_in->1536->256_S1, Identity)\n",
      "(3x3_BottleneckConv_in->2048->512_S2, avgpool_conv)\n",
      "(3x3_BottleneckConv_in->2048->512_S1, Identity)\n",
      "(3x3_BottleneckConv_in->1536->512_S1, Identity)\n",
      "(3x3_BottleneckConv_in->1536->512_S1, Identity)\n",
      "(3x3_BottleneckConv_in->6144->1024_S2, avgpool_conv)\n",
      "(3x3_BottleneckConv_in->4096->1024_S1, Identity)\n",
      "(3x3_BottleneckConv_in->3072->1024_S1, Identity)\n",
      "(3x3_BottleneckConv_in->4096->1024_S1, Identity)\n",
      "(3x3_BottleneckConv_in->4096->1024_S1, Identity)\n",
      "(3x3_BottleneckConv_in->6144->1024_S1, Identity)\n",
      "(3x3_BottleneckConv_in->12288->2048_S2, avgpool_conv)\n",
      "(3x3_BottleneckConv_in->8192->2048_S1, Identity)\n",
      "(3x3_BottleneckConv_in->12288->2048_S1, Identity)\n",
      "(3x3_BottleneckConv_in->12288->2048_S1, Identity)\n",
      "MyGlobalAvgPool2d(keep_dim=False)\n",
      "DyLinear(2048, 1000)\n"
     ]
    },
    {
     "name": "stderr",
     "output_type": "stream",
     "text": [
      "Searching with note10 constraint (15): 100%|██████████| 500/500 [00:22<00:00, 21.94it/s]\n"
     ]
    },
    {
     "name": "stdout",
     "output_type": "stream",
     "text": [
      "Found best architecture on note10 with latency <= 15.00 ms It achieves 78.30% predicted accuracy with 14.97 ms latency on note10.\n",
      "Architecture of the searched sub-net:\n",
      "DyConv(O32, K3, S2)\n",
      "(DyConv(O32, K3, S1), Identity)\n",
      "DyConv(O64, K3, S1)\n",
      "max_pooling(ks=3, stride=2)\n",
      "(3x3_BottleneckConv_in->768->256_S1, avgpool_conv)\n",
      "(3x3_BottleneckConv_in->1024->256_S1, Identity)\n",
      "(3x3_BottleneckConv_in->1536->256_S1, Identity)\n",
      "(3x3_BottleneckConv_in->1024->256_S1, Identity)\n",
      "(3x3_BottleneckConv_in->2048->512_S2, avgpool_conv)\n",
      "(3x3_BottleneckConv_in->2048->512_S1, Identity)\n",
      "(3x3_BottleneckConv_in->1536->512_S1, Identity)\n",
      "(3x3_BottleneckConv_in->3072->512_S1, Identity)\n",
      "(3x3_BottleneckConv_in->4096->1024_S2, avgpool_conv)\n",
      "(3x3_BottleneckConv_in->4096->1024_S1, Identity)\n",
      "(3x3_BottleneckConv_in->3072->1024_S1, Identity)\n",
      "(3x3_BottleneckConv_in->6144->1024_S1, Identity)\n",
      "(3x3_BottleneckConv_in->3072->1024_S1, Identity)\n",
      "(3x3_BottleneckConv_in->4096->1024_S1, Identity)\n",
      "(3x3_BottleneckConv_in->8192->2048_S2, avgpool_conv)\n",
      "(3x3_BottleneckConv_in->8192->2048_S1, Identity)\n",
      "(3x3_BottleneckConv_in->12288->2048_S1, Identity)\n",
      "(3x3_BottleneckConv_in->8192->2048_S1, Identity)\n",
      "MyGlobalAvgPool2d(keep_dim=False)\n",
      "DyLinear(2048, 1000)\n"
     ]
    },
    {
     "name": "stderr",
     "output_type": "stream",
     "text": [
      "Searching with note10 constraint (20): 100%|██████████| 500/500 [00:25<00:00, 19.97it/s]\n",
      "Searching with note10 constraint (25):   0%|          | 0/500 [00:00<?, ?it/s]"
     ]
    },
    {
     "name": "stdout",
     "output_type": "stream",
     "text": [
      "Found best architecture on note10 with latency <= 20.00 ms It achieves 80.59% predicted accuracy with 19.96 ms latency on note10.\n",
      "Architecture of the searched sub-net:\n",
      "DyConv(O32, K3, S2)\n",
      "(DyConv(O32, K3, S1), Identity)\n",
      "DyConv(O64, K3, S1)\n",
      "max_pooling(ks=3, stride=2)\n",
      "(3x3_BottleneckConv_in->768->256_S1, avgpool_conv)\n",
      "(3x3_BottleneckConv_in->768->256_S1, Identity)\n",
      "(3x3_BottleneckConv_in->1024->256_S1, Identity)\n",
      "(3x3_BottleneckConv_in->1024->256_S1, Identity)\n",
      "(3x3_BottleneckConv_in->2048->512_S2, avgpool_conv)\n",
      "(3x3_BottleneckConv_in->3072->512_S1, Identity)\n",
      "(3x3_BottleneckConv_in->2048->512_S1, Identity)\n",
      "(3x3_BottleneckConv_in->3072->512_S1, Identity)\n",
      "(3x3_BottleneckConv_in->4096->1024_S2, avgpool_conv)\n",
      "(3x3_BottleneckConv_in->4096->1024_S1, Identity)\n",
      "(3x3_BottleneckConv_in->3072->1024_S1, Identity)\n",
      "(3x3_BottleneckConv_in->4096->1024_S1, Identity)\n",
      "(3x3_BottleneckConv_in->4096->1024_S1, Identity)\n",
      "(3x3_BottleneckConv_in->4096->1024_S1, Identity)\n",
      "(3x3_BottleneckConv_in->8192->2048_S2, avgpool_conv)\n",
      "(3x3_BottleneckConv_in->8192->2048_S1, Identity)\n",
      "(3x3_BottleneckConv_in->8192->2048_S1, Identity)\n",
      "(3x3_BottleneckConv_in->12288->2048_S1, Identity)\n",
      "MyGlobalAvgPool2d(keep_dim=False)\n",
      "DyLinear(2048, 1000)\n"
     ]
    },
    {
     "name": "stderr",
     "output_type": "stream",
     "text": [
      "Searching with note10 constraint (25): 100%|██████████| 500/500 [00:22<00:00, 22.21it/s]\n",
      "Searching with note10 constraint (30):   1%|          | 3/500 [00:00<00:20, 24.48it/s]"
     ]
    },
    {
     "name": "stdout",
     "output_type": "stream",
     "text": [
      "Found best architecture on note10 with latency <= 25.00 ms It achieves 81.62% predicted accuracy with 24.74 ms latency on note10.\n",
      "Architecture of the searched sub-net:\n",
      "DyConv(O32, K3, S2)\n",
      "(DyConv(O32, K3, S1), Identity)\n",
      "DyConv(O64, K3, S1)\n",
      "max_pooling(ks=3, stride=2)\n",
      "(3x3_BottleneckConv_in->768->256_S1, avgpool_conv)\n",
      "(3x3_BottleneckConv_in->768->256_S1, Identity)\n",
      "(3x3_BottleneckConv_in->1536->256_S1, Identity)\n",
      "(3x3_BottleneckConv_in->1536->256_S1, Identity)\n",
      "(3x3_BottleneckConv_in->2048->512_S2, avgpool_conv)\n",
      "(3x3_BottleneckConv_in->2048->512_S1, Identity)\n",
      "(3x3_BottleneckConv_in->1536->512_S1, Identity)\n",
      "(3x3_BottleneckConv_in->3072->512_S1, Identity)\n",
      "(3x3_BottleneckConv_in->4096->1024_S2, avgpool_conv)\n",
      "(3x3_BottleneckConv_in->3072->1024_S1, Identity)\n",
      "(3x3_BottleneckConv_in->4096->1024_S1, Identity)\n",
      "(3x3_BottleneckConv_in->4096->1024_S1, Identity)\n",
      "(3x3_BottleneckConv_in->4096->1024_S1, Identity)\n",
      "(3x3_BottleneckConv_in->4096->1024_S1, Identity)\n",
      "(3x3_BottleneckConv_in->6144->2048_S2, avgpool_conv)\n",
      "(3x3_BottleneckConv_in->6144->2048_S1, Identity)\n",
      "(3x3_BottleneckConv_in->12288->2048_S1, Identity)\n",
      "(3x3_BottleneckConv_in->12288->2048_S1, Identity)\n",
      "MyGlobalAvgPool2d(keep_dim=False)\n",
      "DyLinear(2048, 1000)\n"
     ]
    },
    {
     "name": "stderr",
     "output_type": "stream",
     "text": [
      "Searching with note10 constraint (30): 100%|██████████| 500/500 [00:22<00:00, 22.09it/s]\n",
      "Searching with note10 constraint (35):   1%|          | 3/500 [00:00<00:19, 25.04it/s]"
     ]
    },
    {
     "name": "stdout",
     "output_type": "stream",
     "text": [
      "Found best architecture on note10 with latency <= 30.00 ms It achieves 82.58% predicted accuracy with 29.94 ms latency on note10.\n",
      "Architecture of the searched sub-net:\n",
      "DyConv(O32, K3, S2)\n",
      "(DyConv(O32, K3, S1), Identity)\n",
      "DyConv(O64, K3, S1)\n",
      "max_pooling(ks=3, stride=2)\n",
      "(3x3_BottleneckConv_in->768->256_S1, avgpool_conv)\n",
      "(3x3_BottleneckConv_in->1024->256_S1, Identity)\n",
      "(3x3_BottleneckConv_in->1024->256_S1, Identity)\n",
      "(3x3_BottleneckConv_in->1024->256_S1, Identity)\n",
      "(3x3_BottleneckConv_in->3072->512_S2, avgpool_conv)\n",
      "(3x3_BottleneckConv_in->3072->512_S1, Identity)\n",
      "(3x3_BottleneckConv_in->2048->512_S1, Identity)\n",
      "(3x3_BottleneckConv_in->3072->512_S1, Identity)\n",
      "(3x3_BottleneckConv_in->4096->1024_S2, avgpool_conv)\n",
      "(3x3_BottleneckConv_in->3072->1024_S1, Identity)\n",
      "(3x3_BottleneckConv_in->6144->1024_S1, Identity)\n",
      "(3x3_BottleneckConv_in->3072->1024_S1, Identity)\n",
      "(3x3_BottleneckConv_in->4096->1024_S1, Identity)\n",
      "(3x3_BottleneckConv_in->4096->1024_S1, Identity)\n",
      "(3x3_BottleneckConv_in->12288->2048_S2, avgpool_conv)\n",
      "(3x3_BottleneckConv_in->8192->2048_S1, Identity)\n",
      "(3x3_BottleneckConv_in->12288->2048_S1, Identity)\n",
      "(3x3_BottleneckConv_in->12288->2048_S1, Identity)\n",
      "MyGlobalAvgPool2d(keep_dim=False)\n",
      "DyLinear(2048, 1000)\n"
     ]
    },
    {
     "name": "stderr",
     "output_type": "stream",
     "text": [
      "Searching with note10 constraint (35): 100%|██████████| 500/500 [00:22<00:00, 21.97it/s]\n",
      "Searching with note10 constraint (40):   1%|          | 3/500 [00:00<00:19, 25.64it/s]"
     ]
    },
    {
     "name": "stdout",
     "output_type": "stream",
     "text": [
      "Found best architecture on note10 with latency <= 35.00 ms It achieves 83.49% predicted accuracy with 34.90 ms latency on note10.\n",
      "Architecture of the searched sub-net:\n",
      "DyConv(O32, K3, S2)\n",
      "(DyConv(O32, K3, S1), Identity)\n",
      "DyConv(O64, K3, S1)\n",
      "max_pooling(ks=3, stride=2)\n",
      "(3x3_BottleneckConv_in->1024->256_S1, avgpool_conv)\n",
      "(3x3_BottleneckConv_in->768->256_S1, Identity)\n",
      "(3x3_BottleneckConv_in->1024->256_S1, Identity)\n",
      "(3x3_BottleneckConv_in->768->256_S1, Identity)\n",
      "(3x3_BottleneckConv_in->3072->512_S2, avgpool_conv)\n",
      "(3x3_BottleneckConv_in->3072->512_S1, Identity)\n",
      "(3x3_BottleneckConv_in->1536->512_S1, Identity)\n",
      "(3x3_BottleneckConv_in->1536->512_S1, Identity)\n",
      "(3x3_BottleneckConv_in->4096->1024_S2, avgpool_conv)\n",
      "(3x3_BottleneckConv_in->3072->1024_S1, Identity)\n",
      "(3x3_BottleneckConv_in->6144->1024_S1, Identity)\n",
      "(3x3_BottleneckConv_in->3072->1024_S1, Identity)\n",
      "(3x3_BottleneckConv_in->4096->1024_S1, Identity)\n",
      "(3x3_BottleneckConv_in->4096->1024_S1, Identity)\n",
      "(3x3_BottleneckConv_in->8192->2048_S2, avgpool_conv)\n",
      "(3x3_BottleneckConv_in->6144->2048_S1, Identity)\n",
      "(3x3_BottleneckConv_in->12288->2048_S1, Identity)\n",
      "(3x3_BottleneckConv_in->12288->2048_S1, Identity)\n",
      "MyGlobalAvgPool2d(keep_dim=False)\n",
      "DyLinear(2048, 1000)\n"
     ]
    },
    {
     "name": "stderr",
     "output_type": "stream",
     "text": [
      "Searching with note10 constraint (40): 100%|██████████| 500/500 [00:18<00:00, 26.88it/s]\n",
      "Searching with note10 constraint (45):   1%|          | 3/500 [00:00<00:17, 29.20it/s]"
     ]
    },
    {
     "name": "stdout",
     "output_type": "stream",
     "text": [
      "Found best architecture on note10 with latency <= 40.00 ms It achieves 83.96% predicted accuracy with 39.20 ms latency on note10.\n",
      "Architecture of the searched sub-net:\n",
      "DyConv(O32, K3, S2)\n",
      "DyConv(O64, K3, S1)\n",
      "max_pooling(ks=3, stride=2)\n",
      "(3x3_BottleneckConv_in->1024->256_S1, avgpool_conv)\n",
      "(3x3_BottleneckConv_in->768->256_S1, Identity)\n",
      "(3x3_BottleneckConv_in->768->256_S1, Identity)\n",
      "(3x3_BottleneckConv_in->1536->256_S1, Identity)\n",
      "(3x3_BottleneckConv_in->3072->512_S2, avgpool_conv)\n",
      "(3x3_BottleneckConv_in->3072->512_S1, Identity)\n",
      "(3x3_BottleneckConv_in->1536->512_S1, Identity)\n",
      "(3x3_BottleneckConv_in->1536->512_S1, Identity)\n",
      "(3x3_BottleneckConv_in->4096->1024_S2, avgpool_conv)\n",
      "(3x3_BottleneckConv_in->3072->1024_S1, Identity)\n",
      "(3x3_BottleneckConv_in->4096->1024_S1, Identity)\n",
      "(3x3_BottleneckConv_in->6144->1024_S1, Identity)\n",
      "(3x3_BottleneckConv_in->6144->1024_S1, Identity)\n",
      "(3x3_BottleneckConv_in->4096->1024_S1, Identity)\n",
      "(3x3_BottleneckConv_in->12288->2048_S2, avgpool_conv)\n",
      "(3x3_BottleneckConv_in->6144->2048_S1, Identity)\n",
      "(3x3_BottleneckConv_in->12288->2048_S1, Identity)\n",
      "(3x3_BottleneckConv_in->12288->2048_S1, Identity)\n",
      "MyGlobalAvgPool2d(keep_dim=False)\n",
      "DyLinear(2048, 1000)\n"
     ]
    },
    {
     "name": "stderr",
     "output_type": "stream",
     "text": [
      "Searching with note10 constraint (45): 100%|██████████| 500/500 [00:19<00:00, 25.36it/s]\n",
      "Searching with note10 constraint (50):   1%|          | 3/500 [00:00<00:19, 25.47it/s]"
     ]
    },
    {
     "name": "stdout",
     "output_type": "stream",
     "text": [
      "Found best architecture on note10 with latency <= 45.00 ms It achieves 84.80% predicted accuracy with 44.40 ms latency on note10.\n",
      "Architecture of the searched sub-net:\n",
      "DyConv(O32, K3, S2)\n",
      "(DyConv(O32, K3, S1), Identity)\n",
      "DyConv(O64, K3, S1)\n",
      "max_pooling(ks=3, stride=2)\n",
      "(3x3_BottleneckConv_in->1024->256_S1, avgpool_conv)\n",
      "(3x3_BottleneckConv_in->1024->256_S1, Identity)\n",
      "(3x3_BottleneckConv_in->768->256_S1, Identity)\n",
      "(3x3_BottleneckConv_in->1536->256_S1, Identity)\n",
      "(3x3_BottleneckConv_in->2048->512_S2, avgpool_conv)\n",
      "(3x3_BottleneckConv_in->1536->512_S1, Identity)\n",
      "(3x3_BottleneckConv_in->2048->512_S1, Identity)\n",
      "(3x3_BottleneckConv_in->3072->512_S1, Identity)\n",
      "(3x3_BottleneckConv_in->6144->1024_S2, avgpool_conv)\n",
      "(3x3_BottleneckConv_in->3072->1024_S1, Identity)\n",
      "(3x3_BottleneckConv_in->6144->1024_S1, Identity)\n",
      "(3x3_BottleneckConv_in->3072->1024_S1, Identity)\n",
      "(3x3_BottleneckConv_in->6144->1024_S1, Identity)\n",
      "(3x3_BottleneckConv_in->6144->1024_S1, Identity)\n",
      "(3x3_BottleneckConv_in->6144->2048_S2, avgpool_conv)\n",
      "(3x3_BottleneckConv_in->8192->2048_S1, Identity)\n",
      "(3x3_BottleneckConv_in->12288->2048_S1, Identity)\n",
      "(3x3_BottleneckConv_in->12288->2048_S1, Identity)\n",
      "MyGlobalAvgPool2d(keep_dim=False)\n",
      "DyLinear(2048, 1000)\n"
     ]
    },
    {
     "name": "stderr",
     "output_type": "stream",
     "text": [
      "Searching with note10 constraint (50): 100%|██████████| 500/500 [00:20<00:00, 24.78it/s]\n",
      "Searching with note10 constraint (55):   1%|          | 3/500 [00:00<00:18, 26.87it/s]"
     ]
    },
    {
     "name": "stdout",
     "output_type": "stream",
     "text": [
      "Found best architecture on note10 with latency <= 50.00 ms It achieves 84.67% predicted accuracy with 49.43 ms latency on note10.\n",
      "Architecture of the searched sub-net:\n",
      "DyConv(O32, K3, S2)\n",
      "(DyConv(O32, K3, S1), Identity)\n",
      "DyConv(O64, K3, S1)\n",
      "max_pooling(ks=3, stride=2)\n",
      "(3x3_BottleneckConv_in->1024->256_S1, avgpool_conv)\n",
      "(3x3_BottleneckConv_in->1024->256_S1, Identity)\n",
      "(3x3_BottleneckConv_in->1024->256_S1, Identity)\n",
      "(3x3_BottleneckConv_in->1024->256_S1, Identity)\n",
      "(3x3_BottleneckConv_in->3072->512_S2, avgpool_conv)\n",
      "(3x3_BottleneckConv_in->2048->512_S1, Identity)\n",
      "(3x3_BottleneckConv_in->2048->512_S1, Identity)\n",
      "(3x3_BottleneckConv_in->1536->512_S1, Identity)\n",
      "(3x3_BottleneckConv_in->4096->1024_S2, avgpool_conv)\n",
      "(3x3_BottleneckConv_in->3072->1024_S1, Identity)\n",
      "(3x3_BottleneckConv_in->4096->1024_S1, Identity)\n",
      "(3x3_BottleneckConv_in->6144->1024_S1, Identity)\n",
      "(3x3_BottleneckConv_in->6144->1024_S1, Identity)\n",
      "(3x3_BottleneckConv_in->4096->1024_S1, Identity)\n",
      "(3x3_BottleneckConv_in->12288->2048_S2, avgpool_conv)\n",
      "(3x3_BottleneckConv_in->12288->2048_S1, Identity)\n",
      "(3x3_BottleneckConv_in->12288->2048_S1, Identity)\n",
      "(3x3_BottleneckConv_in->12288->2048_S1, Identity)\n",
      "MyGlobalAvgPool2d(keep_dim=False)\n",
      "DyLinear(2048, 1000)\n"
     ]
    },
    {
     "name": "stderr",
     "output_type": "stream",
     "text": [
      "Searching with note10 constraint (55): 100%|██████████| 500/500 [00:21<00:00, 23.41it/s]\n",
      "Searching with note10 constraint (60):   1%|          | 3/500 [00:00<00:19, 25.39it/s]"
     ]
    },
    {
     "name": "stdout",
     "output_type": "stream",
     "text": [
      "Found best architecture on note10 with latency <= 55.00 ms It achieves 84.82% predicted accuracy with 54.00 ms latency on note10.\n",
      "Architecture of the searched sub-net:\n",
      "DyConv(O32, K3, S2)\n",
      "DyConv(O64, K3, S1)\n",
      "max_pooling(ks=3, stride=2)\n",
      "(3x3_BottleneckConv_in->1024->256_S1, avgpool_conv)\n",
      "(3x3_BottleneckConv_in->1024->256_S1, Identity)\n",
      "(3x3_BottleneckConv_in->768->256_S1, Identity)\n",
      "(3x3_BottleneckConv_in->1536->256_S1, Identity)\n",
      "(3x3_BottleneckConv_in->3072->512_S2, avgpool_conv)\n",
      "(3x3_BottleneckConv_in->3072->512_S1, Identity)\n",
      "(3x3_BottleneckConv_in->2048->512_S1, Identity)\n",
      "(3x3_BottleneckConv_in->3072->512_S1, Identity)\n",
      "(3x3_BottleneckConv_in->4096->1024_S2, avgpool_conv)\n",
      "(3x3_BottleneckConv_in->3072->1024_S1, Identity)\n",
      "(3x3_BottleneckConv_in->4096->1024_S1, Identity)\n",
      "(3x3_BottleneckConv_in->6144->1024_S1, Identity)\n",
      "(3x3_BottleneckConv_in->4096->1024_S1, Identity)\n",
      "(3x3_BottleneckConv_in->6144->1024_S1, Identity)\n",
      "(3x3_BottleneckConv_in->12288->2048_S2, avgpool_conv)\n",
      "(3x3_BottleneckConv_in->12288->2048_S1, Identity)\n",
      "(3x3_BottleneckConv_in->12288->2048_S1, Identity)\n",
      "(3x3_BottleneckConv_in->12288->2048_S1, Identity)\n",
      "MyGlobalAvgPool2d(keep_dim=False)\n",
      "DyLinear(2048, 1000)\n"
     ]
    },
    {
     "name": "stderr",
     "output_type": "stream",
     "text": [
      "Searching with note10 constraint (60): 100%|██████████| 500/500 [00:19<00:00, 25.32it/s]"
     ]
    },
    {
     "name": "stdout",
     "output_type": "stream",
     "text": [
      "Found best architecture on note10 with latency <= 60.00 ms It achieves 84.96% predicted accuracy with 58.48 ms latency on note10.\n",
      "Architecture of the searched sub-net:\n",
      "DyConv(O32, K3, S2)\n",
      "DyConv(O64, K3, S1)\n",
      "max_pooling(ks=3, stride=2)\n",
      "(3x3_BottleneckConv_in->1024->256_S1, avgpool_conv)\n",
      "(3x3_BottleneckConv_in->1536->256_S1, Identity)\n",
      "(3x3_BottleneckConv_in->1024->256_S1, Identity)\n",
      "(3x3_BottleneckConv_in->1024->256_S1, Identity)\n",
      "(3x3_BottleneckConv_in->3072->512_S2, avgpool_conv)\n",
      "(3x3_BottleneckConv_in->3072->512_S1, Identity)\n",
      "(3x3_BottleneckConv_in->2048->512_S1, Identity)\n",
      "(3x3_BottleneckConv_in->3072->512_S1, Identity)\n",
      "(3x3_BottleneckConv_in->4096->1024_S2, avgpool_conv)\n",
      "(3x3_BottleneckConv_in->6144->1024_S1, Identity)\n",
      "(3x3_BottleneckConv_in->6144->1024_S1, Identity)\n",
      "(3x3_BottleneckConv_in->4096->1024_S1, Identity)\n",
      "(3x3_BottleneckConv_in->6144->1024_S1, Identity)\n",
      "(3x3_BottleneckConv_in->6144->1024_S1, Identity)\n",
      "(3x3_BottleneckConv_in->8192->2048_S2, avgpool_conv)\n",
      "(3x3_BottleneckConv_in->8192->2048_S1, Identity)\n",
      "(3x3_BottleneckConv_in->12288->2048_S1, Identity)\n",
      "(3x3_BottleneckConv_in->12288->2048_S1, Identity)\n",
      "MyGlobalAvgPool2d(keep_dim=False)\n",
      "DyLinear(2048, 1000)\n"
     ]
    },
    {
     "name": "stderr",
     "output_type": "stream",
     "text": [
      "\n"
     ]
    },
    {
     "data": {
      "text/plain": [
       "{(15,): 26.64504313468933,\n",
       " (15, 20): 51.21063709259033,\n",
       " (15, 20, 25): 69.84648180007935,\n",
       " (15, 20, 25, 30): 91.103444814682,\n",
       " (15, 20, 25, 30, 35): 118.18609690666199,\n",
       " (15, 20, 25, 30, 35, 40, 45, 50, 55, 60): 227.73199486732483}"
      ]
     },
     "execution_count": 14,
     "metadata": {},
     "output_type": "execute_result"
    }
   ],
   "source": [
    "times = {}\n",
    "latency_constraints = (15, 20, 25, 30, 35)\n",
    "for i in range(len(latency_constraints)):\n",
    "    latency_constraint = latency_constraints[:i+1]\n",
    "    times[latency_constraint] = run_vanilla_evolutionary_search(latency_constraint)\n",
    "latency_constraints = (15, 20, 25, 30, 35, 40, 45, 50, 55, 60)\n",
    "times[latency_constraints] = run_vanilla_evolutionary_search(latency_constraints)\n",
    "times"
   ]
  },
  {
   "cell_type": "markdown",
   "metadata": {},
   "source": [
    "### ProxylessNAS"
   ]
  },
  {
   "cell_type": "code",
   "execution_count": 16,
   "metadata": {},
   "outputs": [
    {
     "name": "stderr",
     "output_type": "stream",
     "text": [
      "Searching with note10 constraint (15): 100%|██████████| 500/500 [00:20<00:00, 24.76it/s]\n"
     ]
    },
    {
     "name": "stdout",
     "output_type": "stream",
     "text": [
      "Found best architecture on note10 with latency <= 15.00 ms It achieves 78.41% predicted accuracy with 15.00 ms latency on note10.\n",
      "Architecture of the searched sub-net:\n",
      "3x3_Conv_O40_RELU6_BN\n",
      "(3x3_MBConv1_RELU6_O24_BN, None)\n",
      "((O32, E3.0, K3), None)\n",
      "((O32, E3.0, K3), Identity)\n",
      "((O56, E6.0, K3), None)\n",
      "((O56, E6.0, K3), Identity)\n",
      "((O104, E4.0, K5), None)\n",
      "((O104, E3.0, K7), Identity)\n",
      "((O128, E4.0, K3), None)\n",
      "((O128, E4.0, K5), Identity)\n",
      "((O128, E4.0, K3), Identity)\n",
      "((O248, E4.0, K3), None)\n",
      "((O248, E6.0, K3), Identity)\n",
      "((O248, E4.0, K3), Identity)\n",
      "((O416, E6.0, K7), None)\n",
      "1x1_Conv_O1664_RELU6_BN\n",
      "1664x1000_Linear\n",
      "\n"
     ]
    },
    {
     "name": "stderr",
     "output_type": "stream",
     "text": [
      "Searching with note10 constraint (15): 100%|██████████| 500/500 [00:23<00:00, 20.92it/s]\n"
     ]
    },
    {
     "name": "stdout",
     "output_type": "stream",
     "text": [
      "Found best architecture on note10 with latency <= 15.00 ms It achieves 78.57% predicted accuracy with 14.91 ms latency on note10.\n",
      "Architecture of the searched sub-net:\n",
      "3x3_Conv_O40_RELU6_BN\n",
      "(3x3_MBConv1_RELU6_O24_BN, None)\n",
      "((O32, E3.0, K3), None)\n",
      "((O32, E3.0, K3), Identity)\n",
      "((O56, E4.0, K3), None)\n",
      "((O56, E3.0, K3), Identity)\n",
      "((O56, E3.0, K3), Identity)\n",
      "((O104, E6.0, K5), None)\n",
      "((O104, E4.0, K5), Identity)\n",
      "((O104, E3.0, K5), Identity)\n",
      "((O128, E4.0, K7), None)\n",
      "((O128, E4.0, K3), Identity)\n",
      "((O128, E4.0, K5), Identity)\n",
      "((O248, E4.0, K3), None)\n",
      "((O248, E6.0, K3), Identity)\n",
      "((O416, E6.0, K7), None)\n",
      "1x1_Conv_O1664_RELU6_BN\n",
      "1664x1000_Linear\n",
      "\n"
     ]
    },
    {
     "name": "stderr",
     "output_type": "stream",
     "text": [
      "Searching with note10 constraint (20): 100%|██████████| 500/500 [00:22<00:00, 22.38it/s]\n"
     ]
    },
    {
     "name": "stdout",
     "output_type": "stream",
     "text": [
      "Found best architecture on note10 with latency <= 20.00 ms It achieves 80.50% predicted accuracy with 19.94 ms latency on note10.\n",
      "Architecture of the searched sub-net:\n",
      "3x3_Conv_O40_RELU6_BN\n",
      "(3x3_MBConv1_RELU6_O24_BN, None)\n",
      "((O32, E3.0, K3), None)\n",
      "((O32, E3.0, K3), Identity)\n",
      "((O56, E3.0, K5), None)\n",
      "((O56, E4.0, K3), Identity)\n",
      "((O56, E6.0, K3), Identity)\n",
      "((O104, E3.0, K7), None)\n",
      "((O104, E4.0, K3), Identity)\n",
      "((O104, E3.0, K3), Identity)\n",
      "((O128, E4.0, K3), None)\n",
      "((O128, E4.0, K5), Identity)\n",
      "((O128, E4.0, K3), Identity)\n",
      "((O248, E6.0, K3), None)\n",
      "((O248, E6.0, K3), Identity)\n",
      "((O248, E6.0, K5), Identity)\n",
      "((O416, E6.0, K7), None)\n",
      "1x1_Conv_O1664_RELU6_BN\n",
      "1664x1000_Linear\n",
      "\n"
     ]
    },
    {
     "name": "stderr",
     "output_type": "stream",
     "text": [
      "Searching with note10 constraint (15): 100%|██████████| 500/500 [00:23<00:00, 21.16it/s]\n"
     ]
    },
    {
     "name": "stdout",
     "output_type": "stream",
     "text": [
      "Found best architecture on note10 with latency <= 15.00 ms It achieves 78.44% predicted accuracy with 14.94 ms latency on note10.\n",
      "Architecture of the searched sub-net:\n",
      "3x3_Conv_O40_RELU6_BN\n",
      "(3x3_MBConv1_RELU6_O24_BN, None)\n",
      "((O32, E3.0, K3), None)\n",
      "((O32, E4.0, K3), Identity)\n",
      "((O56, E3.0, K3), None)\n",
      "((O56, E3.0, K5), Identity)\n",
      "((O56, E3.0, K3), Identity)\n",
      "((O104, E6.0, K5), None)\n",
      "((O104, E3.0, K3), Identity)\n",
      "((O128, E6.0, K3), None)\n",
      "((O128, E4.0, K3), Identity)\n",
      "((O128, E3.0, K3), Identity)\n",
      "((O248, E6.0, K3), None)\n",
      "((O248, E4.0, K3), Identity)\n",
      "((O248, E4.0, K3), Identity)\n",
      "((O416, E6.0, K7), None)\n",
      "1x1_Conv_O1664_RELU6_BN\n",
      "1664x1000_Linear\n",
      "\n"
     ]
    },
    {
     "name": "stderr",
     "output_type": "stream",
     "text": [
      "Searching with note10 constraint (20): 100%|██████████| 500/500 [00:24<00:00, 20.19it/s]\n",
      "Searching with note10 constraint (25):   0%|          | 0/500 [00:00<?, ?it/s]"
     ]
    },
    {
     "name": "stdout",
     "output_type": "stream",
     "text": [
      "Found best architecture on note10 with latency <= 20.00 ms It achieves 80.67% predicted accuracy with 19.99 ms latency on note10.\n",
      "Architecture of the searched sub-net:\n",
      "3x3_Conv_O40_RELU6_BN\n",
      "(3x3_MBConv1_RELU6_O24_BN, None)\n",
      "((O32, E3.0, K3), None)\n",
      "((O32, E3.0, K3), Identity)\n",
      "((O56, E4.0, K3), None)\n",
      "((O56, E3.0, K5), Identity)\n",
      "((O56, E4.0, K3), Identity)\n",
      "((O104, E4.0, K7), None)\n",
      "((O104, E4.0, K3), Identity)\n",
      "((O104, E4.0, K3), Identity)\n",
      "((O104, E3.0, K3), Identity)\n",
      "((O128, E3.0, K7), None)\n",
      "((O128, E4.0, K7), Identity)\n",
      "((O128, E4.0, K3), Identity)\n",
      "((O248, E6.0, K3), None)\n",
      "((O248, E6.0, K3), Identity)\n",
      "((O248, E4.0, K3), Identity)\n",
      "((O416, E6.0, K7), None)\n",
      "1x1_Conv_O1664_RELU6_BN\n",
      "1664x1000_Linear\n",
      "\n"
     ]
    },
    {
     "name": "stderr",
     "output_type": "stream",
     "text": [
      "Searching with note10 constraint (25): 100%|██████████| 500/500 [00:29<00:00, 17.11it/s]\n"
     ]
    },
    {
     "name": "stdout",
     "output_type": "stream",
     "text": [
      "Found best architecture on note10 with latency <= 25.00 ms It achieves 81.82% predicted accuracy with 24.83 ms latency on note10.\n",
      "Architecture of the searched sub-net:\n",
      "3x3_Conv_O40_RELU6_BN\n",
      "(3x3_MBConv1_RELU6_O24_BN, None)\n",
      "((O32, E3.0, K5), None)\n",
      "((O32, E3.0, K3), Identity)\n",
      "((O56, E4.0, K5), None)\n",
      "((O56, E4.0, K5), Identity)\n",
      "((O56, E6.0, K5), Identity)\n",
      "((O104, E3.0, K7), None)\n",
      "((O104, E4.0, K7), Identity)\n",
      "((O104, E3.0, K3), Identity)\n",
      "((O104, E3.0, K3), Identity)\n",
      "((O128, E4.0, K5), None)\n",
      "((O128, E4.0, K5), Identity)\n",
      "((O128, E4.0, K3), Identity)\n",
      "((O248, E6.0, K3), None)\n",
      "((O248, E6.0, K3), Identity)\n",
      "((O248, E4.0, K5), Identity)\n",
      "((O416, E6.0, K7), None)\n",
      "1x1_Conv_O1664_RELU6_BN\n",
      "1664x1000_Linear\n",
      "\n"
     ]
    },
    {
     "name": "stderr",
     "output_type": "stream",
     "text": [
      "Searching with note10 constraint (15): 100%|██████████| 500/500 [00:24<00:00, 20.28it/s]\n"
     ]
    },
    {
     "name": "stdout",
     "output_type": "stream",
     "text": [
      "Found best architecture on note10 with latency <= 15.00 ms It achieves 78.71% predicted accuracy with 14.96 ms latency on note10.\n",
      "Architecture of the searched sub-net:\n",
      "3x3_Conv_O40_RELU6_BN\n",
      "(3x3_MBConv1_RELU6_O24_BN, None)\n",
      "((O32, E3.0, K3), None)\n",
      "((O32, E3.0, K3), Identity)\n",
      "((O56, E4.0, K3), None)\n",
      "((O56, E6.0, K3), Identity)\n",
      "((O56, E4.0, K3), Identity)\n",
      "((O104, E4.0, K7), None)\n",
      "((O104, E4.0, K5), Identity)\n",
      "((O104, E3.0, K3), Identity)\n",
      "((O128, E4.0, K3), None)\n",
      "((O128, E4.0, K5), Identity)\n",
      "((O128, E4.0, K3), Identity)\n",
      "((O248, E4.0, K3), None)\n",
      "((O248, E3.0, K3), Identity)\n",
      "((O248, E3.0, K3), Identity)\n",
      "((O416, E6.0, K7), None)\n",
      "1x1_Conv_O1664_RELU6_BN\n",
      "1664x1000_Linear\n",
      "\n"
     ]
    },
    {
     "name": "stderr",
     "output_type": "stream",
     "text": [
      "Searching with note10 constraint (20): 100%|██████████| 500/500 [00:28<00:00, 17.29it/s]\n",
      "Searching with note10 constraint (25):   0%|          | 0/500 [00:00<?, ?it/s]"
     ]
    },
    {
     "name": "stdout",
     "output_type": "stream",
     "text": [
      "Found best architecture on note10 with latency <= 20.00 ms It achieves 80.35% predicted accuracy with 20.00 ms latency on note10.\n",
      "Architecture of the searched sub-net:\n",
      "3x3_Conv_O40_RELU6_BN\n",
      "(3x3_MBConv1_RELU6_O24_BN, None)\n",
      "((O32, E3.0, K3), None)\n",
      "((O32, E4.0, K3), Identity)\n",
      "((O56, E3.0, K3), None)\n",
      "((O56, E3.0, K3), Identity)\n",
      "((O56, E4.0, K3), Identity)\n",
      "((O104, E4.0, K7), None)\n",
      "((O104, E4.0, K5), Identity)\n",
      "((O104, E6.0, K3), Identity)\n",
      "((O128, E4.0, K3), None)\n",
      "((O128, E4.0, K7), Identity)\n",
      "((O128, E4.0, K3), Identity)\n",
      "((O248, E6.0, K5), None)\n",
      "((O248, E6.0, K3), Identity)\n",
      "((O248, E4.0, K3), Identity)\n",
      "((O416, E6.0, K7), None)\n",
      "1x1_Conv_O1664_RELU6_BN\n",
      "1664x1000_Linear\n",
      "\n"
     ]
    },
    {
     "name": "stderr",
     "output_type": "stream",
     "text": [
      "Searching with note10 constraint (25): 100%|██████████| 500/500 [00:30<00:00, 16.45it/s]\n",
      "Searching with note10 constraint (30):   0%|          | 1/500 [00:00<00:57,  8.64it/s]"
     ]
    },
    {
     "name": "stdout",
     "output_type": "stream",
     "text": [
      "Found best architecture on note10 with latency <= 25.00 ms It achieves 81.87% predicted accuracy with 24.81 ms latency on note10.\n",
      "Architecture of the searched sub-net:\n",
      "3x3_Conv_O40_RELU6_BN\n",
      "(3x3_MBConv1_RELU6_O24_BN, None)\n",
      "((O32, E3.0, K3), None)\n",
      "((O32, E3.0, K3), Identity)\n",
      "((O56, E3.0, K5), None)\n",
      "((O56, E6.0, K3), Identity)\n",
      "((O56, E3.0, K3), Identity)\n",
      "((O104, E4.0, K5), None)\n",
      "((O104, E3.0, K7), Identity)\n",
      "((O104, E4.0, K3), Identity)\n",
      "((O128, E4.0, K5), None)\n",
      "((O128, E4.0, K7), Identity)\n",
      "((O128, E4.0, K3), Identity)\n",
      "((O128, E6.0, K3), Identity)\n",
      "((O248, E6.0, K3), None)\n",
      "((O248, E4.0, K3), Identity)\n",
      "((O248, E6.0, K5), Identity)\n",
      "((O416, E6.0, K7), None)\n",
      "1x1_Conv_O1664_RELU6_BN\n",
      "1664x1000_Linear\n",
      "\n"
     ]
    },
    {
     "name": "stderr",
     "output_type": "stream",
     "text": [
      "Searching with note10 constraint (30): 100%|██████████| 500/500 [00:22<00:00, 22.05it/s]\n"
     ]
    },
    {
     "name": "stdout",
     "output_type": "stream",
     "text": [
      "Found best architecture on note10 with latency <= 30.00 ms It achieves 82.68% predicted accuracy with 29.96 ms latency on note10.\n",
      "Architecture of the searched sub-net:\n",
      "3x3_Conv_O40_RELU6_BN\n",
      "(3x3_MBConv1_RELU6_O24_BN, None)\n",
      "((O32, E3.0, K3), None)\n",
      "((O32, E3.0, K3), Identity)\n",
      "((O56, E6.0, K3), None)\n",
      "((O56, E6.0, K3), Identity)\n",
      "((O56, E4.0, K3), Identity)\n",
      "((O104, E4.0, K7), None)\n",
      "((O104, E4.0, K7), Identity)\n",
      "((O104, E6.0, K3), Identity)\n",
      "((O104, E3.0, K3), Identity)\n",
      "((O128, E4.0, K5), None)\n",
      "((O128, E4.0, K7), Identity)\n",
      "((O128, E6.0, K3), Identity)\n",
      "((O128, E6.0, K5), Identity)\n",
      "((O248, E6.0, K3), None)\n",
      "((O248, E6.0, K7), Identity)\n",
      "((O248, E6.0, K5), Identity)\n",
      "((O248, E3.0, K3), Identity)\n",
      "((O416, E6.0, K7), None)\n",
      "1x1_Conv_O1664_RELU6_BN\n",
      "1664x1000_Linear\n",
      "\n"
     ]
    },
    {
     "name": "stderr",
     "output_type": "stream",
     "text": [
      "Searching with note10 constraint (15): 100%|██████████| 500/500 [00:24<00:00, 20.11it/s]\n"
     ]
    },
    {
     "name": "stdout",
     "output_type": "stream",
     "text": [
      "Found best architecture on note10 with latency <= 15.00 ms It achieves 78.66% predicted accuracy with 14.93 ms latency on note10.\n",
      "Architecture of the searched sub-net:\n",
      "3x3_Conv_O40_RELU6_BN\n",
      "(3x3_MBConv1_RELU6_O24_BN, None)\n",
      "((O32, E3.0, K3), None)\n",
      "((O32, E3.0, K3), Identity)\n",
      "((O56, E4.0, K5), None)\n",
      "((O56, E4.0, K3), Identity)\n",
      "((O56, E3.0, K5), Identity)\n",
      "((O104, E4.0, K5), None)\n",
      "((O104, E4.0, K3), Identity)\n",
      "((O104, E3.0, K5), Identity)\n",
      "((O104, E3.0, K3), Identity)\n",
      "((O128, E4.0, K3), None)\n",
      "((O128, E4.0, K3), Identity)\n",
      "((O128, E3.0, K5), Identity)\n",
      "((O248, E4.0, K3), None)\n",
      "((O248, E6.0, K3), Identity)\n",
      "((O416, E6.0, K7), None)\n",
      "1x1_Conv_O1664_RELU6_BN\n",
      "1664x1000_Linear\n",
      "\n"
     ]
    },
    {
     "name": "stderr",
     "output_type": "stream",
     "text": [
      "Searching with note10 constraint (20): 100%|██████████| 500/500 [00:24<00:00, 20.41it/s]\n",
      "Searching with note10 constraint (25):   0%|          | 2/500 [00:00<00:26, 18.84it/s]"
     ]
    },
    {
     "name": "stdout",
     "output_type": "stream",
     "text": [
      "Found best architecture on note10 with latency <= 20.00 ms It achieves 80.39% predicted accuracy with 19.92 ms latency on note10.\n",
      "Architecture of the searched sub-net:\n",
      "3x3_Conv_O40_RELU6_BN\n",
      "(3x3_MBConv1_RELU6_O24_BN, None)\n",
      "((O32, E3.0, K3), None)\n",
      "((O32, E3.0, K3), Identity)\n",
      "((O56, E4.0, K3), None)\n",
      "((O56, E4.0, K3), Identity)\n",
      "((O56, E4.0, K3), Identity)\n",
      "((O104, E6.0, K5), None)\n",
      "((O104, E4.0, K5), Identity)\n",
      "((O128, E4.0, K7), None)\n",
      "((O128, E4.0, K3), Identity)\n",
      "((O128, E3.0, K3), Identity)\n",
      "((O248, E6.0, K3), None)\n",
      "((O248, E6.0, K3), Identity)\n",
      "((O416, E6.0, K7), None)\n",
      "1x1_Conv_O1664_RELU6_BN\n",
      "1664x1000_Linear\n",
      "\n"
     ]
    },
    {
     "name": "stderr",
     "output_type": "stream",
     "text": [
      "Searching with note10 constraint (25): 100%|██████████| 500/500 [00:24<00:00, 20.79it/s]\n",
      "Searching with note10 constraint (30):   1%|          | 3/500 [00:00<00:24, 19.95it/s]"
     ]
    },
    {
     "name": "stdout",
     "output_type": "stream",
     "text": [
      "Found best architecture on note10 with latency <= 25.00 ms It achieves 81.88% predicted accuracy with 24.93 ms latency on note10.\n",
      "Architecture of the searched sub-net:\n",
      "3x3_Conv_O40_RELU6_BN\n",
      "(3x3_MBConv1_RELU6_O24_BN, None)\n",
      "((O32, E4.0, K3), None)\n",
      "((O32, E4.0, K3), Identity)\n",
      "((O56, E4.0, K5), None)\n",
      "((O56, E4.0, K3), Identity)\n",
      "((O104, E4.0, K5), None)\n",
      "((O104, E4.0, K3), Identity)\n",
      "((O104, E3.0, K3), Identity)\n",
      "((O104, E3.0, K7), Identity)\n",
      "((O128, E4.0, K7), None)\n",
      "((O128, E4.0, K5), Identity)\n",
      "((O128, E4.0, K3), Identity)\n",
      "((O128, E4.0, K3), Identity)\n",
      "((O248, E6.0, K3), None)\n",
      "((O248, E6.0, K3), Identity)\n",
      "((O248, E3.0, K5), Identity)\n",
      "((O248, E3.0, K7), Identity)\n",
      "((O416, E6.0, K7), None)\n",
      "1x1_Conv_O1664_RELU6_BN\n",
      "1664x1000_Linear\n",
      "\n"
     ]
    },
    {
     "name": "stderr",
     "output_type": "stream",
     "text": [
      "Searching with note10 constraint (30): 100%|██████████| 500/500 [00:23<00:00, 21.52it/s]\n",
      "Searching with note10 constraint (35):   1%|          | 3/500 [00:00<00:22, 22.37it/s]"
     ]
    },
    {
     "name": "stdout",
     "output_type": "stream",
     "text": [
      "Found best architecture on note10 with latency <= 30.00 ms It achieves 82.89% predicted accuracy with 29.85 ms latency on note10.\n",
      "Architecture of the searched sub-net:\n",
      "3x3_Conv_O40_RELU6_BN\n",
      "(3x3_MBConv1_RELU6_O24_BN, None)\n",
      "((O32, E3.0, K3), None)\n",
      "((O32, E3.0, K3), Identity)\n",
      "((O32, E3.0, K3), Identity)\n",
      "((O56, E6.0, K3), None)\n",
      "((O56, E6.0, K3), Identity)\n",
      "((O56, E4.0, K3), Identity)\n",
      "((O104, E4.0, K3), None)\n",
      "((O104, E3.0, K5), Identity)\n",
      "((O104, E4.0, K3), Identity)\n",
      "((O104, E3.0, K7), Identity)\n",
      "((O128, E6.0, K3), None)\n",
      "((O128, E4.0, K7), Identity)\n",
      "((O128, E6.0, K3), Identity)\n",
      "((O128, E4.0, K3), Identity)\n",
      "((O248, E6.0, K3), None)\n",
      "((O248, E6.0, K3), Identity)\n",
      "((O248, E6.0, K5), Identity)\n",
      "((O248, E4.0, K7), Identity)\n",
      "((O416, E6.0, K7), None)\n",
      "1x1_Conv_O1664_RELU6_BN\n",
      "1664x1000_Linear\n",
      "\n"
     ]
    },
    {
     "name": "stderr",
     "output_type": "stream",
     "text": [
      "Searching with note10 constraint (35): 100%|██████████| 500/500 [00:21<00:00, 23.22it/s]\n"
     ]
    },
    {
     "name": "stdout",
     "output_type": "stream",
     "text": [
      "Found best architecture on note10 with latency <= 35.00 ms It achieves 83.15% predicted accuracy with 34.44 ms latency on note10.\n",
      "Architecture of the searched sub-net:\n",
      "3x3_Conv_O40_RELU6_BN\n",
      "(3x3_MBConv1_RELU6_O24_BN, None)\n",
      "((O32, E3.0, K5), None)\n",
      "((O32, E3.0, K3), Identity)\n",
      "((O56, E4.0, K5), None)\n",
      "((O56, E4.0, K3), Identity)\n",
      "((O56, E6.0, K3), Identity)\n",
      "((O104, E4.0, K7), None)\n",
      "((O104, E4.0, K7), Identity)\n",
      "((O104, E6.0, K5), Identity)\n",
      "((O104, E4.0, K7), Identity)\n",
      "((O128, E4.0, K5), None)\n",
      "((O128, E4.0, K5), Identity)\n",
      "((O128, E4.0, K7), Identity)\n",
      "((O128, E4.0, K3), Identity)\n",
      "((O248, E6.0, K3), None)\n",
      "((O248, E6.0, K7), Identity)\n",
      "((O248, E6.0, K5), Identity)\n",
      "((O416, E6.0, K7), None)\n",
      "1x1_Conv_O1664_RELU6_BN\n",
      "1664x1000_Linear\n",
      "\n"
     ]
    },
    {
     "name": "stderr",
     "output_type": "stream",
     "text": [
      "Searching with note10 constraint (15): 100%|██████████| 500/500 [00:25<00:00, 19.65it/s]\n"
     ]
    },
    {
     "name": "stdout",
     "output_type": "stream",
     "text": [
      "Found best architecture on note10 with latency <= 15.00 ms It achieves 78.46% predicted accuracy with 14.99 ms latency on note10.\n",
      "Architecture of the searched sub-net:\n",
      "3x3_Conv_O40_RELU6_BN\n",
      "(3x3_MBConv1_RELU6_O24_BN, None)\n",
      "((O32, E3.0, K3), None)\n",
      "((O32, E3.0, K3), Identity)\n",
      "((O56, E4.0, K7), None)\n",
      "((O56, E3.0, K3), Identity)\n",
      "((O56, E4.0, K3), Identity)\n",
      "((O104, E6.0, K5), None)\n",
      "((O104, E4.0, K5), Identity)\n",
      "((O104, E3.0, K5), Identity)\n",
      "((O128, E4.0, K7), None)\n",
      "((O128, E4.0, K3), Identity)\n",
      "((O128, E3.0, K3), Identity)\n",
      "((O248, E6.0, K3), None)\n",
      "((O248, E4.0, K3), Identity)\n",
      "((O416, E6.0, K7), None)\n",
      "1x1_Conv_O1664_RELU6_BN\n",
      "1664x1000_Linear\n",
      "\n"
     ]
    },
    {
     "name": "stderr",
     "output_type": "stream",
     "text": [
      "Searching with note10 constraint (20): 100%|██████████| 500/500 [00:23<00:00, 21.28it/s]\n",
      "Searching with note10 constraint (25):   1%|          | 3/500 [00:00<00:20, 24.51it/s]"
     ]
    },
    {
     "name": "stdout",
     "output_type": "stream",
     "text": [
      "Found best architecture on note10 with latency <= 20.00 ms It achieves 80.39% predicted accuracy with 19.85 ms latency on note10.\n",
      "Architecture of the searched sub-net:\n",
      "3x3_Conv_O40_RELU6_BN\n",
      "(3x3_MBConv1_RELU6_O24_BN, None)\n",
      "((O32, E3.0, K3), None)\n",
      "((O32, E3.0, K3), Identity)\n",
      "((O56, E4.0, K3), None)\n",
      "((O56, E3.0, K3), Identity)\n",
      "((O56, E3.0, K5), Identity)\n",
      "((O104, E6.0, K5), None)\n",
      "((O104, E3.0, K7), Identity)\n",
      "((O128, E4.0, K3), None)\n",
      "((O128, E4.0, K3), Identity)\n",
      "((O128, E4.0, K5), Identity)\n",
      "((O248, E6.0, K3), None)\n",
      "((O248, E6.0, K3), Identity)\n",
      "((O416, E6.0, K7), None)\n",
      "1x1_Conv_O1664_RELU6_BN\n",
      "1664x1000_Linear\n",
      "\n"
     ]
    },
    {
     "name": "stderr",
     "output_type": "stream",
     "text": [
      "Searching with note10 constraint (25): 100%|██████████| 500/500 [00:21<00:00, 23.00it/s]\n",
      "Searching with note10 constraint (30):   1%|          | 3/500 [00:00<00:20, 24.82it/s]"
     ]
    },
    {
     "name": "stdout",
     "output_type": "stream",
     "text": [
      "Found best architecture on note10 with latency <= 25.00 ms It achieves 81.68% predicted accuracy with 24.90 ms latency on note10.\n",
      "Architecture of the searched sub-net:\n",
      "3x3_Conv_O40_RELU6_BN\n",
      "(3x3_MBConv1_RELU6_O24_BN, None)\n",
      "((O32, E4.0, K3), None)\n",
      "((O32, E3.0, K3), Identity)\n",
      "((O56, E4.0, K7), None)\n",
      "((O56, E3.0, K7), Identity)\n",
      "((O56, E3.0, K3), Identity)\n",
      "((O104, E6.0, K5), None)\n",
      "((O104, E4.0, K5), Identity)\n",
      "((O104, E3.0, K5), Identity)\n",
      "((O104, E3.0, K5), Identity)\n",
      "((O128, E4.0, K7), None)\n",
      "((O128, E4.0, K3), Identity)\n",
      "((O128, E4.0, K5), Identity)\n",
      "((O248, E6.0, K3), None)\n",
      "((O248, E6.0, K3), Identity)\n",
      "((O248, E3.0, K5), Identity)\n",
      "((O248, E3.0, K5), Identity)\n",
      "((O416, E6.0, K7), None)\n",
      "1x1_Conv_O1664_RELU6_BN\n",
      "1664x1000_Linear\n",
      "\n"
     ]
    },
    {
     "name": "stderr",
     "output_type": "stream",
     "text": [
      "Searching with note10 constraint (30): 100%|██████████| 500/500 [00:22<00:00, 22.65it/s]\n",
      "Searching with note10 constraint (35):   1%|          | 3/500 [00:00<00:18, 27.43it/s]"
     ]
    },
    {
     "name": "stdout",
     "output_type": "stream",
     "text": [
      "Found best architecture on note10 with latency <= 30.00 ms It achieves 82.44% predicted accuracy with 29.85 ms latency on note10.\n",
      "Architecture of the searched sub-net:\n",
      "3x3_Conv_O40_RELU6_BN\n",
      "(3x3_MBConv1_RELU6_O24_BN, None)\n",
      "((O32, E4.0, K3), None)\n",
      "((O32, E3.0, K3), Identity)\n",
      "((O56, E4.0, K7), None)\n",
      "((O56, E4.0, K5), Identity)\n",
      "((O56, E6.0, K3), Identity)\n",
      "((O56, E4.0, K3), Identity)\n",
      "((O104, E6.0, K5), None)\n",
      "((O104, E3.0, K7), Identity)\n",
      "((O104, E3.0, K5), Identity)\n",
      "((O104, E4.0, K5), Identity)\n",
      "((O128, E6.0, K7), None)\n",
      "((O128, E4.0, K3), Identity)\n",
      "((O128, E3.0, K5), Identity)\n",
      "((O128, E3.0, K5), Identity)\n",
      "((O248, E6.0, K3), None)\n",
      "((O248, E6.0, K3), Identity)\n",
      "((O248, E6.0, K7), Identity)\n",
      "((O248, E4.0, K5), Identity)\n",
      "((O416, E6.0, K7), None)\n",
      "1x1_Conv_O1664_RELU6_BN\n",
      "1664x1000_Linear\n",
      "\n"
     ]
    },
    {
     "name": "stderr",
     "output_type": "stream",
     "text": [
      "Searching with note10 constraint (35): 100%|██████████| 500/500 [00:21<00:00, 22.83it/s]\n",
      "Searching with note10 constraint (40):   1%|          | 3/500 [00:00<00:19, 25.59it/s]"
     ]
    },
    {
     "name": "stdout",
     "output_type": "stream",
     "text": [
      "Found best architecture on note10 with latency <= 35.00 ms It achieves 83.02% predicted accuracy with 34.71 ms latency on note10.\n",
      "Architecture of the searched sub-net:\n",
      "3x3_Conv_O40_RELU6_BN\n",
      "(3x3_MBConv1_RELU6_O24_BN, None)\n",
      "((O32, E3.0, K5), None)\n",
      "((O32, E3.0, K3), Identity)\n",
      "((O56, E6.0, K7), None)\n",
      "((O56, E3.0, K3), Identity)\n",
      "((O56, E4.0, K3), Identity)\n",
      "((O104, E3.0, K5), None)\n",
      "((O104, E3.0, K5), Identity)\n",
      "((O104, E4.0, K5), Identity)\n",
      "((O128, E6.0, K7), None)\n",
      "((O128, E6.0, K5), Identity)\n",
      "((O128, E3.0, K5), Identity)\n",
      "((O128, E3.0, K7), Identity)\n",
      "((O248, E6.0, K5), None)\n",
      "((O248, E6.0, K3), Identity)\n",
      "((O248, E6.0, K5), Identity)\n",
      "((O248, E4.0, K7), Identity)\n",
      "((O416, E6.0, K7), None)\n",
      "1x1_Conv_O1664_RELU6_BN\n",
      "1664x1000_Linear\n",
      "\n"
     ]
    },
    {
     "name": "stderr",
     "output_type": "stream",
     "text": [
      "Searching with note10 constraint (40): 100%|██████████| 500/500 [00:20<00:00, 23.82it/s]\n",
      "Searching with note10 constraint (45):   1%|          | 3/500 [00:00<00:20, 24.47it/s]"
     ]
    },
    {
     "name": "stdout",
     "output_type": "stream",
     "text": [
      "Found best architecture on note10 with latency <= 40.00 ms It achieves 83.76% predicted accuracy with 39.96 ms latency on note10.\n",
      "Architecture of the searched sub-net:\n",
      "3x3_Conv_O40_RELU6_BN\n",
      "(3x3_MBConv1_RELU6_O24_BN, None)\n",
      "((O32, E4.0, K3), None)\n",
      "((O32, E6.0, K3), Identity)\n",
      "((O56, E4.0, K5), None)\n",
      "((O56, E6.0, K5), Identity)\n",
      "((O56, E3.0, K7), Identity)\n",
      "((O56, E3.0, K3), Identity)\n",
      "((O104, E4.0, K5), None)\n",
      "((O104, E3.0, K7), Identity)\n",
      "((O104, E4.0, K3), Identity)\n",
      "((O104, E3.0, K7), Identity)\n",
      "((O128, E6.0, K7), None)\n",
      "((O128, E4.0, K7), Identity)\n",
      "((O128, E4.0, K3), Identity)\n",
      "((O248, E6.0, K3), None)\n",
      "((O248, E6.0, K3), Identity)\n",
      "((O248, E6.0, K5), Identity)\n",
      "((O248, E3.0, K5), Identity)\n",
      "((O416, E6.0, K7), None)\n",
      "1x1_Conv_O1664_RELU6_BN\n",
      "1664x1000_Linear\n",
      "\n"
     ]
    },
    {
     "name": "stderr",
     "output_type": "stream",
     "text": [
      "Searching with note10 constraint (45): 100%|██████████| 500/500 [00:22<00:00, 22.66it/s]\n",
      "Searching with note10 constraint (50):   1%|          | 3/500 [00:00<00:20, 24.48it/s]"
     ]
    },
    {
     "name": "stdout",
     "output_type": "stream",
     "text": [
      "Found best architecture on note10 with latency <= 45.00 ms It achieves 84.81% predicted accuracy with 44.44 ms latency on note10.\n",
      "Architecture of the searched sub-net:\n",
      "3x3_Conv_O40_RELU6_BN\n",
      "(3x3_MBConv1_RELU6_O24_BN, None)\n",
      "((O32, E4.0, K3), None)\n",
      "((O32, E3.0, K3), Identity)\n",
      "((O32, E4.0, K3), Identity)\n",
      "((O56, E6.0, K5), None)\n",
      "((O56, E3.0, K3), Identity)\n",
      "((O56, E4.0, K3), Identity)\n",
      "((O56, E6.0, K3), Identity)\n",
      "((O104, E4.0, K7), None)\n",
      "((O104, E3.0, K5), Identity)\n",
      "((O104, E6.0, K3), Identity)\n",
      "((O104, E4.0, K7), Identity)\n",
      "((O128, E6.0, K3), None)\n",
      "((O128, E6.0, K5), Identity)\n",
      "((O128, E3.0, K3), Identity)\n",
      "((O128, E4.0, K7), Identity)\n",
      "((O248, E6.0, K5), None)\n",
      "((O248, E6.0, K3), Identity)\n",
      "((O248, E6.0, K5), Identity)\n",
      "((O248, E4.0, K7), Identity)\n",
      "((O416, E6.0, K7), None)\n",
      "1x1_Conv_O1664_RELU6_BN\n",
      "1664x1000_Linear\n",
      "\n"
     ]
    },
    {
     "name": "stderr",
     "output_type": "stream",
     "text": [
      "Searching with note10 constraint (50): 100%|██████████| 500/500 [00:19<00:00, 25.87it/s]\n",
      "Searching with note10 constraint (55):   1%|          | 3/500 [00:00<00:18, 26.28it/s]"
     ]
    },
    {
     "name": "stdout",
     "output_type": "stream",
     "text": [
      "Found best architecture on note10 with latency <= 50.00 ms It achieves 84.42% predicted accuracy with 49.53 ms latency on note10.\n",
      "Architecture of the searched sub-net:\n",
      "3x3_Conv_O40_RELU6_BN\n",
      "(3x3_MBConv1_RELU6_O24_BN, None)\n",
      "((O32, E4.0, K5), None)\n",
      "((O32, E4.0, K5), Identity)\n",
      "((O56, E6.0, K3), None)\n",
      "((O56, E6.0, K5), Identity)\n",
      "((O56, E4.0, K3), Identity)\n",
      "((O104, E4.0, K7), None)\n",
      "((O104, E3.0, K7), Identity)\n",
      "((O104, E4.0, K7), Identity)\n",
      "((O104, E6.0, K5), Identity)\n",
      "((O128, E6.0, K7), None)\n",
      "((O128, E6.0, K7), Identity)\n",
      "((O128, E6.0, K3), Identity)\n",
      "((O128, E6.0, K7), Identity)\n",
      "((O248, E6.0, K7), None)\n",
      "((O248, E6.0, K3), Identity)\n",
      "((O248, E6.0, K5), Identity)\n",
      "((O248, E4.0, K5), Identity)\n",
      "((O416, E6.0, K7), None)\n",
      "1x1_Conv_O1664_RELU6_BN\n",
      "1664x1000_Linear\n",
      "\n"
     ]
    },
    {
     "name": "stderr",
     "output_type": "stream",
     "text": [
      "Searching with note10 constraint (55): 100%|██████████| 500/500 [00:20<00:00, 24.59it/s]\n",
      "Searching with note10 constraint (60):   1%|          | 3/500 [00:00<00:21, 23.34it/s]"
     ]
    },
    {
     "name": "stdout",
     "output_type": "stream",
     "text": [
      "Found best architecture on note10 with latency <= 55.00 ms It achieves 84.87% predicted accuracy with 51.34 ms latency on note10.\n",
      "Architecture of the searched sub-net:\n",
      "3x3_Conv_O40_RELU6_BN\n",
      "(3x3_MBConv1_RELU6_O24_BN, None)\n",
      "((O32, E4.0, K5), None)\n",
      "((O32, E3.0, K5), Identity)\n",
      "((O32, E4.0, K3), Identity)\n",
      "((O32, E4.0, K3), Identity)\n",
      "((O56, E6.0, K5), None)\n",
      "((O56, E4.0, K5), Identity)\n",
      "((O56, E4.0, K3), Identity)\n",
      "((O56, E6.0, K5), Identity)\n",
      "((O104, E4.0, K7), None)\n",
      "((O104, E3.0, K7), Identity)\n",
      "((O104, E3.0, K3), Identity)\n",
      "((O104, E6.0, K7), Identity)\n",
      "((O128, E6.0, K3), None)\n",
      "((O128, E6.0, K5), Identity)\n",
      "((O128, E4.0, K3), Identity)\n",
      "((O128, E4.0, K7), Identity)\n",
      "((O248, E6.0, K5), None)\n",
      "((O248, E6.0, K5), Identity)\n",
      "((O248, E6.0, K5), Identity)\n",
      "((O248, E3.0, K7), Identity)\n",
      "((O416, E6.0, K7), None)\n",
      "1x1_Conv_O1664_RELU6_BN\n",
      "1664x1000_Linear\n",
      "\n"
     ]
    },
    {
     "name": "stderr",
     "output_type": "stream",
     "text": [
      "Searching with note10 constraint (60): 100%|██████████| 500/500 [00:22<00:00, 22.27it/s]"
     ]
    },
    {
     "name": "stdout",
     "output_type": "stream",
     "text": [
      "Found best architecture on note10 with latency <= 60.00 ms It achieves 84.67% predicted accuracy with 57.44 ms latency on note10.\n",
      "Architecture of the searched sub-net:\n",
      "3x3_Conv_O40_RELU6_BN\n",
      "(3x3_MBConv1_RELU6_O24_BN, None)\n",
      "((O32, E6.0, K3), None)\n",
      "((O32, E6.0, K3), Identity)\n",
      "((O32, E3.0, K5), Identity)\n",
      "((O32, E4.0, K3), Identity)\n",
      "((O56, E3.0, K7), None)\n",
      "((O56, E6.0, K5), Identity)\n",
      "((O56, E4.0, K5), Identity)\n",
      "((O56, E6.0, K7), Identity)\n",
      "((O104, E6.0, K7), None)\n",
      "((O104, E4.0, K5), Identity)\n",
      "((O104, E6.0, K7), Identity)\n",
      "((O104, E6.0, K5), Identity)\n",
      "((O128, E6.0, K5), None)\n",
      "((O128, E6.0, K7), Identity)\n",
      "((O128, E4.0, K5), Identity)\n",
      "((O128, E4.0, K3), Identity)\n",
      "((O248, E6.0, K5), None)\n",
      "((O248, E6.0, K7), Identity)\n",
      "((O248, E6.0, K7), Identity)\n",
      "((O248, E3.0, K7), Identity)\n",
      "((O416, E6.0, K7), None)\n",
      "1x1_Conv_O1664_RELU6_BN\n",
      "1664x1000_Linear\n",
      "\n"
     ]
    },
    {
     "name": "stderr",
     "output_type": "stream",
     "text": [
      "\n"
     ]
    },
    {
     "data": {
      "text/plain": [
       "{(15,): 29.567721128463745,\n",
       " (15, 20): 57.13128590583801,\n",
       " (15, 20, 25): 89.62181806564331,\n",
       " (15, 20, 25, 30): 119.58368682861328,\n",
       " (15, 20, 25, 30, 35): 130.09224700927734,\n",
       " (15, 20, 25, 30, 35, 40, 45, 50, 55, 60): 231.71896505355835}"
      ]
     },
     "execution_count": 16,
     "metadata": {},
     "output_type": "execute_result"
    }
   ],
   "source": [
    "times = {}\n",
    "latency_constraints = (15, 20, 25, 30, 35)\n",
    "for i in range(len(latency_constraints)):\n",
    "    latency_constraint = latency_constraints[:i+1]\n",
    "    times[latency_constraint] = run_vanilla_evolutionary_search(latency_constraint)\n",
    "latency_constraints = (15, 20, 25, 30, 35, 40, 45, 50, 55, 60)\n",
    "times[latency_constraints] = run_vanilla_evolutionary_search(latency_constraints)\n",
    "times"
   ]
  },
  {
   "cell_type": "markdown",
   "metadata": {},
   "source": [
    "## Accuracy"
   ]
  },
  {
   "cell_type": "markdown",
   "metadata": {},
   "source": [
    "### MobileNetV3"
   ]
  },
  {
   "cell_type": "markdown",
   "metadata": {},
   "source": [
    "### ResNet50D"
   ]
  },
  {
   "cell_type": "markdown",
   "metadata": {},
   "source": [
    "### ProxylessNAS"
   ]
  },
  {
   "cell_type": "markdown",
   "metadata": {},
   "source": [
    "## Cost of finding a single latency constraint subnetwork"
   ]
  },
  {
   "cell_type": "markdown",
   "metadata": {},
   "source": [
    "### MobileNetV3"
   ]
  },
  {
   "cell_type": "code",
   "execution_count": 24,
   "metadata": {},
   "outputs": [],
   "source": [
    "times = {}\n",
    "latency_constraints = (15, 20, 25, 30, 35, 40, 45, 50, 55, 60)"
   ]
  },
  {
   "cell_type": "code",
   "execution_count": 26,
   "metadata": {},
   "outputs": [
    {
     "name": "stderr",
     "output_type": "stream",
     "text": [
      "Searching with note10 constraint (15): 100%|██████████| 500/500 [00:21<00:00, 23.68it/s]\n"
     ]
    },
    {
     "name": "stdout",
     "output_type": "stream",
     "text": [
      "Found best architecture on note10 with latency <= 15.00 ms It achieves 78.48% predicted accuracy with 14.96 ms latency on note10.\n",
      "Architecture of the searched sub-net:\n",
      "3x3_Conv_O40_RELU6_BN\n",
      "(3x3_MBConv1_RELU6_O24_BN, None)\n",
      "((O32, E3.0, K3), None)\n",
      "((O32, E4.0, K3), Identity)\n",
      "((O56, E3.0, K7), None)\n",
      "((O56, E6.0, K3), Identity)\n",
      "((O104, E4.0, K5), None)\n",
      "((O104, E3.0, K7), Identity)\n",
      "((O104, E4.0, K5), Identity)\n",
      "((O128, E4.0, K5), None)\n",
      "((O128, E4.0, K3), Identity)\n",
      "((O128, E3.0, K3), Identity)\n",
      "((O248, E4.0, K5), None)\n",
      "((O248, E4.0, K3), Identity)\n",
      "((O248, E4.0, K3), Identity)\n",
      "((O416, E6.0, K7), None)\n",
      "1x1_Conv_O1664_RELU6_BN\n",
      "1664x1000_Linear\n",
      "\n"
     ]
    },
    {
     "name": "stderr",
     "output_type": "stream",
     "text": [
      "Searching with note10 constraint (20): 100%|██████████| 500/500 [00:22<00:00, 21.80it/s]\n",
      "Searching with note10 constraint (25):   0%|          | 2/500 [00:00<00:25, 19.42it/s]"
     ]
    },
    {
     "name": "stdout",
     "output_type": "stream",
     "text": [
      "Found best architecture on note10 with latency <= 20.00 ms It achieves 80.59% predicted accuracy with 19.86 ms latency on note10.\n",
      "Architecture of the searched sub-net:\n",
      "3x3_Conv_O40_RELU6_BN\n",
      "(3x3_MBConv1_RELU6_O24_BN, None)\n",
      "((O32, E3.0, K3), None)\n",
      "((O32, E4.0, K3), Identity)\n",
      "((O56, E4.0, K3), None)\n",
      "((O56, E4.0, K3), Identity)\n",
      "((O104, E4.0, K5), None)\n",
      "((O104, E4.0, K7), Identity)\n",
      "((O104, E3.0, K5), Identity)\n",
      "((O128, E4.0, K3), None)\n",
      "((O128, E4.0, K5), Identity)\n",
      "((O128, E3.0, K3), Identity)\n",
      "((O248, E4.0, K7), None)\n",
      "((O248, E4.0, K3), Identity)\n",
      "((O248, E4.0, K7), Identity)\n",
      "((O416, E6.0, K7), None)\n",
      "1x1_Conv_O1664_RELU6_BN\n",
      "1664x1000_Linear\n",
      "\n"
     ]
    },
    {
     "name": "stderr",
     "output_type": "stream",
     "text": [
      "Searching with note10 constraint (25): 100%|██████████| 500/500 [00:22<00:00, 22.21it/s]\n",
      "Searching with note10 constraint (30):   1%|          | 3/500 [00:00<00:22, 21.79it/s]"
     ]
    },
    {
     "name": "stdout",
     "output_type": "stream",
     "text": [
      "Found best architecture on note10 with latency <= 25.00 ms It achieves 81.99% predicted accuracy with 24.95 ms latency on note10.\n",
      "Architecture of the searched sub-net:\n",
      "3x3_Conv_O40_RELU6_BN\n",
      "(3x3_MBConv1_RELU6_O24_BN, None)\n",
      "((O32, E4.0, K3), None)\n",
      "((O32, E3.0, K3), Identity)\n",
      "((O56, E4.0, K5), None)\n",
      "((O56, E6.0, K3), Identity)\n",
      "((O56, E3.0, K3), Identity)\n",
      "((O56, E3.0, K3), Identity)\n",
      "((O104, E4.0, K5), None)\n",
      "((O104, E3.0, K7), Identity)\n",
      "((O104, E4.0, K3), Identity)\n",
      "((O128, E4.0, K5), None)\n",
      "((O128, E4.0, K3), Identity)\n",
      "((O128, E6.0, K3), Identity)\n",
      "((O248, E6.0, K3), None)\n",
      "((O248, E6.0, K5), Identity)\n",
      "((O248, E6.0, K5), Identity)\n",
      "((O416, E6.0, K7), None)\n",
      "1x1_Conv_O1664_RELU6_BN\n",
      "1664x1000_Linear\n",
      "\n"
     ]
    },
    {
     "name": "stderr",
     "output_type": "stream",
     "text": [
      "Searching with note10 constraint (30): 100%|██████████| 500/500 [00:24<00:00, 20.24it/s]\n",
      "Searching with note10 constraint (35):   0%|          | 2/500 [00:00<00:26, 18.45it/s]"
     ]
    },
    {
     "name": "stdout",
     "output_type": "stream",
     "text": [
      "Found best architecture on note10 with latency <= 30.00 ms It achieves 82.48% predicted accuracy with 29.99 ms latency on note10.\n",
      "Architecture of the searched sub-net:\n",
      "3x3_Conv_O40_RELU6_BN\n",
      "(3x3_MBConv1_RELU6_O24_BN, None)\n",
      "((O32, E3.0, K3), None)\n",
      "((O32, E4.0, K3), Identity)\n",
      "((O56, E3.0, K7), None)\n",
      "((O56, E3.0, K7), Identity)\n",
      "((O56, E4.0, K3), Identity)\n",
      "((O104, E3.0, K7), None)\n",
      "((O104, E3.0, K7), Identity)\n",
      "((O104, E6.0, K5), Identity)\n",
      "((O128, E6.0, K7), None)\n",
      "((O128, E4.0, K7), Identity)\n",
      "((O128, E3.0, K3), Identity)\n",
      "((O248, E6.0, K3), None)\n",
      "((O248, E6.0, K7), Identity)\n",
      "((O248, E6.0, K3), Identity)\n",
      "((O416, E6.0, K7), None)\n",
      "1x1_Conv_O1664_RELU6_BN\n",
      "1664x1000_Linear\n",
      "\n"
     ]
    },
    {
     "name": "stderr",
     "output_type": "stream",
     "text": [
      "Searching with note10 constraint (35): 100%|██████████| 500/500 [00:24<00:00, 20.56it/s]\n",
      "Searching with note10 constraint (40):   1%|          | 3/500 [00:00<00:23, 21.07it/s]"
     ]
    },
    {
     "name": "stdout",
     "output_type": "stream",
     "text": [
      "Found best architecture on note10 with latency <= 35.00 ms It achieves 83.33% predicted accuracy with 34.54 ms latency on note10.\n",
      "Architecture of the searched sub-net:\n",
      "3x3_Conv_O40_RELU6_BN\n",
      "(3x3_MBConv1_RELU6_O24_BN, None)\n",
      "((O32, E4.0, K3), None)\n",
      "((O32, E3.0, K5), Identity)\n",
      "((O56, E4.0, K5), None)\n",
      "((O56, E4.0, K5), Identity)\n",
      "((O56, E4.0, K5), Identity)\n",
      "((O56, E3.0, K3), Identity)\n",
      "((O104, E4.0, K5), None)\n",
      "((O104, E4.0, K7), Identity)\n",
      "((O104, E3.0, K3), Identity)\n",
      "((O128, E4.0, K7), None)\n",
      "((O128, E4.0, K5), Identity)\n",
      "((O128, E4.0, K3), Identity)\n",
      "((O128, E4.0, K3), Identity)\n",
      "((O248, E6.0, K7), None)\n",
      "((O248, E6.0, K5), Identity)\n",
      "((O248, E6.0, K3), Identity)\n",
      "((O248, E4.0, K5), Identity)\n",
      "((O416, E6.0, K7), None)\n",
      "1x1_Conv_O1664_RELU6_BN\n",
      "1664x1000_Linear\n",
      "\n"
     ]
    },
    {
     "name": "stderr",
     "output_type": "stream",
     "text": [
      "Searching with note10 constraint (40): 100%|██████████| 500/500 [00:26<00:00, 18.73it/s]\n",
      "Searching with note10 constraint (45):   1%|          | 3/500 [00:00<00:22, 21.89it/s]"
     ]
    },
    {
     "name": "stdout",
     "output_type": "stream",
     "text": [
      "Found best architecture on note10 with latency <= 40.00 ms It achieves 83.64% predicted accuracy with 39.72 ms latency on note10.\n",
      "Architecture of the searched sub-net:\n",
      "3x3_Conv_O40_RELU6_BN\n",
      "(3x3_MBConv1_RELU6_O24_BN, None)\n",
      "((O32, E3.0, K3), None)\n",
      "((O32, E6.0, K3), Identity)\n",
      "((O56, E4.0, K5), None)\n",
      "((O56, E4.0, K3), Identity)\n",
      "((O56, E4.0, K3), Identity)\n",
      "((O56, E3.0, K5), Identity)\n",
      "((O104, E4.0, K7), None)\n",
      "((O104, E4.0, K5), Identity)\n",
      "((O104, E3.0, K3), Identity)\n",
      "((O104, E3.0, K5), Identity)\n",
      "((O128, E6.0, K3), None)\n",
      "((O128, E6.0, K5), Identity)\n",
      "((O128, E4.0, K5), Identity)\n",
      "((O128, E4.0, K3), Identity)\n",
      "((O248, E6.0, K5), None)\n",
      "((O248, E6.0, K3), Identity)\n",
      "((O248, E4.0, K3), Identity)\n",
      "((O248, E4.0, K7), Identity)\n",
      "((O416, E6.0, K7), None)\n",
      "1x1_Conv_O1664_RELU6_BN\n",
      "1664x1000_Linear\n",
      "\n"
     ]
    },
    {
     "name": "stderr",
     "output_type": "stream",
     "text": [
      "Searching with note10 constraint (45): 100%|██████████| 500/500 [00:23<00:00, 21.72it/s]\n",
      "Searching with note10 constraint (50):   1%|          | 3/500 [00:00<00:20, 24.20it/s]"
     ]
    },
    {
     "name": "stdout",
     "output_type": "stream",
     "text": [
      "Found best architecture on note10 with latency <= 45.00 ms It achieves 83.95% predicted accuracy with 44.76 ms latency on note10.\n",
      "Architecture of the searched sub-net:\n",
      "3x3_Conv_O40_RELU6_BN\n",
      "(3x3_MBConv1_RELU6_O24_BN, None)\n",
      "((O32, E3.0, K3), None)\n",
      "((O32, E3.0, K3), Identity)\n",
      "((O32, E3.0, K3), Identity)\n",
      "((O56, E6.0, K5), None)\n",
      "((O56, E6.0, K5), Identity)\n",
      "((O56, E4.0, K3), Identity)\n",
      "((O104, E4.0, K3), None)\n",
      "((O104, E3.0, K5), Identity)\n",
      "((O104, E4.0, K7), Identity)\n",
      "((O104, E6.0, K5), Identity)\n",
      "((O128, E6.0, K5), None)\n",
      "((O128, E6.0, K7), Identity)\n",
      "((O128, E6.0, K3), Identity)\n",
      "((O128, E3.0, K7), Identity)\n",
      "((O248, E6.0, K3), None)\n",
      "((O248, E6.0, K5), Identity)\n",
      "((O248, E6.0, K5), Identity)\n",
      "((O248, E4.0, K7), Identity)\n",
      "((O416, E6.0, K7), None)\n",
      "1x1_Conv_O1664_RELU6_BN\n",
      "1664x1000_Linear\n",
      "\n"
     ]
    },
    {
     "name": "stderr",
     "output_type": "stream",
     "text": [
      "Searching with note10 constraint (50): 100%|██████████| 500/500 [00:24<00:00, 20.47it/s]\n",
      "Searching with note10 constraint (55):   1%|          | 3/500 [00:00<00:19, 25.11it/s]"
     ]
    },
    {
     "name": "stdout",
     "output_type": "stream",
     "text": [
      "Found best architecture on note10 with latency <= 50.00 ms It achieves 84.45% predicted accuracy with 49.84 ms latency on note10.\n",
      "Architecture of the searched sub-net:\n",
      "3x3_Conv_O40_RELU6_BN\n",
      "(3x3_MBConv1_RELU6_O24_BN, None)\n",
      "((O32, E4.0, K5), None)\n",
      "((O32, E3.0, K3), Identity)\n",
      "((O32, E4.0, K5), Identity)\n",
      "((O56, E6.0, K3), None)\n",
      "((O56, E6.0, K5), Identity)\n",
      "((O56, E4.0, K3), Identity)\n",
      "((O56, E6.0, K3), Identity)\n",
      "((O104, E4.0, K5), None)\n",
      "((O104, E3.0, K7), Identity)\n",
      "((O104, E4.0, K3), Identity)\n",
      "((O104, E3.0, K7), Identity)\n",
      "((O128, E6.0, K7), None)\n",
      "((O128, E4.0, K5), Identity)\n",
      "((O128, E6.0, K7), Identity)\n",
      "((O128, E6.0, K5), Identity)\n",
      "((O248, E6.0, K3), None)\n",
      "((O248, E6.0, K3), Identity)\n",
      "((O248, E6.0, K5), Identity)\n",
      "((O248, E3.0, K5), Identity)\n",
      "((O416, E6.0, K7), None)\n",
      "1x1_Conv_O1664_RELU6_BN\n",
      "1664x1000_Linear\n",
      "\n"
     ]
    },
    {
     "name": "stderr",
     "output_type": "stream",
     "text": [
      "Searching with note10 constraint (55): 100%|██████████| 500/500 [00:20<00:00, 23.93it/s]\n",
      "Searching with note10 constraint (60):   1%|          | 3/500 [00:00<00:18, 26.48it/s]"
     ]
    },
    {
     "name": "stdout",
     "output_type": "stream",
     "text": [
      "Found best architecture on note10 with latency <= 55.00 ms It achieves 84.68% predicted accuracy with 53.43 ms latency on note10.\n",
      "Architecture of the searched sub-net:\n",
      "3x3_Conv_O40_RELU6_BN\n",
      "(3x3_MBConv1_RELU6_O24_BN, None)\n",
      "((O32, E4.0, K5), None)\n",
      "((O32, E4.0, K5), Identity)\n",
      "((O32, E3.0, K5), Identity)\n",
      "((O32, E4.0, K5), Identity)\n",
      "((O56, E6.0, K5), None)\n",
      "((O56, E4.0, K5), Identity)\n",
      "((O56, E6.0, K7), Identity)\n",
      "((O56, E6.0, K3), Identity)\n",
      "((O104, E6.0, K5), None)\n",
      "((O104, E4.0, K7), Identity)\n",
      "((O104, E4.0, K5), Identity)\n",
      "((O104, E6.0, K5), Identity)\n",
      "((O128, E4.0, K7), None)\n",
      "((O128, E6.0, K7), Identity)\n",
      "((O128, E6.0, K5), Identity)\n",
      "((O128, E6.0, K5), Identity)\n",
      "((O248, E6.0, K7), None)\n",
      "((O248, E6.0, K5), Identity)\n",
      "((O248, E6.0, K5), Identity)\n",
      "((O248, E4.0, K5), Identity)\n",
      "((O416, E6.0, K7), None)\n",
      "1x1_Conv_O1664_RELU6_BN\n",
      "1664x1000_Linear\n",
      "\n"
     ]
    },
    {
     "name": "stderr",
     "output_type": "stream",
     "text": [
      "Searching with note10 constraint (60): 100%|██████████| 500/500 [00:20<00:00, 24.50it/s]"
     ]
    },
    {
     "name": "stdout",
     "output_type": "stream",
     "text": [
      "Found best architecture on note10 with latency <= 60.00 ms It achieves 85.14% predicted accuracy with 59.89 ms latency on note10.\n",
      "Architecture of the searched sub-net:\n",
      "3x3_Conv_O40_RELU6_BN\n",
      "(3x3_MBConv1_RELU6_O24_BN, None)\n",
      "((O32, E4.0, K5), None)\n",
      "((O32, E4.0, K5), Identity)\n",
      "((O32, E4.0, K3), Identity)\n",
      "((O32, E4.0, K5), Identity)\n",
      "((O56, E6.0, K3), None)\n",
      "((O56, E6.0, K7), Identity)\n",
      "((O56, E4.0, K7), Identity)\n",
      "((O56, E6.0, K3), Identity)\n",
      "((O104, E4.0, K7), None)\n",
      "((O104, E6.0, K7), Identity)\n",
      "((O104, E6.0, K5), Identity)\n",
      "((O104, E6.0, K7), Identity)\n",
      "((O128, E6.0, K5), None)\n",
      "((O128, E6.0, K5), Identity)\n",
      "((O128, E6.0, K3), Identity)\n",
      "((O128, E6.0, K3), Identity)\n",
      "((O248, E6.0, K5), None)\n",
      "((O248, E6.0, K7), Identity)\n",
      "((O248, E6.0, K3), Identity)\n",
      "((O248, E3.0, K5), Identity)\n",
      "((O416, E6.0, K7), None)\n",
      "1x1_Conv_O1664_RELU6_BN\n",
      "1664x1000_Linear\n",
      "\n"
     ]
    },
    {
     "name": "stderr",
     "output_type": "stream",
     "text": [
      "\n"
     ]
    },
    {
     "data": {
      "text/plain": [
       "{15: 29.994638919830322,\n",
       " 20: 23.231650829315186,\n",
       " 25: 22.613791942596436,\n",
       " 30: 24.756764888763428,\n",
       " 35: 24.37135624885559,\n",
       " 40: 26.74148988723755,\n",
       " 45: 23.067010164260864,\n",
       " 50: 24.472725868225098,\n",
       " 55: 20.9291729927063,\n",
       " 60: 20.441585779190063}"
      ]
     },
     "execution_count": 26,
     "metadata": {},
     "output_type": "execute_result"
    }
   ],
   "source": [
    "for lc in latency_constraints:\n",
    "    times[lc] = run_vanilla_evolutionary_search([lc])\n",
    "times"
   ]
  },
  {
   "cell_type": "code",
   "execution_count": 27,
   "metadata": {},
   "outputs": [
    {
     "data": {
      "text/plain": [
       "dict_values([29.994638919830322, 23.231650829315186, 22.613791942596436, 24.756764888763428, 24.37135624885559, 26.74148988723755, 23.067010164260864, 24.472725868225098, 20.9291729927063, 20.441585779190063])"
      ]
     },
     "execution_count": 27,
     "metadata": {},
     "output_type": "execute_result"
    }
   ],
   "source": [
    "times.values()"
   ]
  },
  {
   "cell_type": "markdown",
   "metadata": {},
   "source": [
    "### ResNet50D"
   ]
  },
  {
   "cell_type": "markdown",
   "metadata": {},
   "source": [
    "### ProxylessNAS"
   ]
  },
  {
   "cell_type": "code",
   "execution_count": null,
   "metadata": {},
   "outputs": [],
   "source": []
  },
  {
   "cell_type": "code",
   "execution_count": null,
   "metadata": {},
   "outputs": [],
   "source": []
  },
  {
   "cell_type": "code",
   "execution_count": null,
   "metadata": {},
   "outputs": [],
   "source": []
  },
  {
   "cell_type": "code",
   "execution_count": null,
   "metadata": {},
   "outputs": [],
   "source": []
  },
  {
   "cell_type": "code",
   "execution_count": null,
   "metadata": {},
   "outputs": [],
   "source": []
  },
  {
   "cell_type": "code",
   "execution_count": null,
   "metadata": {},
   "outputs": [],
   "source": []
  },
  {
   "cell_type": "code",
   "execution_count": null,
   "metadata": {},
   "outputs": [],
   "source": []
  },
  {
   "cell_type": "code",
   "execution_count": null,
   "metadata": {},
   "outputs": [],
   "source": []
  },
  {
   "cell_type": "code",
   "execution_count": null,
   "metadata": {},
   "outputs": [],
   "source": []
  },
  {
   "cell_type": "code",
   "execution_count": null,
   "metadata": {},
   "outputs": [],
   "source": []
  },
  {
   "cell_type": "code",
   "execution_count": null,
   "metadata": {},
   "outputs": [],
   "source": []
  },
  {
   "cell_type": "code",
   "execution_count": null,
   "metadata": {},
   "outputs": [],
   "source": []
  },
  {
   "cell_type": "code",
   "execution_count": null,
   "metadata": {},
   "outputs": [],
   "source": []
  },
  {
   "cell_type": "code",
   "execution_count": null,
   "metadata": {},
   "outputs": [],
   "source": []
  },
  {
   "cell_type": "code",
   "execution_count": null,
   "metadata": {},
   "outputs": [],
   "source": []
  },
  {
   "cell_type": "code",
   "execution_count": null,
   "metadata": {},
   "outputs": [],
   "source": []
  },
  {
   "cell_type": "code",
   "execution_count": null,
   "metadata": {},
   "outputs": [],
   "source": []
  },
  {
   "cell_type": "code",
   "execution_count": null,
   "metadata": {},
   "outputs": [],
   "source": []
  },
  {
   "cell_type": "code",
   "execution_count": 23,
   "metadata": {},
   "outputs": [
    {
     "data": {
      "text/plain": [
       "247.85819578170776"
      ]
     },
     "execution_count": 23,
     "metadata": {},
     "output_type": "execute_result"
    }
   ],
   "source": []
  },
  {
   "cell_type": "markdown",
   "metadata": {},
   "source": [
    "# DEMO"
   ]
  },
  {
   "cell_type": "code",
   "execution_count": 26,
   "metadata": {},
   "outputs": [],
   "source": [
    "latency_constraints = (15, 20, 25, 30, 35)"
   ]
  },
  {
   "cell_type": "code",
   "execution_count": 27,
   "metadata": {},
   "outputs": [
    {
     "name": "stderr",
     "output_type": "stream",
     "text": [
      "Searching with note10 constraint (15): 100%|██████████| 500/500 [00:22<00:00, 22.07it/s]\n"
     ]
    },
    {
     "name": "stdout",
     "output_type": "stream",
     "text": [
      "Found best architecture on note10 with latency <= 15.00 ms It achieves 78.61% predicted accuracy with 14.93 ms latency on note10.\n",
      "Architecture of the searched sub-net:\n",
      "3x3_Conv_O24_H_SWISH_BN\n",
      "(3x3_MBConv1_RELU_O24_BN, Identity)\n",
      "((O32, E3.0, K3), None)\n",
      "((O32, E4.0, K3), Identity)\n",
      "(SE(O48, E4.0, K3), None)\n",
      "(SE(O48, E3.0, K3), Identity)\n",
      "(SE(O48, E3.0, K3), Identity)\n",
      "((O96, E4.0, K5), None)\n",
      "((O96, E3.0, K7), Identity)\n",
      "((O96, E3.0, K5), Identity)\n",
      "(SE(O136, E4.0, K3), None)\n",
      "(SE(O136, E4.0, K5), Identity)\n",
      "(SE(O136, E4.0, K3), Identity)\n",
      "(SE(O192, E4.0, K3), None)\n",
      "(SE(O192, E4.0, K3), Identity)\n",
      "(SE(O192, E4.0, K3), Identity)\n",
      "1x1_Conv_O1152_H_SWISH_BN\n",
      "1x1_Conv_O1536_H_SWISH\n",
      "1536x1000_Linear\n",
      "\n"
     ]
    },
    {
     "name": "stderr",
     "output_type": "stream",
     "text": [
      "Searching with note10 constraint (20): 100%|██████████| 500/500 [00:22<00:00, 22.38it/s]\n",
      "Searching with note10 constraint (25):   0%|          | 0/500 [00:00<?, ?it/s]"
     ]
    },
    {
     "name": "stdout",
     "output_type": "stream",
     "text": [
      "Found best architecture on note10 with latency <= 20.00 ms It achieves 80.46% predicted accuracy with 19.86 ms latency on note10.\n",
      "Architecture of the searched sub-net:\n",
      "3x3_Conv_O24_H_SWISH_BN\n",
      "(3x3_MBConv1_RELU_O24_BN, Identity)\n",
      "((O32, E3.0, K3), None)\n",
      "((O32, E3.0, K3), Identity)\n",
      "(SE(O48, E4.0, K3), None)\n",
      "(SE(O48, E4.0, K3), Identity)\n",
      "(SE(O48, E4.0, K3), Identity)\n",
      "((O96, E4.0, K7), None)\n",
      "((O96, E4.0, K3), Identity)\n",
      "(SE(O136, E3.0, K7), None)\n",
      "(SE(O136, E4.0, K5), Identity)\n",
      "(SE(O136, E4.0, K3), Identity)\n",
      "(SE(O136, E4.0, K3), Identity)\n",
      "(SE(O192, E6.0, K3), None)\n",
      "(SE(O192, E6.0, K3), Identity)\n",
      "(SE(O192, E4.0, K3), Identity)\n",
      "1x1_Conv_O1152_H_SWISH_BN\n",
      "1x1_Conv_O1536_H_SWISH\n",
      "1536x1000_Linear\n",
      "\n"
     ]
    },
    {
     "name": "stderr",
     "output_type": "stream",
     "text": [
      "Searching with note10 constraint (25): 100%|██████████| 500/500 [00:21<00:00, 22.91it/s]\n",
      "Searching with note10 constraint (30):   1%|          | 3/500 [00:00<00:21, 23.14it/s]"
     ]
    },
    {
     "name": "stdout",
     "output_type": "stream",
     "text": [
      "Found best architecture on note10 with latency <= 25.00 ms It achieves 81.69% predicted accuracy with 24.92 ms latency on note10.\n",
      "Architecture of the searched sub-net:\n",
      "3x3_Conv_O24_H_SWISH_BN\n",
      "(3x3_MBConv1_RELU_O24_BN, Identity)\n",
      "((O32, E3.0, K3), None)\n",
      "((O32, E4.0, K3), Identity)\n",
      "(SE(O48, E4.0, K3), None)\n",
      "(SE(O48, E4.0, K5), Identity)\n",
      "(SE(O48, E4.0, K3), Identity)\n",
      "((O96, E4.0, K7), None)\n",
      "((O96, E4.0, K3), Identity)\n",
      "((O96, E6.0, K3), Identity)\n",
      "((O96, E3.0, K3), Identity)\n",
      "(SE(O136, E6.0, K7), None)\n",
      "(SE(O136, E4.0, K5), Identity)\n",
      "(SE(O136, E3.0, K3), Identity)\n",
      "(SE(O192, E6.0, K3), None)\n",
      "(SE(O192, E6.0, K3), Identity)\n",
      "(SE(O192, E6.0, K5), Identity)\n",
      "1x1_Conv_O1152_H_SWISH_BN\n",
      "1x1_Conv_O1536_H_SWISH\n",
      "1536x1000_Linear\n",
      "\n"
     ]
    },
    {
     "name": "stderr",
     "output_type": "stream",
     "text": [
      "Searching with note10 constraint (30): 100%|██████████| 500/500 [00:22<00:00, 22.41it/s]\n",
      "Searching with note10 constraint (35):   0%|          | 2/500 [00:00<00:26, 18.94it/s]"
     ]
    },
    {
     "name": "stdout",
     "output_type": "stream",
     "text": [
      "Found best architecture on note10 with latency <= 30.00 ms It achieves 82.69% predicted accuracy with 29.96 ms latency on note10.\n",
      "Architecture of the searched sub-net:\n",
      "3x3_Conv_O24_H_SWISH_BN\n",
      "(3x3_MBConv1_RELU_O24_BN, Identity)\n",
      "((O32, E4.0, K3), None)\n",
      "((O32, E4.0, K3), Identity)\n",
      "(SE(O48, E4.0, K3), None)\n",
      "(SE(O48, E6.0, K5), Identity)\n",
      "(SE(O48, E4.0, K3), Identity)\n",
      "(SE(O48, E3.0, K3), Identity)\n",
      "((O96, E4.0, K5), None)\n",
      "((O96, E4.0, K3), Identity)\n",
      "((O96, E3.0, K7), Identity)\n",
      "((O96, E3.0, K3), Identity)\n",
      "(SE(O136, E6.0, K7), None)\n",
      "(SE(O136, E4.0, K5), Identity)\n",
      "(SE(O136, E4.0, K3), Identity)\n",
      "(SE(O136, E6.0, K3), Identity)\n",
      "(SE(O192, E6.0, K3), None)\n",
      "(SE(O192, E6.0, K3), Identity)\n",
      "(SE(O192, E6.0, K3), Identity)\n",
      "(SE(O192, E3.0, K7), Identity)\n",
      "1x1_Conv_O1152_H_SWISH_BN\n",
      "1x1_Conv_O1536_H_SWISH\n",
      "1536x1000_Linear\n",
      "\n"
     ]
    },
    {
     "name": "stderr",
     "output_type": "stream",
     "text": [
      "Searching with note10 constraint (35): 100%|██████████| 500/500 [00:27<00:00, 18.32it/s]\n",
      "Searching with note10 constraint (40):   0%|          | 2/500 [00:00<00:26, 18.76it/s]"
     ]
    },
    {
     "name": "stdout",
     "output_type": "stream",
     "text": [
      "Found best architecture on note10 with latency <= 35.00 ms It achieves 83.50% predicted accuracy with 34.87 ms latency on note10.\n",
      "Architecture of the searched sub-net:\n",
      "3x3_Conv_O24_H_SWISH_BN\n",
      "(3x3_MBConv1_RELU_O24_BN, Identity)\n",
      "((O32, E4.0, K3), None)\n",
      "((O32, E4.0, K5), Identity)\n",
      "(SE(O48, E4.0, K5), None)\n",
      "(SE(O48, E6.0, K3), Identity)\n",
      "(SE(O48, E4.0, K7), Identity)\n",
      "(SE(O48, E6.0, K3), Identity)\n",
      "((O96, E4.0, K7), None)\n",
      "((O96, E4.0, K7), Identity)\n",
      "((O96, E6.0, K3), Identity)\n",
      "((O96, E6.0, K7), Identity)\n",
      "(SE(O136, E6.0, K7), None)\n",
      "(SE(O136, E4.0, K7), Identity)\n",
      "(SE(O136, E6.0, K3), Identity)\n",
      "(SE(O136, E4.0, K3), Identity)\n",
      "(SE(O192, E6.0, K5), None)\n",
      "(SE(O192, E6.0, K5), Identity)\n",
      "(SE(O192, E6.0, K3), Identity)\n",
      "(SE(O192, E3.0, K5), Identity)\n",
      "1x1_Conv_O1152_H_SWISH_BN\n",
      "1x1_Conv_O1536_H_SWISH\n",
      "1536x1000_Linear\n",
      "\n"
     ]
    },
    {
     "name": "stderr",
     "output_type": "stream",
     "text": [
      "Searching with note10 constraint (40): 100%|██████████| 500/500 [00:26<00:00, 18.85it/s]\n",
      "Searching with note10 constraint (45):   1%|          | 3/500 [00:00<00:24, 20.22it/s]"
     ]
    },
    {
     "name": "stdout",
     "output_type": "stream",
     "text": [
      "Found best architecture on note10 with latency <= 40.00 ms It achieves 83.86% predicted accuracy with 39.24 ms latency on note10.\n",
      "Architecture of the searched sub-net:\n",
      "3x3_Conv_O24_H_SWISH_BN\n",
      "(3x3_MBConv1_RELU_O24_BN, Identity)\n",
      "((O32, E4.0, K3), None)\n",
      "((O32, E3.0, K5), Identity)\n",
      "(SE(O48, E6.0, K5), None)\n",
      "(SE(O48, E6.0, K5), Identity)\n",
      "(SE(O48, E4.0, K3), Identity)\n",
      "(SE(O48, E4.0, K5), Identity)\n",
      "((O96, E4.0, K3), None)\n",
      "((O96, E3.0, K7), Identity)\n",
      "((O96, E4.0, K3), Identity)\n",
      "((O96, E6.0, K5), Identity)\n",
      "(SE(O136, E4.0, K5), None)\n",
      "(SE(O136, E6.0, K3), Identity)\n",
      "(SE(O136, E6.0, K5), Identity)\n",
      "(SE(O136, E3.0, K5), Identity)\n",
      "(SE(O192, E6.0, K3), None)\n",
      "(SE(O192, E6.0, K5), Identity)\n",
      "(SE(O192, E6.0, K5), Identity)\n",
      "(SE(O192, E3.0, K5), Identity)\n",
      "1x1_Conv_O1152_H_SWISH_BN\n",
      "1x1_Conv_O1536_H_SWISH\n",
      "1536x1000_Linear\n",
      "\n"
     ]
    },
    {
     "name": "stderr",
     "output_type": "stream",
     "text": [
      "Searching with note10 constraint (45): 100%|██████████| 500/500 [00:22<00:00, 22.69it/s]\n",
      "Searching with note10 constraint (50):   1%|          | 3/500 [00:00<00:22, 22.06it/s]"
     ]
    },
    {
     "name": "stdout",
     "output_type": "stream",
     "text": [
      "Found best architecture on note10 with latency <= 45.00 ms It achieves 83.95% predicted accuracy with 43.81 ms latency on note10.\n",
      "Architecture of the searched sub-net:\n",
      "3x3_Conv_O24_H_SWISH_BN\n",
      "(3x3_MBConv1_RELU_O24_BN, Identity)\n",
      "((O32, E6.0, K3), None)\n",
      "((O32, E4.0, K5), Identity)\n",
      "(SE(O48, E3.0, K3), None)\n",
      "(SE(O48, E6.0, K5), Identity)\n",
      "(SE(O48, E4.0, K7), Identity)\n",
      "(SE(O48, E3.0, K3), Identity)\n",
      "((O96, E6.0, K5), None)\n",
      "((O96, E6.0, K3), Identity)\n",
      "((O96, E4.0, K3), Identity)\n",
      "((O96, E6.0, K7), Identity)\n",
      "(SE(O136, E6.0, K7), None)\n",
      "(SE(O136, E6.0, K7), Identity)\n",
      "(SE(O136, E6.0, K5), Identity)\n",
      "(SE(O136, E3.0, K3), Identity)\n",
      "(SE(O192, E6.0, K7), None)\n",
      "(SE(O192, E6.0, K3), Identity)\n",
      "(SE(O192, E6.0, K5), Identity)\n",
      "(SE(O192, E3.0, K5), Identity)\n",
      "1x1_Conv_O1152_H_SWISH_BN\n",
      "1x1_Conv_O1536_H_SWISH\n",
      "1536x1000_Linear\n",
      "\n"
     ]
    },
    {
     "name": "stderr",
     "output_type": "stream",
     "text": [
      "Searching with note10 constraint (50): 100%|██████████| 500/500 [00:23<00:00, 21.32it/s]\n",
      "Searching with note10 constraint (55):   1%|          | 3/500 [00:00<00:20, 24.09it/s]"
     ]
    },
    {
     "name": "stdout",
     "output_type": "stream",
     "text": [
      "Found best architecture on note10 with latency <= 50.00 ms It achieves 84.32% predicted accuracy with 49.96 ms latency on note10.\n",
      "Architecture of the searched sub-net:\n",
      "3x3_Conv_O24_H_SWISH_BN\n",
      "(3x3_MBConv1_RELU_O24_BN, Identity)\n",
      "((O32, E4.0, K3), None)\n",
      "((O32, E3.0, K5), Identity)\n",
      "((O32, E3.0, K3), Identity)\n",
      "(SE(O48, E4.0, K5), None)\n",
      "(SE(O48, E6.0, K5), Identity)\n",
      "(SE(O48, E3.0, K5), Identity)\n",
      "(SE(O48, E3.0, K5), Identity)\n",
      "((O96, E4.0, K5), None)\n",
      "((O96, E3.0, K7), Identity)\n",
      "((O96, E3.0, K3), Identity)\n",
      "((O96, E6.0, K7), Identity)\n",
      "(SE(O136, E6.0, K5), None)\n",
      "(SE(O136, E6.0, K7), Identity)\n",
      "(SE(O136, E6.0, K7), Identity)\n",
      "(SE(O136, E6.0, K3), Identity)\n",
      "(SE(O192, E6.0, K3), None)\n",
      "(SE(O192, E6.0, K5), Identity)\n",
      "(SE(O192, E6.0, K5), Identity)\n",
      "(SE(O192, E6.0, K5), Identity)\n",
      "1x1_Conv_O1152_H_SWISH_BN\n",
      "1x1_Conv_O1536_H_SWISH\n",
      "1536x1000_Linear\n",
      "\n"
     ]
    },
    {
     "name": "stderr",
     "output_type": "stream",
     "text": [
      "Searching with note10 constraint (55): 100%|██████████| 500/500 [00:23<00:00, 21.33it/s]\n",
      "Searching with note10 constraint (60):   1%|          | 3/500 [00:00<00:22, 21.98it/s]"
     ]
    },
    {
     "name": "stdout",
     "output_type": "stream",
     "text": [
      "Found best architecture on note10 with latency <= 55.00 ms It achieves 84.93% predicted accuracy with 54.66 ms latency on note10.\n",
      "Architecture of the searched sub-net:\n",
      "3x3_Conv_O24_H_SWISH_BN\n",
      "(3x3_MBConv1_RELU_O24_BN, Identity)\n",
      "((O32, E4.0, K5), None)\n",
      "((O32, E6.0, K5), Identity)\n",
      "((O32, E6.0, K3), Identity)\n",
      "(SE(O48, E6.0, K5), None)\n",
      "(SE(O48, E6.0, K5), Identity)\n",
      "(SE(O48, E3.0, K7), Identity)\n",
      "(SE(O48, E3.0, K5), Identity)\n",
      "((O96, E4.0, K7), None)\n",
      "((O96, E3.0, K7), Identity)\n",
      "((O96, E6.0, K3), Identity)\n",
      "((O96, E6.0, K7), Identity)\n",
      "(SE(O136, E6.0, K3), None)\n",
      "(SE(O136, E6.0, K5), Identity)\n",
      "(SE(O136, E6.0, K3), Identity)\n",
      "(SE(O136, E4.0, K3), Identity)\n",
      "(SE(O192, E6.0, K5), None)\n",
      "(SE(O192, E6.0, K3), Identity)\n",
      "(SE(O192, E6.0, K5), Identity)\n",
      "(SE(O192, E4.0, K7), Identity)\n",
      "1x1_Conv_O1152_H_SWISH_BN\n",
      "1x1_Conv_O1536_H_SWISH\n",
      "1536x1000_Linear\n",
      "\n"
     ]
    },
    {
     "name": "stderr",
     "output_type": "stream",
     "text": [
      "Searching with note10 constraint (60): 100%|██████████| 500/500 [00:24<00:00, 20.69it/s]"
     ]
    },
    {
     "name": "stdout",
     "output_type": "stream",
     "text": [
      "Found best architecture on note10 with latency <= 60.00 ms It achieves 84.65% predicted accuracy with 59.98 ms latency on note10.\n",
      "Architecture of the searched sub-net:\n",
      "3x3_Conv_O24_H_SWISH_BN\n",
      "(3x3_MBConv1_RELU_O24_BN, Identity)\n",
      "((O32, E6.0, K5), None)\n",
      "((O32, E3.0, K5), Identity)\n",
      "((O32, E3.0, K7), Identity)\n",
      "(SE(O48, E6.0, K5), None)\n",
      "(SE(O48, E6.0, K5), Identity)\n",
      "(SE(O48, E4.0, K5), Identity)\n",
      "(SE(O48, E6.0, K3), Identity)\n",
      "((O96, E4.0, K5), None)\n",
      "((O96, E6.0, K7), Identity)\n",
      "((O96, E4.0, K7), Identity)\n",
      "((O96, E6.0, K5), Identity)\n",
      "(SE(O136, E6.0, K7), None)\n",
      "(SE(O136, E6.0, K7), Identity)\n",
      "(SE(O136, E6.0, K7), Identity)\n",
      "(SE(O136, E6.0, K5), Identity)\n",
      "(SE(O192, E6.0, K3), None)\n",
      "(SE(O192, E6.0, K5), Identity)\n",
      "(SE(O192, E6.0, K5), Identity)\n",
      "(SE(O192, E4.0, K5), Identity)\n",
      "1x1_Conv_O1152_H_SWISH_BN\n",
      "1x1_Conv_O1536_H_SWISH\n",
      "1536x1000_Linear\n",
      "\n"
     ]
    },
    {
     "name": "stderr",
     "output_type": "stream",
     "text": [
      "\n"
     ]
    },
    {
     "data": {
      "text/plain": [
       "246.21814894676208"
      ]
     },
     "execution_count": 27,
     "metadata": {},
     "output_type": "execute_result"
    }
   ],
   "source": [
    "run_vanilla_evolutionary_search(latency_constraints)"
   ]
  },
  {
   "cell_type": "code",
   "execution_count": null,
   "metadata": {},
   "outputs": [],
   "source": []
  }
 ],
 "metadata": {
  "kernelspec": {
   "display_name": "Python 3",
   "language": "python",
   "name": "python3"
  },
  "language_info": {
   "codemirror_mode": {
    "name": "ipython",
    "version": 3
   },
   "file_extension": ".py",
   "mimetype": "text/x-python",
   "name": "python",
   "nbconvert_exporter": "python",
   "pygments_lexer": "ipython3",
   "version": "3.7.5"
  }
 },
 "nbformat": 4,
 "nbformat_minor": 2
}
